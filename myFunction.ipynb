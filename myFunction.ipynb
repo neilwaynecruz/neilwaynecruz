{
 "cells": [
  {
   "cell_type": "code",
   "execution_count": null,
   "id": "bdf7a0f4-edb8-47bc-b267-67d524e8fa4a",
   "metadata": {},
   "outputs": [],
   "source": [
    "!pip install nbimporter\n",
    "\n",
    "# myFunction.ipynb\n",
    "\n",
    "def square(x):\n",
    "    return x * x\n",
    "\n",
    "def prod(a, b):\n",
    "    return a * b\n",
    "\n",
    "def sum(a, b):\n",
    "    return a + b\n",
    "\n",
    "def transg(x, y):\n",
    "    return (x + y) / 2  # Example function"
   ]
  },
  {
   "cell_type": "code",
   "execution_count": null,
   "id": "4d9a9e31-c97d-46b5-900e-9c0dd25f5bf2",
   "metadata": {},
   "outputs": [],
   "source": []
  }
 ],
 "metadata": {
  "kernelspec": {
   "display_name": "Python 3",
   "language": "python",
   "name": "python3"
  },
  "language_info": {
   "codemirror_mode": {
    "name": "ipython",
    "version": 3
   },
   "file_extension": ".py",
   "mimetype": "text/x-python",
   "name": "python",
   "nbconvert_exporter": "python",
   "pygments_lexer": "ipython3",
   "version": "3.12.7"
  }
 },
 "nbformat": 4,
 "nbformat_minor": 5
}
