{
 "cells": [
  {
   "cell_type": "code",
   "execution_count": null,
   "id": "6112cff1-0aea-404a-9603-a6d3bba9dde2",
   "metadata": {},
   "outputs": [],
   "source": [
    "print(\"First Program - Python print function\")\n",
    "print(\"It is declared like this: \")\n",
    "print(\"print(\\\"What to print\\\")\")"
   ]
  },
  {
   "cell_type": "code",
   "execution_count": null,
   "id": "f2248e0d-18cb-4c5d-bef9-0cef4674f389",
   "metadata": {},
   "outputs": [],
   "source": [
    "print(\"Hello World \\nHello World \\nHello World\")\n",
    "\n",
    "name = \"NEIL\"\n",
    "name2 = \"WAYNE\"\n",
    "print(name + \" \" + name2)"
   ]
  },
  {
   "cell_type": "code",
   "execution_count": null,
   "id": "2c107c0a-1776-46e0-9b4c-f1f694f88080",
   "metadata": {},
   "outputs": [],
   "source": [
    "# # METHOD 1\n",
    "# print(\"String Manipulation Exercise\")\n",
    "# print(\"String Concatenation is done with \\\"+\\\" sign\")\n",
    "# print(\"e.g. print(\\\"Hello\\\" + \\\"Jenny\\\")\")\n",
    "# print(\"New lines can be created with a backslash and n\")\n",
    "\n",
    "# METHOD 2\n",
    "print(\"String Manipulation Exercise\\nString Concatenation is done with \\\"+\\\" sign\\ne.g. print(\\\"Hello\\\" + \\\"Jenny\\\")\\nNew lines can be created with a backslash and n\")"
   ]
  },
  {
   "cell_type": "code",
   "execution_count": null,
   "id": "aa2ac3e6-bb33-4d2e-afe8-17020ffc878a",
   "metadata": {},
   "outputs": [],
   "source": [
    "# a = input(\"what is your name: \")\n",
    "\n",
    "# print(\"Hey \" + input(\"What is your name?:\") + \",\" + \" how are you?\")\n",
    "\n",
    "name = input(\"What is your name?\")\n",
    "print(\"Hey \" + name + \",\" + \" how are you?\")\n",
    "\n"
   ]
  },
  {
   "cell_type": "code",
   "execution_count": null,
   "id": "11fcc171-77db-4a82-b4d9-429036b38e37",
   "metadata": {},
   "outputs": [],
   "source": [
    "name = input(\"What is your name?\")\n",
    "print(len(name))\n",
    "\n",
    "\n",
    "print(name + \" Cruz\")\n"
   ]
  },
  {
   "cell_type": "code",
   "execution_count": null,
   "id": "fe0c9551-d56c-43b3-8252-029e37cac8e1",
   "metadata": {},
   "outputs": [],
   "source": [
    "a = input(\"Enter value of a = \")\n",
    "b = input(\"Enter value of b = \")\n",
    "\n",
    "c = a\n",
    "a = b\n",
    "b = c\n",
    "\n",
    "print(\"a = \" + a)\n",
    "print(\"b = \" + b)"
   ]
  },
  {
   "cell_type": "code",
   "execution_count": null,
   "id": "c5eecaa1-c952-4fa5-8e84-596c9f94e5f3",
   "metadata": {},
   "outputs": [],
   "source": [
    "num1 = int(input(\"Enter a first number:\"))\n",
    "num2 = int(input(\"Enter a second number:\"))\n",
    "\n",
    "print(\"Sum =\", (num1 + num2))"
   ]
  },
  {
   "cell_type": "code",
   "execution_count": null,
   "id": "9f7b15c8-926a-410d-bdad-f4bed7049464",
   "metadata": {},
   "outputs": [],
   "source": [
    "num1 = input(\"Enter a 2 digit number:\")\n",
    "sum1 = int(num1[0]) + int(num1[1])\n",
    "\n",
    "print(sum1)"
   ]
  },
  {
   "cell_type": "code",
   "execution_count": null,
   "id": "c1223a56-7708-4b0f-b4e8-63c221a8a25d",
   "metadata": {},
   "outputs": [],
   "source": [
    "nums = []\n",
    "\n",
    "for i in range (2):\n",
    "    add1 = int(input(\"Enter a number \" + str(i + 1)))\n",
    "    nums.append(add1)\n",
    "\n",
    "\n",
    "print(nums[0] + nums[1])\n"
   ]
  },
  {
   "cell_type": "code",
   "execution_count": null,
   "id": "abec2076-4716-4bb1-a863-5ff6c4f5807a",
   "metadata": {},
   "outputs": [],
   "source": [
    "# Operators in Python (Ordered by Precedence from High to Low)\n",
    "\n",
    "# Parentheses (Grouping Operator)\n",
    "# ()  - Used to override the default precedence of operators (Highest precedence)\n",
    "\n",
    "# Arithmetic Operators\n",
    "# **  (exponentiation (right to left))    (returns int or float)\n",
    "# *   (multiplication (left to right))    (returns int or float)\n",
    "# /   (division (left to right))          (returns float)\n",
    "# %   (modulus/remainder (left to right)) (returns int)\n",
    "# //  (floor division (left to right))    (returns int)\n",
    "# +   (addition (left to right))          (returns int or float)\n",
    "# -   (subtraction (left to right))       (returns int or float)\n",
    "\n",
    "# Bitwise NOT Operator (complement)\n",
    "# ~   (bitwise NOT (complement) (unary, highest precedence in bitwise ops)) # -(x+1)\n",
    "\n",
    "# Bitwise Shift Operators\n",
    "# <<  (left shift (left to right))  # x*2^n (we gain bits in left shift)\n",
    "# >>  (right shift (left to right)) # x/2^n (we lose bits in right shift)\n",
    "\n",
    "# Bitwise AND, XOR, OR Operators\n",
    "# &   (bitwise AND (left to right))\n",
    "# ^   (bitwise XOR (left to right))\n",
    "# |   (bitwise OR (left to right))\n",
    "\n",
    "# Comparison Operators (Relational Operators)\n",
    "# <   (less than)\n",
    "# >   (greater than)\n",
    "# <=  (less than or equal to)\n",
    "# >=  (greater than or equal to)\n",
    "# ==  (equal to)\n",
    "# !=  (not equal to)\n",
    "\n",
    "# Identity Operators\n",
    "# is      (returns True if both variables refer to the same object)\n",
    "# is not  (returns True if both variables do not refer to the same object)\n",
    "\n",
    "# Membership Operators\n",
    "# in      (returns True if a value is found in a sequence)\n",
    "# not in  (returns True if a value is not found in a sequence)\n",
    "\n",
    "# Logical Operators\n",
    "# not  (logical NOT)   same as Java: ! (highest precedence among logical operators)\n",
    "# and  (logical AND)   same as Java: &&\n",
    "# or   (logical OR)    same as Java: ||\n",
    "\n",
    "# Assignment Operators (Augmented Assignment Operators)\n",
    "# a **= 2  same as:  a = a ** 2\n",
    "# a *=  2  same as:  a = a *  2\n",
    "# a /=  2  same as:  a = a /  2\n",
    "# a //= 2  same as:  a = a // 2\n",
    "# a %=  2  same as:  a = a %  2\n",
    "# a +=  2  same as:  a = a +  2\n",
    "# a -=  2  same as:  a = a -  2\n",
    "# a &=  2  same as:  a = a &  2\n",
    "# a ^=  2  same as:  a = a ^  2\n",
    "# a |=  2  same as:  a = a |  2\n",
    "# a <<= 2  same as:  a = a << 2\n",
    "# a >>= 2  same as:  a = a >> 2\n"
   ]
  },
  {
   "cell_type": "code",
   "execution_count": null,
   "id": "6b4d9af3-9e1d-4f0a-9052-2ad4d5727a40",
   "metadata": {},
   "outputs": [],
   "source": [
    "# in lbs(weight) and inches(height)\n",
    "\n",
    "\n",
    "# weight = float(input(\"Enter your WEIGHT (in lbs):\"))\n",
    "# height = float(input(\"Enter your HEIGHT (in inches):\"))\n",
    "\n",
    "# BMI = (weight / (height * height)) * 703\n",
    "\n",
    "# print(f\"Your BMI is {BMI:.2f}\")\n",
    "\n",
    "# in kg(weight) and meter (height)\n",
    "\n",
    "weight = float(input(\"Enter your WEIGHT (in kg):\"))\n",
    "height = float(input(\"Enter your HEIGHT (in meter):\"))\n",
    "\n",
    "BMI = (weight / (height ** 2))\n",
    "\n",
    "print(f\"Your BMI is {BMI:.2f}\")\n",
    "# print(\"Your BMU is \",BMI)\n"
   ]
  },
  {
   "cell_type": "code",
   "execution_count": null,
   "id": "d2b27eaa-d058-4c0a-9070-a7068bff8c94",
   "metadata": {},
   "outputs": [],
   "source": [
    "a = 5\n",
    "b = 5\n",
    "\n",
    "print(id(a))\n",
    "print(id(b))"
   ]
  },
  {
   "cell_type": "code",
   "execution_count": null,
   "id": "a727816b-8228-472e-b392-3496ff0adfa7",
   "metadata": {},
   "outputs": [],
   "source": [
    "a = 5\n",
    "a = 8\n",
    "print(a is a)"
   ]
  },
  {
   "cell_type": "code",
   "execution_count": null,
   "id": "242c2828-e0c3-4d32-9eef-f902a9c7cb5c",
   "metadata": {},
   "outputs": [],
   "source": [
    "round(6212.156,-1)"
   ]
  },
  {
   "cell_type": "code",
   "execution_count": null,
   "id": "3b0f922b-83db-4205-8b9a-eb606b365a8c",
   "metadata": {},
   "outputs": [],
   "source": [
    "!pip install nbimporter\n",
    "\n",
    "def square(x):\n",
    "    return x * x\n",
    "\n",
    "def prod(a, b):\n",
    "    return a * b\n",
    "\n",
    "def sum(a, b):\n",
    "    return a + b\n",
    "\n",
    "def transg(x, y):\n",
    "    return (x + y) / 2  # Example function"
   ]
  },
  {
   "cell_type": "code",
   "execution_count": null,
   "id": "b1b1f06d-ba16-4e6b-b963-656a7b22354b",
   "metadata": {},
   "outputs": [],
   "source": [
    "age = int(input(\"Enter your age:\"))\n",
    "\n",
    "years_left = 90 - age\n",
    "\n",
    "days   = years_left * 365 \n",
    "months = years_left * 12\n",
    "weeks  = years_left * 52\n",
    "\n",
    "print(f\"You have a {days:,}, {weeks:,} weeks and {months:,} months left\")\n"
   ]
  },
  {
   "cell_type": "code",
   "execution_count": null,
   "id": "dec118e2-5b48-42bc-b32e-c541aaa7fc07",
   "metadata": {},
   "outputs": [],
   "source": [
    "# if else\n",
    "nums = 1\n",
    "\n",
    "while nums > 0:\n",
    "    nums = int(input(\"Enter a number:\"))\n",
    "    print(\"EVEN\" if nums % 2 == 0 else \"ODD\")\n",
    "\n",
    "print()\n",
    "print(\"-------------------\")\n",
    "print(\"  END OF PROGRAM   \")\n",
    "print(\"-------------------\")"
   ]
  },
  {
   "cell_type": "code",
   "execution_count": null,
   "id": "716f835e-3c21-4a52-9c61-8ed50ef33190",
   "metadata": {},
   "outputs": [],
   "source": [
    "\n",
    "def calculate_bmi(weight, height, unit_w, unit_h):\n",
    "    if unit_w == \"kg\" and unit_h == \"m\":\n",
    "        return weight / (height ** 2)\n",
    "    elif unit_w == \"kg\" and unit_h == \"inch\":\n",
    "        return (weight / (height ** 2)) * 1550\n",
    "    elif unit_w == \"lbs\" and unit_h == \"m\":\n",
    "        return (weight * 0.453592) / (height ** 2)\n",
    "    elif unit_w == \"lbs\" and unit_h == \"inch\":\n",
    "        return (weight / (height ** 2)) * 703\n",
    "    else:\n",
    "        return None\n",
    "\n",
    "def categorize_bmi(bmi):\n",
    "    if bmi < 16.0:\n",
    "        return \"Underweight (Severe thinness)\"\n",
    "    elif bmi <= 16.9:\n",
    "        return \"Underweight (Moderate thinness)\"\n",
    "    elif bmi <= 18.4:\n",
    "        return \"Underweight (Mild thinness)\"\n",
    "    elif bmi <= 24.9:\n",
    "        return \"Normal range\"\n",
    "    elif bmi <= 29.9:\n",
    "        return \"Overweight (Pre-obese)\"\n",
    "    elif bmi <= 34.9:\n",
    "        return \"Obese (Class-I)\"\n",
    "    elif bmi <= 39.9:\n",
    "        return \"Obese (Class-II)\"\n",
    "    else:\n",
    "        return \"Obese (Class-III)\"\n",
    "\n",
    "choice1 = input(\"What unit of mass you want to convert your weight (kg or lbs)?:\").lower()\n",
    "choice2 = input(\"What unit of measurement you want to convert your height (m or inch)?:\").lower()\n",
    "\n",
    "weight = float(input(f\"Enter your WEIGHT (in {choice1}): \"))\n",
    "height = float(input(f\"Enter your HEIGHT (in {choice2}): \"))\n",
    "\n",
    "bmi = calculate_bmi(weight = weight, height = height, unit_w = choice1, unit_h = choice2)\n",
    "print()\n",
    "\n",
    "if bmi:\n",
    "    print(f\"Your BMI is: {bmi:.2f}\")\n",
    "    print(f\"You are in the category of: {categorize_bmi(bmi)}\")\n",
    "else:\n",
    "    print(\"Invalid input. Please enter valid units.\")\n"
   ]
  },
  {
   "cell_type": "code",
   "execution_count": 211,
   "id": "cab48221-4d09-4168-a492-6e2ae882ab02",
   "metadata": {},
   "outputs": [
    {
     "name": "stdout",
     "output_type": "stream",
     "text": [
      "\n",
      "                                                    Pizza Order Program:\n",
      "                                                     Small Pizza  = 100\n",
      "                                                     Medium Pizza = 200\n",
      "                                                     Large Pizza  = 300\n",
      "                                                     Extra Cheese (all sizes)    = 20\n",
      "                                                     Extra Pepperoni (for small) = 30\n",
      "                                                     Extra Pepperoni (for medium and large) = 50 \n",
      "\n"
     ]
    },
    {
     "name": "stdin",
     "output_type": "stream",
     "text": [
      "What size of pizza do you want to buy (S, M, L)?:  l\n"
     ]
    },
    {
     "name": "stdout",
     "output_type": "stream",
     "text": [
      "\n"
     ]
    },
    {
     "name": "stdin",
     "output_type": "stream",
     "text": [
      "Do you want to add pepperoni for the pizza? (Y/N):  g\n"
     ]
    },
    {
     "name": "stdout",
     "output_type": "stream",
     "text": [
      "Invalid choice. Try again.\n"
     ]
    }
   ],
   "source": [
    "print(\"\"\"\n",
    "                                                    Pizza Order Program:\n",
    "                                                     Small Pizza  = 100\n",
    "                                                     Medium Pizza = 200\n",
    "                                                     Large Pizza  = 300\n",
    "                                                     Extra Cheese (all sizes)    = 20\n",
    "                                                     Extra Pepperoni (for small) = 30\n",
    "                                                     Extra Pepperoni (for medium and large) = 50 \n",
    "\"\"\")\n",
    "\n",
    "def adds_on(total, choice):\n",
    "    additionals = input(\"Do you want to add pepperoni for the pizza? (Y/N): \").upper()\n",
    "    if additionals == \"Y\":\n",
    "        if choice == \"S\":\n",
    "            total += 30\n",
    "        elif choice in [\"M\", \"L\"]:\n",
    "            total += 50\n",
    "    elif additionals != \"N\":\n",
    "        print(\"Invalid choice. Try again.\")\n",
    "        return None  \n",
    "            \n",
    "    additionals = input(\"Do you want to add cheese for the pizza? (Y/N): \").upper()\n",
    "    if additionals == \"Y\":\n",
    "        total += 20\n",
    "    elif additionals != \"N\":  # If not 'N', it's an invalid choice\n",
    "        print(\"Invalid choice. Try again.\")\n",
    "        return None  \n",
    "\n",
    "    return total\n",
    "\n",
    "choice = input(\"What size of pizza do you want to buy (S, M, L)?: \").upper()\n",
    "print()\n",
    "total = 0\n",
    "\n",
    "if choice == \"S\":\n",
    "    total = 100\n",
    "elif choice == \"M\":\n",
    "    total = 200\n",
    "elif choice == \"L\":\n",
    "    total = 300\n",
    "else:\n",
    "    print(f\"{choice} is an invalid choice!!\")\n",
    "    total = None  # Set total to None for invalid choice\n",
    "\n",
    "# Call the function only if the choice was valid\n",
    "if total is not None:\n",
    "    total = adds_on(total, choice)  \n",
    "\n",
    "if total is not None:  # Check if total is still valid before printing\n",
    "    print(f\"\\nYour total purchase is: {total}\")\n"
   ]
  },
  {
   "cell_type": "code",
   "execution_count": null,
   "id": "8ef726e9-fde9-4d20-a42b-4621f16af471",
   "metadata": {},
   "outputs": [],
   "source": []
  }
 ],
 "metadata": {
  "kernelspec": {
   "display_name": "Python 3",
   "language": "python",
   "name": "python3"
  },
  "language_info": {
   "codemirror_mode": {
    "name": "ipython",
    "version": 3
   },
   "file_extension": ".py",
   "mimetype": "text/x-python",
   "name": "python",
   "nbconvert_exporter": "python",
   "pygments_lexer": "ipython3",
   "version": "3.12.7"
  }
 },
 "nbformat": 4,
 "nbformat_minor": 5
}
