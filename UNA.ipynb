{
 "cells": [
  {
   "cell_type": "markdown",
   "id": "91fc8161-7478-42d2-b18e-5c007564d90b",
   "metadata": {
    "jp-MarkdownHeadingCollapsed": true
   },
   "source": [
    "# Python Basics"
   ]
  },
  {
   "cell_type": "code",
   "execution_count": null,
   "id": "6112cff1-0aea-404a-9603-a6d3bba9dde2",
   "metadata": {},
   "outputs": [],
   "source": [
    "print(\"First Program - Python print function\")\n",
    "print(\"It is declared like this: \")\n",
    "print(\"print(\\\"What to print\\\")\")"
   ]
  },
  {
   "cell_type": "code",
   "execution_count": null,
   "id": "f2248e0d-18cb-4c5d-bef9-0cef4674f389",
   "metadata": {},
   "outputs": [],
   "source": [
    "print(\"Hello World \\nHello World \\nHello World\")\n",
    "\n",
    "name = \"NEIL\"\n",
    "name2 = \"WAYNE\"\n",
    "print(name + \" \" + name2)"
   ]
  },
  {
   "cell_type": "code",
   "execution_count": null,
   "id": "2c107c0a-1776-46e0-9b4c-f1f694f88080",
   "metadata": {},
   "outputs": [],
   "source": [
    "# # METHOD 1\n",
    "# print(\"String Manipulation Exercise\")\n",
    "# print(\"String Concatenation is done with \\\"+\\\" sign\")\n",
    "# print(\"e.g. print(\\\"Hello\\\" + \\\"Jenny\\\")\")\n",
    "# print(\"New lines can be created with a backslash and n\")\n",
    "\n",
    "# METHOD 2\n",
    "print(\"String Manipulation Exercise\\nString Concatenation is done with \\\"+\\\" sign\\ne.g. print(\\\"Hello\\\" + \\\"Jenny\\\")\\nNew lines can be created with a backslash and n\")"
   ]
  },
  {
   "cell_type": "code",
   "execution_count": null,
   "id": "aa2ac3e6-bb33-4d2e-afe8-17020ffc878a",
   "metadata": {},
   "outputs": [],
   "source": [
    "# a = input(\"what is your name: \")\n",
    "\n",
    "# print(\"Hey \" + input(\"What is your name?:\") + \",\" + \" how are you?\")\n",
    "\n",
    "name = input(\"What is your name?\")\n",
    "print(\"Hey \" + name + \",\" + \" how are you?\")\n",
    "\n"
   ]
  },
  {
   "cell_type": "code",
   "execution_count": null,
   "id": "11fcc171-77db-4a82-b4d9-429036b38e37",
   "metadata": {},
   "outputs": [],
   "source": [
    "name = input(\"What is your name?\")\n",
    "print(len(name))\n",
    "\n",
    "\n",
    "print(name + \" Cruz\")\n"
   ]
  },
  {
   "cell_type": "code",
   "execution_count": null,
   "id": "fe0c9551-d56c-43b3-8252-029e37cac8e1",
   "metadata": {},
   "outputs": [],
   "source": [
    "a = input(\"Enter value of a = \")\n",
    "b = input(\"Enter value of b = \")\n",
    "\n",
    "c = a\n",
    "a = b\n",
    "b = c\n",
    "\n",
    "print(\"a = \" + a)\n",
    "print(\"b = \" + b)"
   ]
  },
  {
   "cell_type": "code",
   "execution_count": null,
   "id": "c5eecaa1-c952-4fa5-8e84-596c9f94e5f3",
   "metadata": {},
   "outputs": [],
   "source": [
    "num1 = int(input(\"Enter a first number:\"))\n",
    "num2 = int(input(\"Enter a second number:\"))\n",
    "\n",
    "print(\"Sum =\", (num1 + num2))"
   ]
  },
  {
   "cell_type": "code",
   "execution_count": null,
   "id": "9f7b15c8-926a-410d-bdad-f4bed7049464",
   "metadata": {},
   "outputs": [],
   "source": [
    "num1 = input(\"Enter a 2 digit number:\")\n",
    "sum1 = int(num1[0]) + int(num1[1])\n",
    "\n",
    "print(sum1)"
   ]
  },
  {
   "cell_type": "code",
   "execution_count": null,
   "id": "c1223a56-7708-4b0f-b4e8-63c221a8a25d",
   "metadata": {},
   "outputs": [],
   "source": [
    "nums = []\n",
    "\n",
    "for i in range (2):\n",
    "    add1 = int(input(\"Enter a number \" + str(i + 1)))\n",
    "    nums.append(add1)\n",
    "\n",
    "\n",
    "print(nums[0] + nums[1])\n"
   ]
  },
  {
   "cell_type": "code",
   "execution_count": null,
   "id": "6b4d9af3-9e1d-4f0a-9052-2ad4d5727a40",
   "metadata": {},
   "outputs": [],
   "source": [
    "# in lbs(weight) and inches(height)\n",
    "\n",
    "\n",
    "# weight = float(input(\"Enter your WEIGHT (in lbs):\"))\n",
    "# height = float(input(\"Enter your HEIGHT (in inches):\"))\n",
    "\n",
    "# BMI = (weight / (height * height)) * 703\n",
    "\n",
    "# print(f\"Your BMI is {BMI:.2f}\")\n",
    "\n",
    "# in kg(weight) and meter (height)\n",
    "\n",
    "weight = float(input(\"Enter your WEIGHT (in kg):\"))\n",
    "height = float(input(\"Enter your HEIGHT (in meter):\"))\n",
    "\n",
    "BMI = (weight / (height ** 2))\n",
    "\n",
    "print(f\"Your BMI is {BMI:.2f}\")\n",
    "# print(\"Your BMU is \",BMI)\n"
   ]
  },
  {
   "cell_type": "code",
   "execution_count": null,
   "id": "d2b27eaa-d058-4c0a-9070-a7068bff8c94",
   "metadata": {},
   "outputs": [],
   "source": [
    "a = 5\n",
    "b = 5\n",
    "\n",
    "print(id(a))\n",
    "print(id(b))"
   ]
  },
  {
   "cell_type": "code",
   "execution_count": null,
   "id": "a727816b-8228-472e-b392-3496ff0adfa7",
   "metadata": {},
   "outputs": [],
   "source": [
    "a = 5\n",
    "a = 8\n",
    "print(a is a)"
   ]
  },
  {
   "cell_type": "code",
   "execution_count": null,
   "id": "242c2828-e0c3-4d32-9eef-f902a9c7cb5c",
   "metadata": {},
   "outputs": [],
   "source": [
    "round(6214.565,2)"
   ]
  },
  {
   "cell_type": "code",
   "execution_count": null,
   "id": "3b0f922b-83db-4205-8b9a-eb606b365a8c",
   "metadata": {},
   "outputs": [],
   "source": [
    "!pip install nbimporter\n",
    "\n",
    "def square(x):\n",
    "    return x * x\n",
    "\n",
    "def prod(a, b):\n",
    "    return a * b\n",
    "\n",
    "def sum(a, b):\n",
    "    return a + b\n",
    "\n",
    "def transg(x, y):\n",
    "    return (x + y) / 2  # Example function"
   ]
  },
  {
   "cell_type": "code",
   "execution_count": null,
   "id": "b1b1f06d-ba16-4e6b-b963-656a7b22354b",
   "metadata": {},
   "outputs": [],
   "source": [
    "age = int(input(\"Enter your age:\"))\n",
    "\n",
    "years_left = 90 - age\n",
    "\n",
    "days   = years_left * 365 \n",
    "months = years_left * 12\n",
    "weeks  = years_left * 52\n",
    "\n",
    "print(f\"You have a {days:,}, {weeks:,} weeks and {months:,} months left\")\n"
   ]
  },
  {
   "cell_type": "code",
   "execution_count": null,
   "id": "dec118e2-5b48-42bc-b32e-c541aaa7fc07",
   "metadata": {},
   "outputs": [],
   "source": [
    "# if else\n",
    "nums = 1\n",
    "\n",
    "while nums > 0:\n",
    "    nums = int(input(\"Enter a number:\"))\n",
    "    print(\"EVEN\" if nums % 2 == 0 else \"ODD\")\n",
    "\n",
    "print()\n",
    "print(\"-------------------\")\n",
    "print(\"  END OF PROGRAM   \")\n",
    "print(\"-------------------\")"
   ]
  },
  {
   "cell_type": "code",
   "execution_count": null,
   "id": "716f835e-3c21-4a52-9c61-8ed50ef33190",
   "metadata": {},
   "outputs": [],
   "source": [
    "\n",
    "def calculate_bmi(weight, height, unit_w, unit_h):\n",
    "    if unit_w == \"kg\" and unit_h == \"m\":\n",
    "        return weight / (height ** 2)\n",
    "    elif unit_w == \"kg\" and unit_h == \"inch\":\n",
    "        return (weight / (height ** 2)) * 1550\n",
    "    elif unit_w == \"lbs\" and unit_h == \"m\":\n",
    "        return (weight * 0.453592) / (height ** 2)\n",
    "    elif unit_w == \"lbs\" and unit_h == \"inch\":\n",
    "        return (weight / (height ** 2)) * 703\n",
    "    else:\n",
    "        return None\n",
    "\n",
    "def categorize_bmi(bmi):\n",
    "    if bmi < 16.0:\n",
    "        return \"Underweight (Severe thinness)\"\n",
    "    elif bmi <= 16.9:\n",
    "        return \"Underweight (Moderate thinness)\"\n",
    "    elif bmi <= 18.4:\n",
    "        return \"Underweight (Mild thinness)\"\n",
    "    elif bmi <= 24.9:\n",
    "        return \"Normal range\"\n",
    "    elif bmi <= 29.9:\n",
    "        return \"Overweight (Pre-obese)\"\n",
    "    elif bmi <= 34.9:\n",
    "        return \"Obese (Class-I)\"\n",
    "    elif bmi <= 39.9:\n",
    "        return \"Obese (Class-II)\"\n",
    "    else:\n",
    "        return \"Obese (Class-III)\"\n",
    "\n",
    "choice1 = input(\"What unit of mass you want to convert your weight (kg or lbs)?:\").lower()\n",
    "choice2 = input(\"What unit of measurement you want to convert your height (m or inch)?:\").lower()\n",
    "\n",
    "weight = float(input(f\"Enter your WEIGHT (in {choice1}): \"))\n",
    "height = float(input(f\"Enter your HEIGHT (in {choice2}): \"))\n",
    "\n",
    "bmi = calculate_bmi(weight = weight, height = height, unit_w = choice1, unit_h = choice2)\n",
    "print()\n",
    "\n",
    "if bmi:\n",
    "    print(f\"Your BMI is: {bmi:.2f}\")\n",
    "    print(f\"You are in the category of: {categorize_bmi(bmi)}\")\n",
    "else:\n",
    "    print(\"Invalid input. Please enter valid units.\")\n"
   ]
  },
  {
   "cell_type": "code",
   "execution_count": null,
   "id": "cab48221-4d09-4168-a492-6e2ae882ab02",
   "metadata": {},
   "outputs": [],
   "source": [
    "print(\"\"\"\n",
    "                                                    Pizza Order Program:\n",
    "                                                     Small Pizza  = 100\n",
    "                                                     Medium Pizza = 200\n",
    "                                                     Large Pizza  = 300\n",
    "                                                     Extra Cheese (all sizes)    = 20\n",
    "                                                     Extra Pepperoni (for small) = 30\n",
    "                                                     Extra Pepperoni (for medium and large) = 50 \n",
    "\"\"\")\n",
    "\n",
    "def adds_on(total, choice):\n",
    "    additionals = input(\"Do you want to add pepperoni for the pizza? (Y/N): \").upper()\n",
    "    if additionals == \"Y\":\n",
    "        if choice == \"S\":\n",
    "            total += 30\n",
    "        elif choice in [\"M\", \"L\"]:\n",
    "            total += 50\n",
    "    elif additionals != \"N\":\n",
    "        print(\"Invalid choice. Try again.\")\n",
    "        return None  \n",
    "            \n",
    "    additionals = input(\"Do you want to add cheese for the pizza? (Y/N): \").upper()\n",
    "    if additionals == \"Y\":\n",
    "        total += 20\n",
    "    elif additionals != \"N\":  # If not 'N', it's an invalid choice\n",
    "        print(\"Invalid choice. Try again.\")\n",
    "        return None  \n",
    "\n",
    "    return total\n",
    "\n",
    "choice = input(\"What size of pizza do you want to buy (S, M, L)?: \").upper()\n",
    "print()\n",
    "total = 0\n",
    "\n",
    "if choice == \"S\":\n",
    "    total = 100\n",
    "elif choice == \"M\":\n",
    "    total = 200\n",
    "elif choice == \"L\":\n",
    "    total = 300\n",
    "else:\n",
    "    print(f\"{choice} is an invalid choice!!\")\n",
    "    total = None  # Set total to None for invalid choice\n",
    "\n",
    "# Call the function only if the choice was valid\n",
    "if total is not None:\n",
    "    total = adds_on(total, choice)  \n",
    "\n",
    "if total is not None:  # Check if total is still valid before printing\n",
    "    print(f\"\\nYour total purchase is: {total}\")\n"
   ]
  },
  {
   "cell_type": "code",
   "execution_count": null,
   "id": "8ef726e9-fde9-4d20-a42b-4621f16af471",
   "metadata": {},
   "outputs": [],
   "source": [
    "# Love calculator exercise\n",
    "\n",
    "name1 = input(\"Enter his/her name:\").lower()\n",
    "name2 = input(\"Enter his/her name:\").lower()\n",
    "combine_name = name1 + name2\n",
    "\n",
    "t_count = combine_name.count(\"t\")\n",
    "r_count = combine_name.count(\"r\")\n",
    "u_count = combine_name.count(\"u\")\n",
    "e_count = combine_name.count(\"e\")\n",
    "\n",
    "l_count = combine_name.count(\"l\")\n",
    "o_count = combine_name.count(\"o\")\n",
    "v_count = combine_name.count(\"v\")\n",
    "e_count = combine_name.count(\"e\")\n",
    "\n",
    "tot1 = str(t_count + r_count + u_count + e_count)\n",
    "tot2 = str(l_count + o_count + v_count + e_count)\n",
    "\n",
    "love_score = int(str(tot1) + str(tot2))\n",
    "\n",
    "if love_score < 10 or love_score > 90:\n",
    "    print(f\"Your love score is {love_score}% and you go together like coke and mentos\")\n",
    "elif 40 <= love_score <= 50: \n",
    "    print(f\"Your love score is {love_score}% and you are alright together\")\n",
    "else:\n",
    "    print(f\"Your love score is {love_score}%\")\n",
    "\n",
    "\n",
    "\n"
   ]
  },
  {
   "cell_type": "markdown",
   "id": "f41283fd-2592-4b50-ae08-a6cd54fb30d3",
   "metadata": {
    "jp-MarkdownHeadingCollapsed": true
   },
   "source": [
    "# Python Operators"
   ]
  },
  {
   "cell_type": "code",
   "execution_count": null,
   "id": "ccfca6f1-c9cf-44f5-b305-10fa8153442e",
   "metadata": {},
   "outputs": [],
   "source": [
    "# Operators in Python (Ordered by Precedence from High to Low)\n",
    "\n",
    "# Parentheses (Grouping Operator)\n",
    "# ()  - Used to override the default precedence of operators (Highest precedence)\n",
    "\n",
    "# Arithmetic Operators\n",
    "# **  (exponentiation (right to left))    (returns int or float)\n",
    "# *   (multiplication (left to right))    (returns int or float)\n",
    "# /   (division (left to right))          (returns float)\n",
    "# %   (modulus/remainder (left to right)) (returns int)\n",
    "# //  (floor division (left to right))    (returns int)\n",
    "# +   (addition (left to right))          (returns int or float)\n",
    "# -   (subtraction (left to right))       (returns int or float)\n",
    "\n",
    "# Bitwise NOT Operator (complement)\n",
    "# ~   (bitwise NOT (complement) (unary, highest precedence in bitwise ops)) # -(x+1)\n",
    "\n",
    "# Bitwise Shift Operators\n",
    "# <<  (left shift (left to right))  # x*2^n (we gain bits in left shift)\n",
    "# >>  (right shift (left to right)) # x/2^n (we lose bits in right shift)\n",
    "\n",
    "# Bitwise AND, XOR, OR Operators\n",
    "# &   (bitwise AND (left to right))\n",
    "# ^   (bitwise XOR (left to right))\n",
    "# |   (bitwise OR (left to right))\n",
    "\n",
    "# Comparison Operators (Relational Operators)\n",
    "# <   (less than)\n",
    "# >   (greater than)\n",
    "# <=  (less than or equal to)\n",
    "# >=  (greater than or equal to)\n",
    "# ==  (equal to)\n",
    "# !=  (not equal to)\n",
    "\n",
    "# Identity Operators\n",
    "# is      (returns True if both variables refer to the same object)\n",
    "# is not  (returns True if both variables do not refer to the same object)\n",
    "\n",
    "# Membership Operators\n",
    "# in      (returns True if a value is found in a sequence)\n",
    "# not in  (returns True if a value is not found in a sequence)\n",
    "\n",
    "# Logical Operators\n",
    "# not  (logical NOT)   same as Java: ! (highest precedence among logical operators)\n",
    "# and  (logical AND)   same as Java: &&\n",
    "# or   (logical OR)    same as Java: ||\n",
    "\n",
    "# Assignment Operators (Augmented Assignment Operators)\n",
    "# a **= 2  same as:  a = a ** 2\n",
    "# a *=  2  same as:  a = a *  2\n",
    "# a /=  2  same as:  a = a /  2\n",
    "# a //= 2  same as:  a = a // 2\n",
    "# a %=  2  same as:  a = a %  2\n",
    "# a +=  2  same as:  a = a +  2\n",
    "# a -=  2  same as:  a = a -  2\n",
    "# a &=  2  same as:  a = a &  2\n",
    "# a ^=  2  same as:  a = a ^  2\n",
    "# a |=  2  same as:  a = a |  2\n",
    "# a <<= 2  same as:  a = a << 2\n",
    "# a >>= 2  same as:  a = a >> 2\n"
   ]
  },
  {
   "cell_type": "markdown",
   "id": "521bf5c0-3b04-4004-8968-de654e8f1157",
   "metadata": {},
   "source": [
    "# LIST"
   ]
  },
  {
   "cell_type": "code",
   "execution_count": null,
   "id": "211e25d0-e0a5-4b05-9af8-efc00847de5e",
   "metadata": {},
   "outputs": [],
   "source": [
    "# LIST: Lists are ORDERED and MUTABLE (can be changed). Duplicates are allowed. Adding and removing values from a list is allowed.\n",
    "# Since lists are MUTABLE, you CAN MODIFY the elements even after creation.\n",
    "# Lists are also INDEXED, meaning you CAN ACCESS elements using their INDICES.\n",
    "\n",
    "# Example 1: Creating a list with user input and removing odd numbers (Incorrect approach)\n",
    "ls_list1 = [int(input(\"Enter a number: \")) for i in range(6)]\n",
    "\n",
    "# Incorrect way to remove odd numbers while iterating (modifies list during iteration)\n",
    "# for i in ls_list1:\n",
    "#     if i % 2 == 1:\n",
    "#         ls_list1.remove(i) \n",
    "\n",
    "# Corrected approach: Use list comprehension to filter out odd numbers\n",
    "ls_list1 = [num for num in ls_list1 if num % 2 == 0]\n",
    "print(\"Filtered list (even numbers only):\", ls_list1)\n",
    "\n",
    "# Example 2: Using append() to build a list dynamically\n",
    "ls_list2 = []\n",
    "for i in range(6):\n",
    "    ls_list2.append(int(input(f\"Enter a number for ls_list2[{i}]: \")))\n",
    "print(\"List created with append():\", ls_list2)\n",
    "\n",
    "# Example 3: Sorting and finding min/max values in a list\n",
    "ls_list3 = [100, 12, 35, 21, 89, 23, -1, 23, 5.6]\n",
    "ls_list3.sort()\n",
    "print(\"Sorted list:\", ls_list3)\n",
    "print(f\"Minimum: {min(ls_list3)}, Maximum: {max(ls_list3)}\")\n",
    "\n",
    "# Example 4: Demonstrating various list methods\n",
    "ls_list4 = [23, 42, 45, 54, 1, 2, 1, 2, 2, 2]\n",
    "\n",
    "ls_list4.append(55)  # Adds 55 at the end of the list\n",
    "ls_list4.insert(2, 56)  # Inserts 56 at index 2\n",
    "ls_list4.remove(23)  # Removes the first occurrence of 23\n",
    "ls_list4.extend([1, 2, 3])  # Extends list with new elements [1, 2, 3]\n",
    "ls_list4.pop(1)  # Removes element at index 1\n",
    "\n",
    "print(\"Modified list:\", ls_list4)\n",
    "print(\"Index of 42:\", ls_list4.index(42))  # Returns the index of the first occurrence of 42\n",
    "\n",
    "# Additional List Methods:\n",
    "# .append(element) -> Adds an element at the end of the list\n",
    "# .clear() -> Removes all elements from the list\n",
    "# .copy() -> Returns a shallow copy of the list\n",
    "# .extend([1,2,3]) -> Extends the list with multiple elements\n",
    "# .count(element) -> Returns the count of the specified element in the list\n",
    "# .insert(index, element) -> Inserts an element at a specific index\n",
    "# .index(element) -> Returns the index of the first occurrence of an element\n",
    "# .pop() -> Removes and returns the last element (or an element at a specified index)\n",
    "# .remove(element) -> Removes the first occurrence of the specified element\n",
    "# .sort() -> Sorts the list in ascending order (use sort(reverse=True) for descending order)\n",
    "# .reverse() -> Reverses the order of elements in the list\n"
   ]
  },
  {
   "cell_type": "markdown",
   "id": "4cb64b4e-10a1-412a-afc1-773a73061832",
   "metadata": {
    "jp-MarkdownHeadingCollapsed": true
   },
   "source": [
    "# BUBBLE SORT"
   ]
  },
  {
   "cell_type": "code",
   "execution_count": null,
   "id": "a8ad5e58-111b-4a33-9bf6-d4dcbc5c8f56",
   "metadata": {},
   "outputs": [],
   "source": [
    "# Optimized Bubble sort in Python\n",
    "\n",
    "def bubbleSortAscending(array):\n",
    "    \n",
    "  # loop through each element of array\n",
    "  for i in range(len(array)):\n",
    "        \n",
    "    # keep track of swapping\n",
    "    swapped = False\n",
    "    \n",
    "    # loop to compare array elements\n",
    "    for j in range(0, len(array) - i - 1):\n",
    "\n",
    "      # compare two adjacent elements\n",
    "      # change > to < to sort in descending order\n",
    "      if array[j] > array[j + 1]:\n",
    "\n",
    "        # swapping occurs if elements\n",
    "        # are not in the intended order\n",
    "        temp = array[j]\n",
    "        array[j] = array[j+1]\n",
    "        array[j+1] = temp\n",
    "\n",
    "        swapped = True\n",
    "          \n",
    "    # no swapping means the array is already sorted\n",
    "    # so no need for further comparison\n",
    "    if not swapped:\n",
    "      break\n",
    "\n",
    "def bubbleSortDecending(array):\n",
    "  # loop through each element of array\n",
    "  for i in range(len(array)):\n",
    "        \n",
    "    # keep track of swapping\n",
    "    swapped = False\n",
    "    \n",
    "    # loop to compare array elements\n",
    "    for j in range(0, len(array) - i - 1):\n",
    "\n",
    "      # compare two adjacent elements\n",
    "      # change > to < to sort in descending order\n",
    "      if array[j] < array[j + 1]:\n",
    "\n",
    "        # swapping occurs if elements\n",
    "        # are not in the intended order\n",
    "        temp = array[j]\n",
    "        array[j] = array[j+1]\n",
    "        array[j+1] = temp\n",
    "\n",
    "        swapped = True\n",
    "          \n",
    "    # no swapping means the array is already sorted\n",
    "    # so no need for further comparison\n",
    "    if not swapped:\n",
    "      break\n",
    "\n",
    "data = [-2, 45, 0, 11, -9]\n",
    "\n",
    "bubbleSortAscending(data)\n",
    "\n",
    "print('Sorted Array in Ascending Order:')\n",
    "print(data)\n",
    "\n",
    "bubbleSortDecending(data)\n",
    "\n",
    "print('Sorted Array in Decending Order:')\n",
    "print(data)\n",
    "\n",
    "\n"
   ]
  },
  {
   "cell_type": "markdown",
   "id": "80650879-61be-4045-b311-a32bb712b6b7",
   "metadata": {
    "jp-MarkdownHeadingCollapsed": true
   },
   "source": [
    "# RANDOM MODULE"
   ]
  },
  {
   "cell_type": "code",
   "execution_count": null,
   "id": "95c3442a-b2ac-4289-92cc-dfe47f4d4814",
   "metadata": {},
   "outputs": [],
   "source": [
    "# Random\n",
    "\n",
    "import random as rd\n",
    "\n",
    "list1 = [rd.randint(1,100) for x in range(20)]\n",
    "\n",
    "print(list1)"
   ]
  },
  {
   "cell_type": "code",
   "execution_count": null,
   "id": "f7235182-3602-4c84-972c-4c344386cbe0",
   "metadata": {},
   "outputs": [],
   "source": [
    "# head or tails\n",
    "\n",
    "import random \n",
    "import time\n",
    "\n",
    "\n",
    "choice = input(\"Heads or Tails: \").lower()\n",
    "\n",
    "heads_tails = [\"heads\", \"tails\"]\n",
    "\n",
    "print(\"Tossing........\")\n",
    "time.sleep(3)\n",
    "result = random.choice(heads_tails)\n",
    "\n",
    "if result == choice:\n",
    "    print(f\"Correct guess: you guess {choice} and the answer is {result}\")\n",
    "else:\n",
    "    print(f\"Incorect guess: you guess {choice} but the answer is {result}\")\n",
    "\n"
   ]
  },
  {
   "cell_type": "code",
   "execution_count": null,
   "id": "1dcb6509-99c7-41eb-9ea6-b26106f81838",
   "metadata": {},
   "outputs": [],
   "source": [
    "import random\n",
    "names = input(\"Enter everybody's name separated by comma:\").split(',')\n",
    "# print(names)\n",
    "# name = random.choice(names)\n",
    "name = random.randint(0,len(names) - 1)\n",
    "print(f\"{names[name].capitalize()} will pay the bill\")"
   ]
  },
  {
   "cell_type": "markdown",
   "id": "9a87826e-732b-476a-96bc-3473dc7f9c44",
   "metadata": {
    "jp-MarkdownHeadingCollapsed": true
   },
   "source": [
    "# nested list"
   ]
  },
  {
   "cell_type": "code",
   "execution_count": null,
   "id": "0e2add5c-98d7-4184-92b2-4aecf140545c",
   "metadata": {},
   "outputs": [],
   "source": [
    "# 2d list / nested list\n",
    "\n",
    "# myNums = [1,2,3,4,5,[6,7,8,9,10],11,12]\n",
    "\n",
    "# for i in range(len(myNums)):\n",
    "#     if i == 6:\n",
    "#         continue\n",
    "#     if i == 5:\n",
    "#         for j in range(len(myNums[i])):\n",
    "#             print(myNums[i][j], end=\",\")\n",
    "#         i +=1\n",
    "#     if i != len(myNums) - 1:\n",
    "#         print(myNums[i], end=\",\")\n",
    "#     else:\n",
    "#         print(myNums[i], end=\" \")\n",
    "\n"
   ]
  },
  {
   "cell_type": "code",
   "execution_count": null,
   "id": "a2c2f818-5370-4a2c-b310-08a4c33c54c0",
   "metadata": {},
   "outputs": [],
   "source": [
    "myList = [[\"💵\",\"💵\",\"💵\"],\n",
    "          [\"💵\",\"💵\",\"💵\"],\n",
    "          [\"💵\",\"💵\",\"💵\"]\n",
    "        ]\n",
    "\n",
    "\n",
    "while True:\n",
    "    try:\n",
    "        pos = input(\"Enter a position where you want to hide your money:\")[0:2]\n",
    "        row_num = int(pos[0])\n",
    "        col_num = int(pos[1])\n",
    "        myList[row_num][col_num] = \"❌\"\n",
    "    except IndexError:\n",
    "        print(f\"The index{[row_num]}{[col_num]} is incomplete or not accesible or index is out of range\")\n",
    "        continue\n",
    "    except ValueError:\n",
    "        print(f\"{pos} is not a number\")\n",
    "        continue\n",
    "    for l in myList:\n",
    "        print(l)\n",
    "\n",
    "    choice = input(\"Continue [Y/N]:\")[0].upper()\n",
    "    if choice == \"N\":\n",
    "        break\n"
   ]
  },
  {
   "cell_type": "markdown",
   "id": "eaa594c7-ee98-4c57-a11e-438e6d6d9dde",
   "metadata": {
    "jp-MarkdownHeadingCollapsed": true
   },
   "source": [
    "# PROJECT 1: ROCK PAPER SCISSORS"
   ]
  },
  {
   "cell_type": "code",
   "execution_count": null,
   "id": "9a5aec45-adc8-4659-8fe8-f0138dea0039",
   "metadata": {},
   "outputs": [],
   "source": [
    "import random\n",
    "\n",
    "choices = [\"Rock\", \"Paper\", \"Scissors\"]\n",
    "\n",
    "while True:\n",
    "    comp_choice = random.choice(choices)\n",
    "    user_choice = input(\"Rock, Paper, Scissors: \").capitalize()\n",
    "\n",
    "    if user_choice not in choices:\n",
    "        print(f\"{user_choice} is invalid\\n\")\n",
    "        continue\n",
    "\n",
    "    print(f\"User: {user_choice}\\nComputer: {comp_choice}\")\n",
    "\n",
    "    if user_choice == comp_choice:\n",
    "        print(\"It's a draw!\\n\")\n",
    "    elif (\n",
    "        user_choice == \"Rock\" and comp_choice == \"Scissors\" or \n",
    "        user_choice == \"Paper\" and comp_choice == \"Rock\" or \n",
    "        user_choice == \"Scissors\" and comp_choice == \"Paper\"\n",
    "         ):\n",
    "        print(\"You win!\\n\")\n",
    "    else:\n",
    "        print(\"You lose!\\n\")\n",
    "\n",
    "    while True:\n",
    "        choice = input(\"Continue [Y/N]: \").strip().upper()\n",
    "        if choice in [\"Y\", \"N\"]:\n",
    "            break\n",
    "        print(\"Invalid choice, please enter Y or N.\")\n",
    "\n",
    "    if choice == \"N\":\n",
    "        print(\"Thanks for playing!\")\n",
    "        break\n",
    "    print()\n"
   ]
  },
  {
   "cell_type": "markdown",
   "id": "ccc57a08-37e5-43c0-86de-0086fd0e0d8c",
   "metadata": {},
   "source": [
    "# TUPLES"
   ]
  },
  {
   "cell_type": "code",
   "execution_count": null,
   "id": "e29e1ba5-654f-49f4-a7be-1e529b2da9c7",
   "metadata": {},
   "outputs": [],
   "source": [
    "# TUPLES: Tuples are ORDERED and IMMUTABLE (cannot be changed). Once created, you CANNOT add or remove elements.\n",
    "# In tuples, DUPLICATES are allowed, unlike sets.\n",
    "# Tuples are also INDEXED, meaning you CAN ACCESS elements using their INDICES.\n",
    "\n",
    "# Example 1: Creating tuples\n",
    "tuple1 = (1, 2, 2, 3, 'Neil', 2.25, True, False, 3.14159)\n",
    "tuple2 = (\"sheehs\", 1, 5, 3, 1.5)\n",
    "\n",
    "# Example 2: Concatenating tuples\n",
    "tuple3 = tuple1 + tuple2  # This concatenates tuple1 and tuple2 into a new tuple\n",
    "# Output: (1, 2, 2, 3, 'Neil', 2.25, True, False, 3.14159, \"sheehs\", 1, 5, 3, 1.5)\n",
    "\n",
    "# Example 3: Nested tuples\n",
    "tuple4 = (tuple1, tuple2)  # This creates a tuple containing tuple1 and tuple2 as separate elements\n",
    "# Output: ((1, 2, 2, 3, 'Neil', 2.25, True, False, 3.14159), (\"sheehs\", 1, 5, 3, 1.5))\n",
    "\n",
    "# Example 4: Using zip() to pair elements from two tuples\n",
    "x = zip(tuple1, tuple2)\n",
    "print(tuple(x))  # Converts zipped pairs into a tuple\n",
    "\n",
    "# Example 5: Finding min and max values in a tuple\n",
    "tuple5 = (23, 12, 43, -4, -2, 44, True, False, 0, 1)  # True = 1, False = 0 (numeric comparisons work)\n",
    "print(\"Min value:\", min(tuple5))  # Output: -4\n",
    "print(\"Max value:\", max(tuple5))  # Output: 44\n",
    "\n",
    "# Example 6: Tuple slicing and indexing\n",
    "print(tuple1[::-2])  # Reverse slicing with a step of 2\n",
    "print(tuple5.index(-4))  # Finds the index of -4\n",
    "print(tuple5.count(True))  # Counts occurrences of True (True and 1 are considered the same)\n",
    "\n",
    "# Methods available for tuples:\n",
    "# .index(element) -> Returns the index of the first occurrence of the element\n",
    "# .count(element) -> Returns the number of times the element appears in the tuple\n"
   ]
  },
  {
   "cell_type": "markdown",
   "id": "57f90d33-1584-4ab9-ade6-fc8bf7cbb8e2",
   "metadata": {},
   "source": [
    "# SETS"
   ]
  },
  {
   "cell_type": "code",
   "execution_count": null,
   "id": "b149705c-5c04-4f68-adea-74914c1c16d0",
   "metadata": {},
   "outputs": [],
   "source": [
    "# collections = single \"variable\" used to store multiple values\n",
    "\n",
    "# SETS: Sets are UNORDERED and MUTABLE, but they do NOT allow duplicate values.\n",
    "# You CAN add and remove elements in a set, but you CANNOT access elements by index since sets are UNORDERED.\n",
    "\n",
    "# If duplicates exist in a set, they will be automatically removed (only unique values are kept).\n",
    "\n",
    "# Methods in sets:\n",
    "# .add(element) -> Adds an element to the set\n",
    "# .remove(element) -> Removes the element; raises an error if the element is not found\n",
    "# .discard(element) -> Removes the element; does NOT raise an error if the element is not found\n",
    "# .clear() -> Removes all elements from the set\n",
    "# .pop() -> Removes and returns an arbitrary element (since sets are unordered)\n",
    "# .update(set2, set3, ...) or set1 |= set2 | set3 -> Adds elements from other sets/iterables\n",
    "# .union(set_name) -> Returns a new set with all unique elements from both sets\n",
    "# .intersection(set_name) -> Returns a new set with common elements from both sets\n",
    "# .difference(set_name) -> Returns elements that are in the first set but not in the second\n",
    "# .symmetric_difference(set_name) -> Returns elements that are in either of the sets, but not both\n",
    "# .difference_update(set_name) -> Removes elements found in the other set\n",
    "# .intersection_update(set_name) -> Keeps only elements found in both sets\n",
    "# .symmetric_difference_update(set_name) -> Updates the set with elements in either set but not both\n",
    "# .isdisjoint(set_name) -> Returns True if the sets have no elements in common\n",
    "# .issubset(set_name) -> Returns True if all elements of the first set exist in the second set\n",
    "# .issuperset(set_name) -> Returns True if the first set contains all elements of the second set\n",
    "\n",
    "# Operators for set operations:\n",
    "# |  -> Union: set1 | set2 | set3\n",
    "# |= -> Update: set1 |= set2 | set3\n",
    "# &  -> Intersection: set1 & set2 & set3\n",
    "# -  -> Difference: set1 - set2 - set3\n",
    "# ^  -> Symmetric difference: set1 ^ set2 ^ set3\n",
    "# <= -> Subset check: set1 <= set2\n",
    "# >= -> Superset check: set1 >= set2\n",
    "\n",
    "# Example 1: Creating sets and performing operations\n",
    "set1 = {1, True, 0, 10, 23, 14, 7, False}  # True = 1, False = 0\n",
    "set2 = {90, 21, 67, 89, 44, 0, 10}\n",
    "\n",
    "set1.add(56)  # Adds 56 to the set\n",
    "set1.add((100, 101, 102, 102))  # Adds an immutable tuple; lists cannot be added\n",
    "set1.discard(123)  # No error even if 123 is not in the set\n",
    "set1.remove(23)  # Removes 23 (raises an error if 23 is not in the set)\n",
    "set1.pop()  # Removes a random element (sets are unordered)\n",
    "set1.clear()  # Removes all elements, but set1 still exists\n",
    "set1.update(set2)  # Adds elements from set2 to set1\n",
    "\n",
    "# Example 2: Using set operations\n",
    "union = set1.union(set2)  # Returns a new set with all unique elements\n",
    "intersection = set1.intersection(set2)  # Returns elements common to both sets\n",
    "difference = set1.difference(set2)  # Returns elements in set1 but not in set2\n",
    "difference2 = set2.difference(set1)  # Returns elements in set2 but not in set1\n",
    "sym_difference = set1.symmetric_difference(set2)  # Elements in either set but not both\n",
    "set1.intersection_update(set2)  # Modifies set1 to keep only common elements\n",
    "set1.difference_update(set2)  # Removes elements found in set2\n",
    "set1.symmetric_difference_update(set2)  # Keeps elements in either set but not both\n",
    "\n",
    "# Example 3: Checking set relations\n",
    "set1 = {1,2,3,4,5,6,7,8,9,10}\n",
    "set2 = {2,3,4,6,7,9,10}\n",
    "\n",
    "isDisjoint = set1.isdisjoint(set2)  # Returns False (sets share elements)\n",
    "isSubset = set1.issubset(set2)  # Returns False (set1 has extra elements)\n",
    "isSuperset = set1.issuperset(set2)  # Returns True (set1 contains all of set2)\n",
    "\n",
    "print(isDisjoint)\n",
    "\n",
    "# Example 4: Using the del keyword\n",
    "set3 = set()\n",
    "set3.add(True)\n",
    "set3.add(123)\n",
    "del set3  # Deletes the set completely\n",
    "\n",
    "# Difference between del and clear():\n",
    "# del set_name -> Deletes the entire set object\n",
    "# set_name.clear() -> Removes all elements, but the set still exists\n",
    "\n",
    "# Example 5: Set Comprehension\n",
    "# You can create sets using comprehension similar to lists\n",
    "set_comp = {x**2 for x in range(5)}\n",
    "print(set_comp)  # Output: {0, 1, 4, 9, 16}\n"
   ]
  },
  {
   "cell_type": "markdown",
   "id": "5b4cb0ee-b448-458e-b86d-c5cd9e517c76",
   "metadata": {},
   "source": [
    "# DEL KEYWORD"
   ]
  },
  {
   "cell_type": "code",
   "execution_count": null,
   "id": "47622be7-d2c5-4d78-a233-a44741849566",
   "metadata": {},
   "outputs": [],
   "source": [
    "# DEL Keyword\n",
    "\n",
    "set3 = set()\n",
    "set3.add(True)\n",
    "set3.add(123)\n",
    "del set3\n",
    "\n",
    "# Difference between del and clear():\n",
    "# del set_name -> Deletes the entire set object\n",
    "# set_name.clear() -> Removes all elements, but the set still exists"
   ]
  },
  {
   "cell_type": "markdown",
   "id": "e2773446-3429-496a-9b2b-ad11126a419d",
   "metadata": {
    "jp-MarkdownHeadingCollapsed": true
   },
   "source": [
    "# FOR LOOP"
   ]
  },
  {
   "cell_type": "code",
   "execution_count": null,
   "id": "f577c056-e3ff-435b-bce8-4e6c0d76fe5c",
   "metadata": {},
   "outputs": [],
   "source": [
    "# for a in range(1,23):\n",
    "#     if a == 22:\n",
    "#         print(a,end=' ')\n",
    "#     else:\n",
    "#         print(a,end=',')\n",
    "# or\n",
    "print(','.join(str(a) for a in range(1,23)))"
   ]
  },
  {
   "cell_type": "code",
   "execution_count": null,
   "id": "ae488090-f610-4b7c-af23-087a24e7bfc0",
   "metadata": {
    "scrolled": true
   },
   "outputs": [],
   "source": [
    "nums = []\n",
    "for i in [1,2,-4,3,-10]:\n",
    "    nums.append(i*i)\n",
    "\n",
    "print(nums)\n"
   ]
  },
  {
   "cell_type": "markdown",
   "id": "44a8f9aa-bafa-42dc-909c-8f6a0d87e4b3",
   "metadata": {},
   "source": [
    "# FOR LOOP WITH ELSE"
   ]
  },
  {
   "cell_type": "code",
   "execution_count": null,
   "id": "dab0fbdb-019f-4e7c-b613-f5c98692af8d",
   "metadata": {},
   "outputs": [],
   "source": [
    "import time\n",
    "for i in range(20):\n",
    "    print(i)\n",
    "    time.sleep(1)\n",
    "else:\n",
    "    print(\"DONE!!\")"
   ]
  },
  {
   "cell_type": "code",
   "execution_count": null,
   "id": "9e5b0d27-24f9-48f5-9ed5-047ff0c3b271",
   "metadata": {},
   "outputs": [],
   "source": [
    "heights = input(\"Enter a height (separated by spaces):\").split(' ')\n",
    "count = 0\n",
    "total = 0\n",
    "\n",
    "for i in heights:\n",
    "    count +=1\n",
    "\n",
    "for i in range(count):\n",
    "    heights[i] = int(heights[i])\n",
    "    total += heights[i]\n",
    "\n",
    "print(f\"The average height is {total/count:.0f}\")\n",
    "\n"
   ]
  },
  {
   "cell_type": "code",
   "execution_count": null,
   "id": "38cc4509-09a7-4e69-b865-fc9ceaedb1e3",
   "metadata": {},
   "outputs": [],
   "source": [
    "nums = input(\"Enter a number (separated by comma): \").split(',')\n",
    "f_max = int(nums[0])\n",
    "f_min = int(nums[0])\n",
    "\n",
    "for i in range(len(nums)):\n",
    "    nums[i] = int(nums[i])\n",
    "\n",
    "    if nums[i] > f_max:\n",
    "        f_max = nums[i]\n",
    "\n",
    "    if nums[i] < f_min:\n",
    "        f_min = nums[i]\n",
    "\n",
    "print(f\"\\nThe nums list contains: {nums}\")\n",
    "print(f\"The maximum value in the list is: {f_max}\")\n",
    "print(f\"The minimum value in the list is: {f_min}\")\n",
    "    "
   ]
  },
  {
   "cell_type": "code",
   "execution_count": null,
   "id": "da3c5922-a5fc-4fad-93b2-47abd539c5d1",
   "metadata": {},
   "outputs": [],
   "source": [
    "even_sum = 0\n",
    "odd_sum = 0\n",
    "\n",
    "for i in range(1,101):\n",
    "    if i%2 == 0:\n",
    "        even_sum += i\n",
    "\n",
    "    if i%2 != 0:\n",
    "        odd_sum += i\n",
    "        \n",
    "\n",
    "print(f\"Sum of EVEN numbers between 1 to 100: {even_sum}\")\n",
    "print(f\"Sum of ODD numbers between 1 to 100: {odd_sum}\")"
   ]
  },
  {
   "cell_type": "code",
   "execution_count": null,
   "id": "74cd75c5-d875-4389-a626-9ad6587db2a4",
   "metadata": {},
   "outputs": [],
   "source": [
    "for i in range(1,101):\n",
    "\n",
    "    if i%3 == 0 and i%5 == 0:\n",
    "        print(\"FizzBuzz\")\n",
    "    elif i%3 == 0:\n",
    "        print(\"Fizz\")\n",
    "    elif i%5 == 0:\n",
    "        print(\"Buzz\")\n",
    "    else:\n",
    "        print(i)"
   ]
  },
  {
   "cell_type": "code",
   "execution_count": 17,
   "id": "99e72120-c011-4d81-a091-b6d9f36255ca",
   "metadata": {},
   "outputs": [
    {
     "name": "stdin",
     "output_type": "stream",
     "text": [
      "How many letters would you like in your password?  4\n",
      "How many symbols would you like in your password?  3\n",
      "How many numbers would you like in your password?  2\n"
     ]
    },
    {
     "name": "stdout",
     "output_type": "stream",
     "text": [
      "The password generated is: 1ylj-?3<p\n"
     ]
    }
   ],
   "source": [
    "import random\n",
    "\n",
    "num_letters = int(input(\"How many letters would you like in your password? \"))\n",
    "num_symbols = int(input(\"How many symbols would you like in your password? \"))\n",
    "num_numbers = int(input(\"How many numbers would you like in your password? \"))\n",
    "password_chars = []\n",
    "\n",
    "letters = ['a','b','c','d','e','f','g','h','i','j','k','l','m',\n",
    "           'n','o','p','q','r','s','t','u','v','w','x','y','z']\n",
    "numbers = ['1','2','3','4','5','6','7','8','9','0']\n",
    "symbols = ['!', '@', '#', '$', '%', '^', '&', '*', '(', ')',\n",
    "           '-', '_', '=', '+', '[', ']', '{', '}', '\\\\', '|',\n",
    "           ';', ':', \"'\", '\"', ',', '<', '.', '>', '/', '?', '`', '~']\n",
    "\n",
    "for i in range(num_letters):\n",
    "    password_chars.append(random.choice(letters))\n",
    "\n",
    "for j in range(num_symbols):\n",
    "    password_chars.append(random.choice(symbols))\n",
    "\n",
    "for k in range(num_numbers):\n",
    "    password_chars.append(random.choice(numbers))\n",
    "\n",
    "random.shuffle(password_chars)\n",
    "password = \"\".join(password_chars)\n",
    "\n",
    "print(f\"The password generated is: {password}\")\n"
   ]
  },
  {
   "cell_type": "markdown",
   "id": "c284144e-5d34-4e1b-86d1-f83ba8506a59",
   "metadata": {},
   "source": [
    "# Others"
   ]
  },
  {
   "cell_type": "code",
   "execution_count": null,
   "id": "a3956b01-7e77-4da8-9e22-a718341e4a52",
   "metadata": {},
   "outputs": [],
   "source": [
    "ip = int(input(\"input an ip address: \").split(\".\")[0])\n",
    "\n",
    "if ip == 127:\n",
    "    print(f\"{ip} is Local Host\")\n",
    "elif 1 <= ip <= 126:\n",
    "    print(f\"{ip} is Class A\")\n",
    "elif 128 <= ip <= 191:\n",
    "    print(f\"{ip} is Class B\")\n",
    "elif 192 <= ip <= 223:\n",
    "    print(f\"{ip} is Class C\")\n",
    "elif 224 <= ip <= 239:\n",
    "    print(f\"{ip} is Class D\")\n",
    "elif 240 <= ip <= 254:\n",
    "    print(f\"{ip} is Class E\")"
   ]
  },
  {
   "cell_type": "code",
   "execution_count": 17,
   "id": "7d3418e4-6c57-460b-be57-976e08e81c42",
   "metadata": {},
   "outputs": [
    {
     "name": "stdout",
     "output_type": "stream",
     "text": [
      "Hello\n"
     ]
    }
   ],
   "source": [
    "print(\"Hello\")"
   ]
  },
  {
   "cell_type": "code",
   "execution_count": null,
   "id": "81bf21b0-8e68-4f54-b1b3-b0d750d6a602",
   "metadata": {},
   "outputs": [],
   "source": [
    "# HANGMAN GAME\n",
    "\n"
   ]
  },
  {
   "cell_type": "markdown",
   "id": "beb9d011-df1d-427e-814c-83e776c977ae",
   "metadata": {},
   "source": [
    "# FUNCTION\n"
   ]
  },
  {
   "cell_type": "code",
   "execution_count": 11,
   "id": "d7b562ec-b6fe-4917-9b1b-485895e299ac",
   "metadata": {},
   "outputs": [],
   "source": [
    "def func1():\n",
    "    print(\"Hi\")\n",
    "\n"
   ]
  },
  {
   "cell_type": "code",
   "execution_count": null,
   "id": "181a1928-79d8-4681-b37e-57ffd79446c2",
   "metadata": {},
   "outputs": [],
   "source": []
  }
 ],
 "metadata": {
  "kernelspec": {
   "display_name": "Python 3",
   "language": "python",
   "name": "python3"
  },
  "language_info": {
   "codemirror_mode": {
    "name": "ipython",
    "version": 3
   },
   "file_extension": ".py",
   "mimetype": "text/x-python",
   "name": "python",
   "nbconvert_exporter": "python",
   "pygments_lexer": "ipython3",
   "version": "3.12.7"
  }
 },
 "nbformat": 4,
 "nbformat_minor": 5
}
