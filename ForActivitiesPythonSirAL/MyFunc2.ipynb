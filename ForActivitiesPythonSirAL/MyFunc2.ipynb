{
 "cells": [
  {
   "cell_type": "code",
   "execution_count": 6,
   "id": "ec6a2f53-2274-461e-ab09-0e14b509e46b",
   "metadata": {},
   "outputs": [],
   "source": [
    "def compute_bmi(weight,height):\n",
    "    bmi = (weight/(height*height))\n",
    "    return bmi\n",
    "\n",
    "def bmi_remarks(BMI):\n",
    "    if BMI <= 18.5:\n",
    "        return \"Remarks: Underweight\" + \"\\nMust do: You need to gain weight\"\n",
    "    elif BMI <= 24.99:\n",
    "        return \"Remarks: Normal\" + \"\\nMust do: Keep it up\"\n",
    "    elif BMI <= 29.99:\n",
    "        return \"Remarks: Overweight\" + \"\\nMust do: You need to lose weight\"\n",
    "    elif BMI <= 34.99:\n",
    "        return \"Remarks: Obese (Class 1)\" + \"\\nMust do: You need to lose weight\"\n",
    "    elif BMI <= 39.99:\n",
    "        return \"Remarks: Obese (Class 2)\" + \"\\nMust do: You need to lose weight\"\n",
    "    elif BMI >= 40.00:\n",
    "        return \"Remarks: Morbid Obesity\" + \"\\nMust do: You need to lose weight\""
   ]
  },
  {
   "cell_type": "code",
   "execution_count": 8,
   "id": "1d676d79-cf07-4ad9-8d32-538a2ad1f2a2",
   "metadata": {},
   "outputs": [],
   "source": [
    "def compute(eq1, eq2, lg1, lg2, mt_eq):\n",
    "    midterm_grade = (eq1 + eq2 + lg1 + lg2 + mt_eq) / 5\n",
    "    return midterm_grade"
   ]
  },
  {
   "cell_type": "code",
   "execution_count": null,
   "id": "2cb7a16b-8448-4537-8e06-98d2809c20de",
   "metadata": {},
   "outputs": [],
   "source": []
  }
 ],
 "metadata": {
  "kernelspec": {
   "display_name": "Python 3",
   "language": "python",
   "name": "python3"
  },
  "language_info": {
   "codemirror_mode": {
    "name": "ipython",
    "version": 3
   },
   "file_extension": ".py",
   "mimetype": "text/x-python",
   "name": "python",
   "nbconvert_exporter": "python",
   "pygments_lexer": "ipython3",
   "version": "3.12.7"
  }
 },
 "nbformat": 4,
 "nbformat_minor": 5
}
