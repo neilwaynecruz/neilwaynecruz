{
 "cells": [
  {
   "cell_type": "code",
   "execution_count": 106,
   "id": "39f31d19-207f-4246-9419-d6f35cfb852e",
   "metadata": {},
   "outputs": [
    {
     "name": "stdin",
     "output_type": "stream",
     "text": [
      "Enter a number:  -20\n"
     ]
    },
    {
     "name": "stdout",
     "output_type": "stream",
     "text": [
      "It is NEGATIVE\n",
      "It is LESS THAN 0\n"
     ]
    }
   ],
   "source": [
    "num = int(input(\"Enter a number: \"))\n",
    "\n",
    "if num>= 0:\n",
    "    print(\"It is POSITIVE\")\n",
    "    print(\"It is GREATER THAN 0\")\n",
    "else:\n",
    "    print(\"It is NEGATIVE\");\n",
    "    print(\"It is LESS THAN 0\")\n"
   ]
  },
  {
   "cell_type": "code",
   "execution_count": 108,
   "id": "d8cb4115-8906-4fc0-bbcf-ee32b3a568bb",
   "metadata": {},
   "outputs": [
    {
     "name": "stdin",
     "output_type": "stream",
     "text": [
      "Enter score:  32\n",
      "Enter number of items:  50\n"
     ]
    },
    {
     "name": "stdout",
     "output_type": "stream",
     "text": [
      "Transmuted grade is 82\n"
     ]
    }
   ],
   "source": [
    "score = float(input(\"Enter score: \"))\n",
    "num_of_items = int(input(\"Enter number of items: \"))\n",
    "\n",
    "tg = score * 50/num_of_items + 50\n",
    "\n",
    "print(f\"Transmuted grade is {int(tg)}\")"
   ]
  },
  {
   "cell_type": "code",
   "execution_count": 40,
   "id": "1b91ea66-da09-4699-90e5-2c14979bbd73",
   "metadata": {},
   "outputs": [
    {
     "name": "stdout",
     "output_type": "stream",
     "text": [
      "BSIT 2-2\n",
      "INTE 202\n",
      "PYTHON PROGRAMMING\n",
      "<class 'int'>\n",
      "<class 'float'>\n",
      "<class 'str'>\n"
     ]
    },
    {
     "data": {
      "text/plain": [
       "False"
      ]
     },
     "execution_count": 40,
     "metadata": {},
     "output_type": "execute_result"
    }
   ],
   "source": [
    "print(\"BSIT 2-2\")\n",
    "print('INTE 202')\n",
    "print(\"\"\"PYTHON PROGRAMMING\"\"\")\n",
    "\n",
    "x = 5\n",
    "pi = 3.14159\n",
    "word = \"pup\"\n",
    "\n",
    "print(type(x))\n",
    "print(type(pi))\n",
    "print(type(word))\n",
    "x>14"
   ]
  },
  {
   "cell_type": "code",
   "execution_count": 56,
   "id": "88868585-95b6-4a0e-8a04-09cbb588f73a",
   "metadata": {},
   "outputs": [
    {
     "name": "stdin",
     "output_type": "stream",
     "text": [
      "Enter your name:  Neil\n",
      "Enter your age:  19\n"
     ]
    },
    {
     "name": "stdout",
     "output_type": "stream",
     "text": [
      "Your name is Neil\n",
      "9\n"
     ]
    }
   ],
   "source": [
    "# x = int(input(\"Enter a number: \"))\n",
    "\n",
    "# if x < 0:\n",
    "#     print(\"NEGATIVE\")\n",
    "# elif x == 0:\n",
    "#     print(\"IT IS A 0\")\n",
    "# else:\n",
    "#     print(\"POSITIVE\")\n",
    "\n",
    "name = input(\"Enter your name: \")\n",
    "age  = int(input(\"Enter your age: \"))\n",
    "\n",
    "print(\"Your name is \" + name)\n",
    "age + 10\n",
    "\n",
    "# int(age/2)\n",
    "\n",
    "print(int(age/2))\n"
   ]
  },
  {
   "cell_type": "code",
   "execution_count": null,
   "id": "3a31f892-e260-4d77-a776-4ead6231092f",
   "metadata": {},
   "outputs": [],
   "source": []
  },
  {
   "cell_type": "code",
   "execution_count": null,
   "id": "af78ee55-fca0-479b-a4d3-6860e2c4e61e",
   "metadata": {},
   "outputs": [],
   "source": []
  }
 ],
 "metadata": {
  "kernelspec": {
   "display_name": "Python [conda env:base] *",
   "language": "python",
   "name": "conda-base-py"
  },
  "language_info": {
   "codemirror_mode": {
    "name": "ipython",
    "version": 3
   },
   "file_extension": ".py",
   "mimetype": "text/x-python",
   "name": "python",
   "nbconvert_exporter": "python",
   "pygments_lexer": "ipython3",
   "version": "3.12.7"
  }
 },
 "nbformat": 4,
 "nbformat_minor": 5
}
