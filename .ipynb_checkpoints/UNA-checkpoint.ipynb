{
 "cells": [
  {
   "cell_type": "code",
   "execution_count": 37,
   "id": "6112cff1-0aea-404a-9603-a6d3bba9dde2",
   "metadata": {
    "collapsed": true,
    "jupyter": {
     "outputs_hidden": true
    }
   },
   "outputs": [
    {
     "name": "stdout",
     "output_type": "stream",
     "text": [
      "First Program - Python print function\n",
      "It is declared like this: \n",
      "print(\"What to print\")\n"
     ]
    }
   ],
   "source": [
    "print(\"First Program - Python print function\")\n",
    "print(\"It is declared like this: \")\n",
    "print(\"print(\\\"What to print\\\")\")"
   ]
  },
  {
   "cell_type": "code",
   "execution_count": 108,
   "id": "f2248e0d-18cb-4c5d-bef9-0cef4674f389",
   "metadata": {},
   "outputs": [
    {
     "name": "stdout",
     "output_type": "stream",
     "text": [
      "Hello World \n",
      "Hello World \n",
      "Hello World\n",
      "NEIL WAYNE\n"
     ]
    }
   ],
   "source": [
    "print(\"Hello World \\nHello World \\nHello World\")\n",
    "\n",
    "name = \"NEIL\"\n",
    "name2 = \"WAYNE\"\n",
    "print(name + \" \" + name2)"
   ]
  },
  {
   "cell_type": "code",
   "execution_count": 130,
   "id": "2c107c0a-1776-46e0-9b4c-f1f694f88080",
   "metadata": {
    "collapsed": true,
    "jupyter": {
     "outputs_hidden": true
    }
   },
   "outputs": [
    {
     "name": "stdout",
     "output_type": "stream",
     "text": [
      "String Manipulation Exercise\n",
      "String Concatenation is done with \"+\" sign\n",
      "e.g. print(\"Hello\" + \"Jenny\")\n",
      "New lines can be created with a backslash and n\n"
     ]
    }
   ],
   "source": [
    "# # METHOD 1\n",
    "# print(\"String Manipulation Exercise\")\n",
    "# print(\"String Concatenation is done with \\\"+\\\" sign\")\n",
    "# print(\"e.g. print(\\\"Hello\\\" + \\\"Jenny\\\")\")\n",
    "# print(\"New lines can be created with a backslash and n\")\n",
    "\n",
    "# METHOD 2\n",
    "print(\"String Manipulation Exercise\\nString Concatenation is done with \\\"+\\\" sign\\ne.g. print(\\\"Hello\\\" + \\\"Jenny\\\")\\nNew lines can be created with a backslash and n\")"
   ]
  },
  {
   "cell_type": "code",
   "execution_count": 164,
   "id": "aa2ac3e6-bb33-4d2e-afe8-17020ffc878a",
   "metadata": {},
   "outputs": [
    {
     "name": "stdin",
     "output_type": "stream",
     "text": [
      "What is your name? Neil\n"
     ]
    },
    {
     "name": "stdout",
     "output_type": "stream",
     "text": [
      "Hey Neil, how are you?\n"
     ]
    }
   ],
   "source": [
    "# a = input(\"what is your name: \")\n",
    "\n",
    "# print(\"Hey \" + input(\"What is your name?:\") + \",\" + \" how are you?\")\n",
    "\n",
    "name = input(\"What is your name?\")\n",
    "print(\"Hey \" + name + \",\" + \" how are you?\")\n",
    "\n"
   ]
  },
  {
   "cell_type": "code",
   "execution_count": 190,
   "id": "11fcc171-77db-4a82-b4d9-429036b38e37",
   "metadata": {},
   "outputs": [
    {
     "name": "stdin",
     "output_type": "stream",
     "text": [
      "What is your name? Neil\n"
     ]
    },
    {
     "name": "stdout",
     "output_type": "stream",
     "text": [
      "4\n",
      "Neil Cruz\n"
     ]
    }
   ],
   "source": [
    "name = input(\"What is your name?\")\n",
    "print(len(name))\n",
    "\n",
    "\n",
    "print(name + \" Cruz\")\n"
   ]
  },
  {
   "cell_type": "code",
   "execution_count": 202,
   "id": "fe0c9551-d56c-43b3-8252-029e37cac8e1",
   "metadata": {},
   "outputs": [
    {
     "name": "stdin",
     "output_type": "stream",
     "text": [
      "Enter value of a =  -1\n",
      "Enter value of b =  12\n"
     ]
    },
    {
     "name": "stdout",
     "output_type": "stream",
     "text": [
      "a = 12\n",
      "b = -1\n"
     ]
    }
   ],
   "source": [
    "a = input(\"Enter value of a = \")\n",
    "b = input(\"Enter value of b = \")\n",
    "\n",
    "c = a\n",
    "a = b\n",
    "b = c\n",
    "\n",
    "print(\"a = \" + a)\n",
    "print(\"b = \" + b)"
   ]
  },
  {
   "cell_type": "code",
   "execution_count": 276,
   "id": "c5eecaa1-c952-4fa5-8e84-596c9f94e5f3",
   "metadata": {},
   "outputs": [
    {
     "name": "stdin",
     "output_type": "stream",
     "text": [
      "Enter a first number: 12\n",
      "Enter a second number: 12\n"
     ]
    },
    {
     "name": "stdout",
     "output_type": "stream",
     "text": [
      "Sum = 24\n"
     ]
    }
   ],
   "source": [
    "num1 = int(input(\"Enter a first number:\"))\n",
    "num2 = int(input(\"Enter a second number:\"))\n",
    "\n",
    "print(\"Sum =\", (num1 + num2))"
   ]
  },
  {
   "cell_type": "code",
   "execution_count": 312,
   "id": "9f7b15c8-926a-410d-bdad-f4bed7049464",
   "metadata": {},
   "outputs": [
    {
     "name": "stdin",
     "output_type": "stream",
     "text": [
      "Enter a 2 digit number: 123\n"
     ]
    },
    {
     "name": "stdout",
     "output_type": "stream",
     "text": [
      "3\n"
     ]
    }
   ],
   "source": [
    "num1 = input(\"Enter a 2 digit number:\")\n",
    "sum1 = int(num1[0]) + int(num1[1])\n",
    "\n",
    "print(sum1)"
   ]
  },
  {
   "cell_type": "code",
   "execution_count": 397,
   "id": "c1223a56-7708-4b0f-b4e8-63c221a8a25d",
   "metadata": {},
   "outputs": [
    {
     "name": "stdin",
     "output_type": "stream",
     "text": [
      "Enter a number 1 2\n",
      "Enter a number 2 2\n"
     ]
    },
    {
     "name": "stdout",
     "output_type": "stream",
     "text": [
      "4\n"
     ]
    }
   ],
   "source": [
    "nums = []\n",
    "\n",
    "for i in range (2):\n",
    "    add1 = int(input(\"Enter a number \" + str(i + 1)))\n",
    "    nums.append(add1)\n",
    "\n",
    "\n",
    "print(nums[0] + nums[1])\n"
   ]
  },
  {
   "cell_type": "code",
   "execution_count": 24,
   "id": "abec2076-4716-4bb1-a863-5ff6c4f5807a",
   "metadata": {},
   "outputs": [],
   "source": [
    "# Operators in Python (Ordered by Precedence from High to Low)\n",
    "\n",
    "# Parentheses (Grouping Operator)\n",
    "# ()  - Used to override the default precedence of operators (Highest precedence)\n",
    "\n",
    "# Arithmetic Operators\n",
    "# **  (exponentiation (right to left))    (returns int or float)\n",
    "# *   (multiplication (left to right))    (returns int or float)\n",
    "# /   (division (left to right))          (returns float)\n",
    "# %   (modulus/remainder (left to right)) (returns int)\n",
    "# //  (floor division (left to right))    (returns int)\n",
    "# +   (addition (left to right))          (returns int or float)\n",
    "# -   (subtraction (left to right))       (returns int or float)\n",
    "\n",
    "# Bitwise NOT Operator (complement)\n",
    "# ~   (bitwise NOT (complement) (unary, highest precedence in bitwise ops)) # -(x+1)\n",
    "\n",
    "# Bitwise Shift Operators\n",
    "# <<  (left shift (left to right))  # x*2^n (we gain bits in left shift)\n",
    "# >>  (right shift (left to right)) # x/2^n (we lose bits in right shift)\n",
    "\n",
    "# Bitwise AND, XOR, OR Operators\n",
    "# &   (bitwise AND (left to right))\n",
    "# ^   (bitwise XOR (left to right))\n",
    "# |   (bitwise OR (left to right))\n",
    "\n",
    "# Comparison Operators (Relational Operators)\n",
    "# <   (less than)\n",
    "# >   (greater than)\n",
    "# <=  (less than or equal to)\n",
    "# >=  (greater than or equal to)\n",
    "# ==  (equal to)\n",
    "# !=  (not equal to)\n",
    "\n",
    "# Identity Operators\n",
    "# is      (returns True if both variables refer to the same object)\n",
    "# is not  (returns True if both variables do not refer to the same object)\n",
    "\n",
    "# Membership Operators\n",
    "# in      (returns True if a value is found in a sequence)\n",
    "# not in  (returns True if a value is not found in a sequence)\n",
    "\n",
    "# Logical Operators\n",
    "# not  (logical NOT)   same as Java: ! (highest precedence among logical operators)\n",
    "# and  (logical AND)   same as Java: &&\n",
    "# or   (logical OR)    same as Java: ||\n",
    "\n",
    "# Assignment Operators (Augmented Assignment Operators)\n",
    "# a **= 2  same as:  a = a ** 2\n",
    "# a *=  2  same as:  a = a *  2\n",
    "# a /=  2  same as:  a = a /  2\n",
    "# a //= 2  same as:  a = a // 2\n",
    "# a %=  2  same as:  a = a %  2\n",
    "# a +=  2  same as:  a = a +  2\n",
    "# a -=  2  same as:  a = a -  2\n",
    "# a &=  2  same as:  a = a &  2\n",
    "# a ^=  2  same as:  a = a ^  2\n",
    "# a |=  2  same as:  a = a |  2\n",
    "# a <<= 2  same as:  a = a << 2\n",
    "# a >>= 2  same as:  a = a >> 2\n"
   ]
  },
  {
   "cell_type": "code",
   "execution_count": 69,
   "id": "6b4d9af3-9e1d-4f0a-9052-2ad4d5727a40",
   "metadata": {},
   "outputs": [
    {
     "name": "stdin",
     "output_type": "stream",
     "text": [
      "Enter your WEIGHT (in kg): 57\n",
      "Enter your HEIGHT (in meter): 1.65\n"
     ]
    },
    {
     "name": "stdout",
     "output_type": "stream",
     "text": [
      "Your BMI is 20.94\n"
     ]
    }
   ],
   "source": [
    "# in lbs(weight) and inches(height)\n",
    "\n",
    "\n",
    "# weight = float(input(\"Enter your WEIGHT (in lbs):\"))\n",
    "# height = float(input(\"Enter your HEIGHT (in inches):\"))\n",
    "\n",
    "# BMI = (weight / (height * height)) * 703\n",
    "\n",
    "# print(f\"Your BMI is {BMI:.2f}\")\n",
    "\n",
    "# in kg(weight) and meter (height)\n",
    "\n",
    "weight = float(input(\"Enter your WEIGHT (in kg):\"))\n",
    "height = float(input(\"Enter your HEIGHT (in meter):\"))\n",
    "\n",
    "BMI = (weight / (height ** 2))\n",
    "\n",
    "print(f\"Your BMI is {BMI:.2f}\")\n",
    "# print(\"Your BMU is \",BMI)\n"
   ]
  },
  {
   "cell_type": "code",
   "execution_count": 4,
   "id": "d2b27eaa-d058-4c0a-9070-a7068bff8c94",
   "metadata": {},
   "outputs": [
    {
     "name": "stdout",
     "output_type": "stream",
     "text": [
      "140719881660984\n",
      "140719881660984\n"
     ]
    }
   ],
   "source": [
    "a = 5\n",
    "b = 5\n",
    "\n",
    "print(id(a))\n",
    "print(id(b))"
   ]
  },
  {
   "cell_type": "code",
   "execution_count": 2,
   "id": "a727816b-8228-472e-b392-3496ff0adfa7",
   "metadata": {},
   "outputs": [
    {
     "name": "stdout",
     "output_type": "stream",
     "text": [
      "True\n"
     ]
    }
   ],
   "source": [
    "a = 5\n",
    "a = 8\n",
    "print(a is a)"
   ]
  },
  {
   "cell_type": "code",
   "execution_count": 8,
   "id": "242c2828-e0c3-4d32-9eef-f902a9c7cb5c",
   "metadata": {},
   "outputs": [
    {
     "data": {
      "text/plain": [
       "6210.0"
      ]
     },
     "execution_count": 8,
     "metadata": {},
     "output_type": "execute_result"
    }
   ],
   "source": [
    "round(6212.156,-1)"
   ]
  },
  {
   "cell_type": "code",
   "execution_count": 4,
   "id": "3b0f922b-83db-4205-8b9a-eb606b365a8c",
   "metadata": {},
   "outputs": [
    {
     "name": "stdout",
     "output_type": "stream",
     "text": [
      "Requirement already satisfied: nbimporter in c:\\users\\neil wayne cruz\\anaconda3\\lib\\site-packages (0.3.4)\n"
     ]
    }
   ],
   "source": [
    "!pip install nbimporter\n",
    "\n",
    "def square(x):\n",
    "    return x * x\n",
    "\n",
    "def prod(a, b):\n",
    "    return a * b\n",
    "\n",
    "def sum(a, b):\n",
    "    return a + b\n",
    "\n",
    "def transg(x, y):\n",
    "    return (x + y) / 2  # Example function"
   ]
  },
  {
   "cell_type": "code",
   "execution_count": 12,
   "id": "b1b1f06d-ba16-4e6b-b963-656a7b22354b",
   "metadata": {},
   "outputs": [
    {
     "name": "stdin",
     "output_type": "stream",
     "text": [
      "Enter your age: 19\n"
     ]
    },
    {
     "name": "stdout",
     "output_type": "stream",
     "text": [
      "You have a 25,915, 3,692 weeks and 852 months left\n"
     ]
    }
   ],
   "source": [
    "age = int(input(\"Enter your age:\"))\n",
    "\n",
    "years_left = 90 - age\n",
    "\n",
    "days   = years_left * 365 \n",
    "months = years_left * 12\n",
    "weeks  = years_left * 52\n",
    "\n",
    "print(f\"You have a {days:,}, {weeks:,} weeks and {months:,} months left\")\n"
   ]
  },
  {
   "cell_type": "code",
   "execution_count": 61,
   "id": "dec118e2-5b48-42bc-b32e-c541aaa7fc07",
   "metadata": {},
   "outputs": [
    {
     "name": "stdin",
     "output_type": "stream",
     "text": [
      "Enter a number: 2\n"
     ]
    },
    {
     "name": "stdout",
     "output_type": "stream",
     "text": [
      "EVEN\n"
     ]
    },
    {
     "name": "stdin",
     "output_type": "stream",
     "text": [
      "Enter a number: 0\n"
     ]
    },
    {
     "name": "stdout",
     "output_type": "stream",
     "text": [
      "EVEN\n",
      "\n",
      "-------------------\n",
      "  END OF PROGRAM   \n",
      "-------------------\n"
     ]
    }
   ],
   "source": [
    "# if else\n",
    "nums = 1\n",
    "\n",
    "while nums > 0:\n",
    "    nums = int(input(\"Enter a number:\"))\n",
    "    print(\"EVEN\" if nums % 2 == 0 else \"ODD\")\n",
    "\n",
    "print()\n",
    "print(\"-------------------\")\n",
    "print(\"  END OF PROGRAM   \")\n",
    "print(\"-------------------\")"
   ]
  },
  {
   "cell_type": "code",
   "execution_count": 91,
   "id": "716f835e-3c21-4a52-9c61-8ed50ef33190",
   "metadata": {},
   "outputs": [
    {
     "name": "stdin",
     "output_type": "stream",
     "text": [
      "What unit of mass you want to convert your weight (kg or lbs)?: lbs\n",
      "What unit of measurement you want to convert your height (m or inch)?: inch\n",
      "Enter your WEIGHT (in lbs):  154\n",
      "Enter your HEIGHT (in inch):  69\n"
     ]
    },
    {
     "name": "stdout",
     "output_type": "stream",
     "text": [
      "\n",
      "Your BMI is: 22.74\n",
      "You are in the category of: Normal range\n"
     ]
    }
   ],
   "source": [
    "\n",
    "def calculate_bmi(weight, height, unit_w, unit_h):\n",
    "    if unit_w == \"kg\" and unit_h == \"m\":\n",
    "        return weight / (height ** 2)\n",
    "    elif unit_w == \"kg\" and unit_h == \"inch\":\n",
    "        return (weight / (height ** 2)) * 1550\n",
    "    elif unit_w == \"lbs\" and unit_h == \"m\":\n",
    "        return (weight * 0.453592) / (height ** 2)\n",
    "    elif unit_w == \"lbs\" and unit_h == \"inch\":\n",
    "        return (weight / (height ** 2)) * 703\n",
    "    else:\n",
    "        return None\n",
    "\n",
    "def categorize_bmi(bmi):\n",
    "    if bmi < 16.0:\n",
    "        return \"Underweight (Severe thinness)\"\n",
    "    elif bmi <= 16.9:\n",
    "        return \"Underweight (Moderate thinness)\"\n",
    "    elif bmi <= 18.4:\n",
    "        return \"Underweight (Mild thinness)\"\n",
    "    elif bmi <= 24.9:\n",
    "        return \"Normal range\"\n",
    "    elif bmi <= 29.9:\n",
    "        return \"Overweight (Pre-obese)\"\n",
    "    elif bmi <= 34.9:\n",
    "        return \"Obese (Class-I)\"\n",
    "    elif bmi <= 39.9:\n",
    "        return \"Obese (Class-II)\"\n",
    "    else:\n",
    "        return \"Obese (Class-III)\"\n",
    "\n",
    "choice1 = input(\"What unit of mass you want to convert your weight (kg or lbs)?:\").lower()\n",
    "choice2 = input(\"What unit of measurement you want to convert your height (m or inch)?:\").lower()\n",
    "\n",
    "weight = float(input(f\"Enter your WEIGHT (in {choice1}): \"))\n",
    "height = float(input(f\"Enter your HEIGHT (in {choice2}): \"))\n",
    "\n",
    "bmi = calculate_bmi(weight = weight, height = height, unit_w = choice1, unit_h = choice2)\n",
    "print()\n",
    "\n",
    "if bmi:\n",
    "    print(f\"Your BMI is: {bmi:.2f}\")\n",
    "    print(f\"You are in the category of: {categorize_bmi(bmi)}\")\n",
    "else:\n",
    "    print(\"Invalid input. Please enter valid units.\")\n"
   ]
  },
  {
   "cell_type": "code",
   "execution_count": null,
   "id": "cab48221-4d09-4168-a492-6e2ae882ab02",
   "metadata": {},
   "outputs": [],
   "source": []
  }
 ],
 "metadata": {
  "kernelspec": {
   "display_name": "Python 3",
   "language": "python",
   "name": "python3"
  },
  "language_info": {
   "codemirror_mode": {
    "name": "ipython",
    "version": 3
   },
   "file_extension": ".py",
   "mimetype": "text/x-python",
   "name": "python",
   "nbconvert_exporter": "python",
   "pygments_lexer": "ipython3",
   "version": "3.12.7"
  }
 },
 "nbformat": 4,
 "nbformat_minor": 5
}
