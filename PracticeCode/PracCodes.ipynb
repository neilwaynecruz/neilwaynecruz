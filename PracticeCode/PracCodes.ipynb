{
 "cells": [
  {
   "cell_type": "code",
   "execution_count": null,
   "id": "2f27a784",
   "metadata": {},
   "outputs": [
    {
     "name": "stdout",
     "output_type": "stream",
     "text": [
      "Welcome to the Library Book Borrowing System Program\n",
      "\n",
      "An error occurred: 'int' object is not subscriptable\n",
      "\n",
      "\n",
      "The Library Book Borrowing System Program is Ended\n"
     ]
    }
   ],
   "source": [
    "import csv\n",
    "from os import path\n",
    "import time\n",
    "\n",
    "print(\"Welcome to the Library Book Borrowing System Program\\n\")\n",
    "\n",
    "try:\n",
    "    user_choice = int(input(\"1. Writing Files\\n2. Reading files\\n:\")[0])\n",
    "\n",
    "    if user_choice == 1:\n",
    "        if path.exists(\"borrowed_books.csv\"):\n",
    "            mode = \"a\"\n",
    "        else:\n",
    "            mode = \"w\"\n",
    "\n",
    "        with open(\"borrowed_books.csv\", mode, newline=\"\") as fp:\n",
    "            fprint = csv.writer(fp)\n",
    "\n",
    "            if mode == \"w\":\n",
    "                fprint.writerow([\"Borrower ID\", \"Name\", \"Book Title\", \"Author\", \"Days Borrowed\", \"Status\"])\n",
    "\n",
    "            records = []\n",
    "\n",
    "            while True:\n",
    "                b_id = int(input(\"Enter a Borrower ID:\"))\n",
    "                b_name = input(\"Enter a Borrower Name:\")\n",
    "                b_title = input(\"Enter Book Title:\")\n",
    "                b_author = input(\"Enter Book Author:\")\n",
    "                num_day = int(input(\"Enter Number of Days Borrowed:\"))\n",
    "\n",
    "                if num_day <= 7:\n",
    "                    status = \"On Time\"\n",
    "                elif 8 <= num_day <= 14:\n",
    "                    status = \"Late\"\n",
    "                else:\n",
    "                    status = \"Overdue\"\n",
    "\n",
    "                temp_record = [b_id, b_name, b_title, b_author, num_day, status]\n",
    "                records.append(temp_record)\n",
    "\n",
    "                print(\"Record Saved!!\\n\")\n",
    "\n",
    "                choice = input(\"Continue? [Y/N]:\").strip().upper()\n",
    "                if choice and choice[0] == \"N\":\n",
    "                    print(\"\\n\")\n",
    "                    break\n",
    "\n",
    "            fprint.writerows(records)\n",
    "    else:\n",
    "        with open(\"borrowed_books.csv\", \"r\", newline=\"\") as fp:\n",
    "            fscan = csv.reader(fp)\n",
    "            rows = list(fscan)\n",
    "            if rows:\n",
    "                # Print header\n",
    "                id, name, title, author, day, stat = rows[0]\n",
    "                print(f\"\\n{id:15}\\t{name:15}\\t{title:15}\\t{author:15}\\t{day:15}\\t{stat}\")\n",
    "                # Print data\n",
    "                for row in rows[1:]:\n",
    "                    id, name, title, author, day, stat = row\n",
    "                    print(f\"{id:15}\\t{name:15}\\t{title:15}\\t{author:15}\\t{day:15}\\t{stat}\")\n",
    "\n",
    "except Exception as e:\n",
    "    print(f\"An error occurred: {e}\")\n",
    "finally:\n",
    "    print(\"\\n\\nThe Library Book Borrowing System Program is Ended\")"
   ]
  },
  {
   "cell_type": "code",
   "execution_count": null,
   "id": "15e3899d",
   "metadata": {},
   "outputs": [
    {
     "name": "stdout",
     "output_type": "stream",
     "text": [
      "11\n",
      "234\n",
      "123\n"
     ]
    }
   ],
   "source": []
  }
 ],
 "metadata": {
  "kernelspec": {
   "display_name": "Python 3",
   "language": "python",
   "name": "python3"
  },
  "language_info": {
   "codemirror_mode": {
    "name": "ipython",
    "version": 3
   },
   "file_extension": ".py",
   "mimetype": "text/x-python",
   "name": "python",
   "nbconvert_exporter": "python",
   "pygments_lexer": "ipython3",
   "version": "3.13.2"
  }
 },
 "nbformat": 4,
 "nbformat_minor": 5
}
