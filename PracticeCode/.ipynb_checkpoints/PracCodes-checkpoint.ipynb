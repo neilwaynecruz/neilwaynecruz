{
 "cells": [
  {
   "cell_type": "code",
   "execution_count": null,
   "id": "15e3899d",
   "metadata": {},
   "outputs": [],
   "source": [
    "import csv\n",
    "from os import path\n",
    "import time\n",
    "\n",
    "print(\"Welcome to the Library Book Borrowing System Program\\n\")\n",
    "\n",
    "\n",
    "while True:\n",
    "   try:\n",
    "     user_choice = int(input(\"1. Writing Files\\n2. Reading files\\n:\")[0])\n",
    "\n",
    "     if user_choice == 1:\n",
    "        time.sleep(0.6)\n",
    "        print(\"\\nWriting files...\\n\")\n",
    "        if path.exists(\"borrowed_books.csv\"):\n",
    "            mode = \"a\"\n",
    "        else:\n",
    "            mode = \"w\"\n",
    "\n",
    "        with open(\"borrowed_books.csv\", mode, newline=\"\") as fp:\n",
    "            fprint = csv.writer(fp)\n",
    "\n",
    "            if mode == \"w\":\n",
    "                fprint.writerow([\"Borrower ID\", \"Name\", \"Book Title\", \"Author\", \"Days Borrowed\", \"Status\"])\n",
    "\n",
    "            records = []\n",
    "            \n",
    "            while True:\n",
    "                b_id = int(input(\"Enter a Borrower ID:\"))\n",
    "                b_name = input(\"Enter a Borrower Name:\")\n",
    "                b_title = input(\"Enter Book Title:\")\n",
    "                b_author = input(\"Enter Book Author:\")\n",
    "                num_day = int(input(\"Enter Number of Days Borrowed:\"))\n",
    "\n",
    "                if num_day <= 7:\n",
    "                    status = \"On Time\"\n",
    "                elif 8 <= num_day <= 14:\n",
    "                    status = \"Late\"\n",
    "                else:\n",
    "                    status = \"Overdue\"\n",
    "\n",
    "                temp_record = [b_id, b_name, b_title, b_author, num_day, status]\n",
    "                records.append(temp_record)\n",
    "\n",
    "                print(\"Record Saved!!\\n\")\n",
    "\n",
    "                choice = input(\"Continue? [Y/N]:\").strip().upper()\n",
    "                if choice and choice[0] == \"N\":\n",
    "                    print(\"\\n\")\n",
    "                    break\n",
    "\n",
    "            fprint.writerows(records)\n",
    "\n",
    "     elif user_choice == 2:\n",
    "         time.sleep(0.6)\n",
    "         print(\"\\nReading files...\\n\")\n",
    "         with open(\"borrowed_books.csv\", \"r\", newline=\"\") as fp:\n",
    "            fscan = csv.reader(fp)\n",
    "            rows = list(fscan)\n",
    "            if rows: # if empty list it will return false\n",
    "                # to print header\n",
    "                id, name, title, author, day, stat = rows[0]\n",
    "                print(f\"\\n{id:15}\\t{name:15}\\t{title:15}\\t{author:15}\\t{day:15}\\t{stat}\")\n",
    "                # to print data\n",
    "                for row in rows[1:]:\n",
    "                    id, name, title, author, day, stat = row\n",
    "                    print(f\"{id:15}\\t{name:15}\\t{title:15}\\t{author:15}\\t{day:15}\\t{stat}\")\n",
    "     else:\n",
    "         break\n",
    "   except Exception as e:\n",
    "        print(f\"An error occurred: {e}\")\n",
    "\n",
    "print(\"\\n\\n***END OF PROGRAM***\\n\\n\")\n",
    "    "
   ]
  },
  {
   "cell_type": "code",
   "execution_count": 2,
   "id": "56bf68c2",
   "metadata": {},
   "outputs": [
    {
     "name": "stdout",
     "output_type": "stream",
     "text": [
      "Press A to write\n",
      "Press B to write\n"
     ]
    },
    {
     "name": "stdin",
     "output_type": "stream",
     "text": [
      ": a\n",
      "Enter a Student ID: 1\n",
      "Enter a Student Name: neil\n",
      "Enter a Subject: math\n",
      "Enter a Score: 23\n"
     ]
    },
    {
     "name": "stdout",
     "output_type": "stream",
     "text": [
      "[['1', 'neil', 'math', '23']]\n"
     ]
    },
    {
     "name": "stdin",
     "output_type": "stream",
     "text": [
      "Continue [Y/N]?: y\n",
      "Enter a Student ID: 2\n",
      "Enter a Student Name: wayne\n",
      "Enter a Subject: ap\n",
      "Enter a Score: 4\n"
     ]
    },
    {
     "name": "stdout",
     "output_type": "stream",
     "text": [
      "[['1', 'neil', 'math', '23'], ['2', 'wayne', 'ap', '4']]\n"
     ]
    },
    {
     "name": "stdin",
     "output_type": "stream",
     "text": [
      "Continue [Y/N]?: n\n"
     ]
    },
    {
     "name": "stdout",
     "output_type": "stream",
     "text": [
      "Press A to write\n",
      "Press B to write\n"
     ]
    },
    {
     "name": "stdin",
     "output_type": "stream",
     "text": [
      ": C\n"
     ]
    },
    {
     "name": "stdout",
     "output_type": "stream",
     "text": [
      "Press A to write\n",
      "Press B to write\n"
     ]
    },
    {
     "ename": "KeyboardInterrupt",
     "evalue": "Interrupted by user",
     "output_type": "error",
     "traceback": [
      "\u001b[1;31m---------------------------------------------------------------------------\u001b[0m",
      "\u001b[1;31mKeyboardInterrupt\u001b[0m                         Traceback (most recent call last)",
      "Cell \u001b[1;32mIn[2], line 18\u001b[0m\n\u001b[0;32m     16\u001b[0m \u001b[38;5;28mprint\u001b[39m(\u001b[38;5;124m\"\u001b[39m\u001b[38;5;124mPress A to write\u001b[39m\u001b[38;5;124m\"\u001b[39m)\n\u001b[0;32m     17\u001b[0m \u001b[38;5;28mprint\u001b[39m(\u001b[38;5;124m\"\u001b[39m\u001b[38;5;124mPress B to write\u001b[39m\u001b[38;5;124m\"\u001b[39m)\n\u001b[1;32m---> 18\u001b[0m user_input \u001b[38;5;241m=\u001b[39m \u001b[38;5;28minput\u001b[39m(\u001b[38;5;124m\"\u001b[39m\u001b[38;5;124m:\u001b[39m\u001b[38;5;124m\"\u001b[39m)\u001b[38;5;241m.\u001b[39mstrip()\u001b[38;5;241m.\u001b[39mupper()\n\u001b[0;32m     20\u001b[0m \u001b[38;5;28;01mif\u001b[39;00m user_input[\u001b[38;5;241m0\u001b[39m] \u001b[38;5;241m==\u001b[39m \u001b[38;5;124m\"\u001b[39m\u001b[38;5;124mA\u001b[39m\u001b[38;5;124m\"\u001b[39m:\n\u001b[0;32m     21\u001b[0m     \u001b[38;5;28;01mtry\u001b[39;00m:\n",
      "File \u001b[1;32m~\\anaconda3\\Lib\\site-packages\\ipykernel\\kernelbase.py:1262\u001b[0m, in \u001b[0;36mKernel.raw_input\u001b[1;34m(self, prompt)\u001b[0m\n\u001b[0;32m   1260\u001b[0m     msg \u001b[38;5;241m=\u001b[39m \u001b[38;5;124m\"\u001b[39m\u001b[38;5;124mraw_input was called, but this frontend does not support input requests.\u001b[39m\u001b[38;5;124m\"\u001b[39m\n\u001b[0;32m   1261\u001b[0m     \u001b[38;5;28;01mraise\u001b[39;00m StdinNotImplementedError(msg)\n\u001b[1;32m-> 1262\u001b[0m \u001b[38;5;28;01mreturn\u001b[39;00m \u001b[38;5;28mself\u001b[39m\u001b[38;5;241m.\u001b[39m_input_request(\n\u001b[0;32m   1263\u001b[0m     \u001b[38;5;28mstr\u001b[39m(prompt),\n\u001b[0;32m   1264\u001b[0m     \u001b[38;5;28mself\u001b[39m\u001b[38;5;241m.\u001b[39m_parent_ident[\u001b[38;5;124m\"\u001b[39m\u001b[38;5;124mshell\u001b[39m\u001b[38;5;124m\"\u001b[39m],\n\u001b[0;32m   1265\u001b[0m     \u001b[38;5;28mself\u001b[39m\u001b[38;5;241m.\u001b[39mget_parent(\u001b[38;5;124m\"\u001b[39m\u001b[38;5;124mshell\u001b[39m\u001b[38;5;124m\"\u001b[39m),\n\u001b[0;32m   1266\u001b[0m     password\u001b[38;5;241m=\u001b[39m\u001b[38;5;28;01mFalse\u001b[39;00m,\n\u001b[0;32m   1267\u001b[0m )\n",
      "File \u001b[1;32m~\\anaconda3\\Lib\\site-packages\\ipykernel\\kernelbase.py:1305\u001b[0m, in \u001b[0;36mKernel._input_request\u001b[1;34m(self, prompt, ident, parent, password)\u001b[0m\n\u001b[0;32m   1302\u001b[0m \u001b[38;5;28;01mexcept\u001b[39;00m \u001b[38;5;167;01mKeyboardInterrupt\u001b[39;00m:\n\u001b[0;32m   1303\u001b[0m     \u001b[38;5;66;03m# re-raise KeyboardInterrupt, to truncate traceback\u001b[39;00m\n\u001b[0;32m   1304\u001b[0m     msg \u001b[38;5;241m=\u001b[39m \u001b[38;5;124m\"\u001b[39m\u001b[38;5;124mInterrupted by user\u001b[39m\u001b[38;5;124m\"\u001b[39m\n\u001b[1;32m-> 1305\u001b[0m     \u001b[38;5;28;01mraise\u001b[39;00m \u001b[38;5;167;01mKeyboardInterrupt\u001b[39;00m(msg) \u001b[38;5;28;01mfrom\u001b[39;00m \u001b[38;5;28;01mNone\u001b[39;00m\n\u001b[0;32m   1306\u001b[0m \u001b[38;5;28;01mexcept\u001b[39;00m \u001b[38;5;167;01mException\u001b[39;00m:\n\u001b[0;32m   1307\u001b[0m     \u001b[38;5;28mself\u001b[39m\u001b[38;5;241m.\u001b[39mlog\u001b[38;5;241m.\u001b[39mwarning(\u001b[38;5;124m\"\u001b[39m\u001b[38;5;124mInvalid Message:\u001b[39m\u001b[38;5;124m\"\u001b[39m, exc_info\u001b[38;5;241m=\u001b[39m\u001b[38;5;28;01mTrue\u001b[39;00m)\n",
      "\u001b[1;31mKeyboardInterrupt\u001b[0m: Interrupted by user"
     ]
    }
   ],
   "source": [
    "import csv\n",
    "from os import path\n",
    "import time\n",
    "\n",
    "def write_rec():\n",
    "    try:\n",
    "        if path.exists(\"grades.csv\"):\n",
    "            mode = \"a\"\n",
    "        else:\n",
    "            mode = \"w\"\n",
    "        \n",
    "        with open(\"grades.csv\", mode, newline=\"\") as fp:\n",
    "            fwriter = csv.writer(fp)\n",
    "            \n",
    "            records = []\n",
    "            \n",
    "            while True:\n",
    "                stud_ID = input(\"Enter a Student ID:\")\n",
    "                stud_Name = input(\"Enter a Student Name:\")\n",
    "                stud_Subject = input(\"Enter a Subject:\")\n",
    "                stud_Score = input(\"Enter a Score:\")\n",
    "                \n",
    "                temp_rec = [stud_ID,stud_Name,stud_Subject,stud_Score]\n",
    "                records.append(temp_rec)\n",
    "\n",
    "                choice = input(\"Continue [Y/N]?:\").strip().upper()\n",
    "                    if choice[0] == \"N\":\n",
    "                        break\n",
    "    except Exception as e:\n",
    "        print(f\"Error: {e}\")\n",
    "            \n",
    "    \n",
    "def read_rec():\n",
    "    try:\n",
    "        print(\"\\nStudent Grade Records:\")\n",
    "        print(\"-----------------------------------------------------------\")\n",
    "        print(\"ID\\tName\\tSubject\\tGrade\\tStatus\\tTime Stamp\")\n",
    "        \n",
    "        with open(\"grades.csv\", \"r\", newline=\"\") as fp:\n",
    "            freader = csv.reader(fp)\n",
    "            rows = list(freader)\n",
    "            \n",
    "            if rows:\n",
    "                ID,NAME,SUBJECT,GRADE,\n",
    "\n",
    "            \n",
    "    except Exception as e:\n",
    "        pass\n",
    "\n",
    "\n",
    "while True:\n",
    "    print(\"Press A to write\")\n",
    "    print(\"Press B to write\")\n",
    "    print(\"Press C to exit\")\n",
    "    user_input = input(\":\").strip().upper()\n",
    "\n",
    "    if user_input[0] == \"A\":\n",
    "        write_rec()\n",
    "    if user_input[0] == \"B\":\n",
    "        read_rec()\n",
    "        \n",
    "        \n",
    "                    \n",
    "                \n",
    "        "
   ]
  }
 ],
 "metadata": {
  "kernelspec": {
   "display_name": "Python [conda env:base] *",
   "language": "python",
   "name": "conda-base-py"
  },
  "language_info": {
   "codemirror_mode": {
    "name": "ipython",
    "version": 3
   },
   "file_extension": ".py",
   "mimetype": "text/x-python",
   "name": "python",
   "nbconvert_exporter": "python",
   "pygments_lexer": "ipython3",
   "version": "3.12.7"
  }
 },
 "nbformat": 4,
 "nbformat_minor": 5
}
