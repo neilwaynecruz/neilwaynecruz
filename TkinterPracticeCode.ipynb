{
 "cells": [
  {
   "cell_type": "markdown",
   "id": "66a5e93c",
   "metadata": {},
   "source": [
    "# LABELS / GRIDS"
   ]
  },
  {
   "cell_type": "code",
   "execution_count": null,
   "id": "ac32100b",
   "metadata": {},
   "outputs": [],
   "source": [
    "from tkinter import *\n",
    "\n",
    "\n",
    "my_root_window = Tk()\n",
    "my_root_window.title(\"My First GUI\")\n",
    "my_root_window.geometry(\"800x800\")\n",
    "my_root_window.configure(bg=\"NavajoWhite\")\n",
    "my_root_window.resizable(width=True, height=True)\n",
    "# my_root_window.attributes(\"-alpha\", 0.9)  # Set transparency level\n",
    "\n",
    "\n",
    "Label(my_root_window, text=\"Hello, World!\", font=(\"Arial\", 24), bg=\"NavajoWhite\").grid(row=0, column=0, padx=10, pady=10)\n",
    "\n",
    "my_root_window.mainloop()\n",
    "# This is a simple GUI application using Tkinter in Python."
   ]
  },
  {
   "cell_type": "markdown",
   "id": "9a8c4d31",
   "metadata": {},
   "source": [
    "# Buttons / Input fields (text fields)"
   ]
  },
  {
   "cell_type": "code",
   "execution_count": null,
   "id": "40c870d3",
   "metadata": {},
   "outputs": [],
   "source": [
    "from tkinter import *\n",
    "\n",
    "my_root_window = Tk()\n",
    "my_root_window.title(\"My First GUI\")\n",
    "my_root_window.geometry(\"800x800\")\n",
    "my_root_window.resizable(width=True, height=True)\n",
    "\n",
    "\n",
    "txtMessage = StringVar()\n",
    "\n",
    "Entry(my_root_window, textvariable=txtMessage, width=30,borderwidth=23,font=(\"Arial\", 20), bg='black', fg=\"#9cfa20\").grid(row=0, column=0, padx=10, pady=10)\n",
    "Button(my_root_window, text=\"Click Me!\", command=lambda: Label(my_root_window, text=txtMessage.get(), width=30, font=(\"Arial\", 20), bg='black', fg=\"#9cfa20\",justify=\"left\",anchor='w').grid(row=2, column=0, padx=10, pady=10)\n",
    ", padx=20, pady=20, bg=\"Light blue\").grid(row=1, column=0, padx=10, pady=10)\n",
    "\n",
    "Label(my_root_window, text=\"Hello, World!\", font=(\"Arial\", 24), bg=\"NavajoWhite\").grid(row=0, column=0, padx=10, pady=10)\n",
    "\n",
    "\n",
    "\n",
    "my_root_window.mainloop()"
   ]
  },
  {
   "cell_type": "code",
   "execution_count": null,
   "id": "7e6974c8",
   "metadata": {},
   "outputs": [],
   "source": [
    "from tkinter import *\n",
    "\n",
    "my_window_root = Tk()\n",
    "my_window_root.title(\"Simple Calculator\")\n",
    "my_window_root.configure(bg=\"Light Gray\")\n",
    "my_window_root.resizable(width=False, height=False)\n",
    "\n",
    "# Function to handle button clicks\n",
    "def button_add(number):\n",
    "    current = e.get()\n",
    "    e.delete(0, END)\n",
    "    e.insert(0, str(current) + str(number))\n",
    "\n",
    "def button_clear():\n",
    "    e.delete(0, END)\n",
    "\n",
    "def button_equal():\n",
    "    try:\n",
    "        result = eval(e.get())\n",
    "        e.delete(0, END)\n",
    "        e.insert(0, str(result))\n",
    "    except:\n",
    "        e.delete(0, END)\n",
    "        e.insert(0, \"Error\")\n",
    "\n",
    "# Entry widget\n",
    "e = Entry(my_window_root, width=35, borderwidth=5, font=(\"Arial\", 24), justify='right')\n",
    "e.grid(row=0, column=0, columnspan=3, padx=10, pady=10)\n",
    "\n",
    "# Buttons\n",
    "button1 = Button(my_window_root, text=\"1\", width=20, height=5, padx=40, pady=20, command=lambda: button_add(1), font=(\"Arial\", 12))\n",
    "button1.grid(row=3, column=0)\n",
    "\n",
    "button2 = Button(my_window_root, text=\"2\", width=20, height=5, padx=40, pady=20, command=lambda: button_add(2), font=(\"Arial\", 12))\n",
    "button2.grid(row=3, column=1)\n",
    "\n",
    "button3 = Button(my_window_root, text=\"3\", width=20, height=5, padx=40, pady=20, command=lambda: button_add(3), font=(\"Arial\", 12))\n",
    "button3.grid(row=3, column=2)\n",
    "\n",
    "button4 = Button(my_window_root, text=\"4\", width=20, height=5, padx=40, pady=20, command=lambda: button_add(4), font=(\"Arial\", 12))\n",
    "button4.grid(row=2, column=0)\n",
    "\n",
    "button5 = Button(my_window_root, text=\"5\", width=20, height=5, padx=40, pady=20, command=lambda: button_add(5), font=(\"Arial\", 12))\n",
    "button5.grid(row=2, column=1)\n",
    "\n",
    "button6 = Button(my_window_root, text=\"6\", width=20, height=5, padx=40, pady=20, command=lambda: button_add(6), font=(\"Arial\", 12))\n",
    "button6.grid(row=2, column=2)\n",
    "\n",
    "button7 = Button(my_window_root, text=\"7\", width=20, height=5, padx=40, pady=20, command=lambda: button_add(7), font=(\"Arial\", 12))\n",
    "button7.grid(row=1, column=0)\n",
    "\n",
    "button8 = Button(my_window_root, text=\"8\", width=20, height=5, padx=40, pady=20, command=lambda: button_add(8), font=(\"Arial\", 12))\n",
    "button8.grid(row=1, column=1)\n",
    "\n",
    "button9 = Button(my_window_root, text=\"9\", width=20, height=5, padx=40, pady=20, command=lambda: button_add(9), font=(\"Arial\", 12))\n",
    "button9.grid(row=1, column=2)\n",
    "\n",
    "button0 = Button(my_window_root, text=\"0\", width=20, height=5, padx=40, pady=20, command=lambda: button_add(0), font=(\"Arial\", 12))\n",
    "button0.grid(row=4, column=0)\n",
    "\n",
    "button_clear = Button(my_window_root, text=\"Clear\", width=41, height=5, padx=79, pady=20, command=button_clear, font=(\"Arial\", 12))\n",
    "button_clear.grid(row=4, column=1, columnspan=2)\n",
    "\n",
    "button_plus = Button(my_window_root, text=\"+\", width=20, height=5, padx=40, pady=20, command=lambda: button_add(\"+\"), font=(\"Arial\", 12))\n",
    "button_plus.grid(row=5, column=0)\n",
    "\n",
    "button_equal = Button(my_window_root, text=\"=\", width=38, height=5, padx=91, pady=20, command=button_equal, font=(\"Arial\", 12))\n",
    "button_equal.grid(row=5, column=1, columnspan=2)\n",
    "\n",
    "my_window_root.mainloop()"
   ]
  },
  {
   "cell_type": "code",
   "execution_count": null,
   "id": "500dff97",
   "metadata": {},
   "outputs": [],
   "source": []
  },
  {
   "cell_type": "code",
   "execution_count": null,
   "id": "74a9aed3",
   "metadata": {},
   "outputs": [],
   "source": []
  },
  {
   "cell_type": "code",
   "execution_count": null,
   "id": "f64b5875",
   "metadata": {},
   "outputs": [],
   "source": []
  }
 ],
 "metadata": {
  "kernelspec": {
   "display_name": "Python 3",
   "language": "python",
   "name": "python3"
  },
  "language_info": {
   "codemirror_mode": {
    "name": "ipython",
    "version": 3
   },
   "file_extension": ".py",
   "mimetype": "text/x-python",
   "name": "python",
   "nbconvert_exporter": "python",
   "pygments_lexer": "ipython3",
   "version": "3.13.2"
  }
 },
 "nbformat": 4,
 "nbformat_minor": 5
}
