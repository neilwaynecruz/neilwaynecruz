{
 "cells": [
  {
   "cell_type": "markdown",
   "id": "78be4709-34ad-4c56-adcd-3ab4abb33238",
   "metadata": {},
   "source": [
    "# Load in numpy (remember to pip install numpy first) [!pip install numpy]"
   ]
  },
  {
   "cell_type": "code",
   "execution_count": 6,
   "id": "2ea50a12-1f09-4159-94d5-6ce4387498eb",
   "metadata": {},
   "outputs": [],
   "source": [
    "import numpy as np"
   ]
  },
  {
   "cell_type": "markdown",
   "id": "7c47eab1-bf61-4388-bf44-b115b951347a",
   "metadata": {
    "jp-MarkdownHeadingCollapsed": true
   },
   "source": [
    "# Basics"
   ]
  },
  {
   "cell_type": "code",
   "execution_count": 66,
   "id": "17db0eae-eb70-4421-b84d-39e65be7ecf4",
   "metadata": {},
   "outputs": [
    {
     "name": "stdout",
     "output_type": "stream",
     "text": [
      "[1 2 3]\n"
     ]
    }
   ],
   "source": [
    "# initialize array \n",
    "\n",
    "a = np.array([1,2,3], dtype='int32') # 1d array\n",
    "print(a)\n"
   ]
  },
  {
   "cell_type": "code",
   "execution_count": 92,
   "id": "9feec1db-def3-433a-b63e-85d52d00d589",
   "metadata": {},
   "outputs": [
    {
     "name": "stdout",
     "output_type": "stream",
     "text": [
      "[[ 1  2  3]\n",
      " [ 4  5  6]\n",
      " [ 7  8  9]\n",
      " [10 11 12]\n",
      " [13 14 15]]\n"
     ]
    }
   ],
   "source": [
    "b = np.array([[1,2,3],[4,5,6],[7,8,9],[10,11,12],[13,14,15]], dtype='int16')  #2d arrays\n",
    "\n",
    "print(b)\n",
    "\n",
    "# for i in b:\n",
    "#     for j in i:\n",
    "#         print(j, end=\" \")"
   ]
  },
  {
   "cell_type": "code",
   "execution_count": 106,
   "id": "21f66bf7-6a86-4843-b1e6-5fbc86edd837",
   "metadata": {},
   "outputs": [
    {
     "name": "stdout",
     "output_type": "stream",
     "text": [
      "The dimension in a is 1\n",
      "The dimension in b is 2\n"
     ]
    }
   ],
   "source": [
    "# Get dimension (use .ndim)\n",
    "\n",
    "print(f\"The dimension in a is {a.ndim}\")\n",
    "print(f\"The dimension in b is {b.ndim}\")"
   ]
  },
  {
   "cell_type": "code",
   "execution_count": 104,
   "id": "d565fd62-a772-4f49-8e6e-2a71eafbb21b",
   "metadata": {},
   "outputs": [
    {
     "name": "stdout",
     "output_type": "stream",
     "text": [
      "(3,)\n",
      "(5, 3)\n"
     ]
    }
   ],
   "source": [
    "# Get Shape\n",
    "\n",
    "print(a.shape)\n",
    "print(b.shape)"
   ]
  },
  {
   "cell_type": "code",
   "execution_count": 102,
   "id": "40c018a7-3cd7-451b-847c-bf7ea11f5b1a",
   "metadata": {},
   "outputs": [
    {
     "name": "stdout",
     "output_type": "stream",
     "text": [
      "int32\n",
      "int16\n"
     ]
    }
   ],
   "source": [
    "#  Get Type\n",
    "\n",
    "print(a.dtype)\n",
    "print(b.dtype)"
   ]
  },
  {
   "cell_type": "code",
   "execution_count": 100,
   "id": "2955ad07-e82b-40e1-86c1-c4e6b7fe734b",
   "metadata": {},
   "outputs": [
    {
     "name": "stdout",
     "output_type": "stream",
     "text": [
      "4\n",
      "2\n"
     ]
    }
   ],
   "source": [
    "# Get Size\n",
    "print(a.itemsize)\n",
    "print(b.itemsize)"
   ]
  },
  {
   "cell_type": "code",
   "execution_count": 96,
   "id": "29818eac-64dd-4872-bd88-d8340f67f48d",
   "metadata": {},
   "outputs": [
    {
     "name": "stdout",
     "output_type": "stream",
     "text": [
      "3\n",
      "15\n"
     ]
    }
   ],
   "source": [
    "# Get the total elements\n",
    "\n",
    "print(a.size)\n",
    "print(b.size)"
   ]
  },
  {
   "cell_type": "code",
   "execution_count": 94,
   "id": "fb85948c-dd8b-4cdf-a872-eaca32725c71",
   "metadata": {},
   "outputs": [
    {
     "name": "stdout",
     "output_type": "stream",
     "text": [
      "12\n",
      "30\n"
     ]
    }
   ],
   "source": [
    "# Get total size\n",
    "\n",
    "print(a.nbytes)\n",
    "print(b.nbytes)"
   ]
  },
  {
   "cell_type": "markdown",
   "id": "22ed4e50-ea75-41a5-afc9-b89f2008ac85",
   "metadata": {},
   "source": [
    "# Accessing/Changing specific elements, rows, columns, etc"
   ]
  },
  {
   "cell_type": "code",
   "execution_count": 115,
   "id": "70e5ed01-6e5f-4004-ac02-d01201c0a24e",
   "metadata": {},
   "outputs": [
    {
     "name": "stdout",
     "output_type": "stream",
     "text": [
      "[[ 1  2  3  4  5  6  7]\n",
      " [ 8  9 10 11 12 13 14]]\n",
      "\n",
      "Shape of a is : (2, 7)\n"
     ]
    }
   ],
   "source": [
    "a = np.array([[1,2,3,4,5,6,7],[8,9,10,11,12,13,14]])\n",
    "\n",
    "print(a)\n",
    "print(f\"\\nShape of a is : {a.shape}\")"
   ]
  },
  {
   "cell_type": "code",
   "execution_count": 139,
   "id": "a50aca15-e2f5-4014-b2bf-5a2ea887961c",
   "metadata": {},
   "outputs": [
    {
     "name": "stdout",
     "output_type": "stream",
     "text": [
      "10\n"
     ]
    }
   ],
   "source": [
    "# Get a specific element [row, col]\n",
    "print(a[1,2])"
   ]
  },
  {
   "cell_type": "code",
   "execution_count": 229,
   "id": "35a7a91a-5ddf-4ad1-9d2f-1cd8c78e91fc",
   "metadata": {},
   "outputs": [
    {
     "name": "stdout",
     "output_type": "stream",
     "text": [
      "[1 2 3 4 5 6 7]\n",
      "[ 8  9 10 11 12 13 14]\n"
     ]
    }
   ],
   "source": [
    "# get a specific row [row, col]\n",
    "# we can also include the indexing operator (slicing) [startindex : ending/stopindex : stepsize] \n",
    "\n",
    "print(a[0,:]) # first row\n",
    "print(a[1,:]) # second row"
   ]
  },
  {
   "cell_type": "code",
   "execution_count": 859,
   "id": "e9d49b20-2f28-493f-be84-8c4494228eb7",
   "metadata": {},
   "outputs": [
    {
     "name": "stdout",
     "output_type": "stream",
     "text": [
      "[ 5 12]\n",
      "\n",
      "[[ 3  5]\n",
      " [10 12]]\n",
      "\n",
      "[[ 2  4  6]\n",
      " [ 9 11 13]]\n",
      "\n",
      "[ 2  6 10 14]\n"
     ]
    }
   ],
   "source": [
    "# get specific columns [row, col]\n",
    "# we can also include the indexing operator (slicing) [start : stop : stepsize]\n",
    "\n",
    "a = np.array([[1,2,3,4,5,6,7],[8,9,10,11,12,13,14]])\n",
    "b = np.array([2,4,6,8,10,12,14])\n",
    "\n",
    "print(a[:,4])\n",
    "print(a[:,2:5:2])\n",
    "print(a[:,1::2])\n",
    "\n",
    "print(b[::2])\n"
   ]
  },
  {
   "cell_type": "code",
   "execution_count": 885,
   "id": "cf410cde-2f62-4296-9847-7a17ec2b066d",
   "metadata": {},
   "outputs": [
    {
     "name": "stdout",
     "output_type": "stream",
     "text": [
      "[ 8 16 24]\n",
      "[[ 1  1  3  2  5  3  7]\n",
      " [ 8  1 10  2 12  3 14]]\n",
      "[ 2  8  6 16 10 24 14]\n"
     ]
    }
   ],
   "source": [
    "# modify the values in the arrays\n",
    "\n",
    "a = np.array([[1,2,3,4,5,6,7],[8,9,10,11,12,13,14]])\n",
    "b = np.array([2,4,6,8,10,12,14])\n",
    "\n",
    "# a[0,0] = 2\n",
    "# b[3] = 9\n",
    "\n",
    "a[:,1::2] = 1,2,3\n",
    "b[1::2] = [num * 2 for num in b[1::2]]\n",
    "\n",
    "print(a)\n",
    "print(b)\n",
    "\n"
   ]
  },
  {
   "cell_type": "markdown",
   "id": "1311981f-3a61-49ec-955c-2cfebcf2d3cf",
   "metadata": {
    "jp-MarkdownHeadingCollapsed": true
   },
   "source": [
    "# 3d arrays"
   ]
  },
  {
   "cell_type": "code",
   "execution_count": 1020,
   "id": "3671b782-3320-4d79-9589-7088becb534e",
   "metadata": {},
   "outputs": [
    {
     "name": "stdout",
     "output_type": "stream",
     "text": [
      "[[[1 2]\n",
      "  [3 4]]\n",
      "\n",
      " [[5 6]\n",
      "  [7 8]]]\n"
     ]
    }
   ],
   "source": [
    "b = np.array([[[1,2],[3,4]],[[5,6],[7,8]]])\n",
    "print(b)\n",
    "\n",
    "\n"
   ]
  },
  {
   "cell_type": "code",
   "execution_count": 1166,
   "id": "a1f1b3a3-a880-4efb-931d-4ee1e3d0c456",
   "metadata": {},
   "outputs": [
    {
     "name": "stdout",
     "output_type": "stream",
     "text": [
      "4\n"
     ]
    }
   ],
   "source": [
    "# get specific element (work outside in)\n",
    "# print(b[0,1,0])\n",
    "\n",
    "print(b[0,1,1])"
   ]
  },
  {
   "cell_type": "code",
   "execution_count": 1168,
   "id": "8639ea11-74b5-4eed-b6ff-1f58aed61455",
   "metadata": {},
   "outputs": [
    {
     "name": "stdout",
     "output_type": "stream",
     "text": [
      "[[9 9]\n",
      " [8 8]]\n"
     ]
    }
   ],
   "source": [
    "# replace\n",
    "b[:,1,:] = [[9,9],[8,8]]\n",
    "print(b[:,1,:])"
   ]
  },
  {
   "cell_type": "markdown",
   "id": "e26ac196-73d7-4ec4-95ff-c95ee456a059",
   "metadata": {},
   "source": [
    "# Initializing diffrent types of arrays"
   ]
  },
  {
   "cell_type": "code",
   "execution_count": 1180,
   "id": "6f08880c-ded9-4c27-a21d-c256e47e8cd7",
   "metadata": {},
   "outputs": [
    {
     "name": "stdout",
     "output_type": "stream",
     "text": [
      "[[0. 0. 0.]\n",
      " [0. 0. 0.]]\n"
     ]
    }
   ],
   "source": [
    "# ALl 0s matrix\n",
    "print(np.zeros((2,3)))"
   ]
  },
  {
   "cell_type": "code",
   "execution_count": 1206,
   "id": "aad88379-9b9e-4939-a191-3bf7efab8865",
   "metadata": {},
   "outputs": [
    {
     "name": "stdout",
     "output_type": "stream",
     "text": [
      "[[1 1 1]\n",
      " [1 1 1]\n",
      " [1 1 1]]\n"
     ]
    }
   ],
   "source": [
    "# ALl 1s matrix\n",
    "print(np.ones((3,3),dtype='int32'))"
   ]
  },
  {
   "cell_type": "code",
   "execution_count": 1204,
   "id": "61d726ab-77fe-453f-8abb-614f0bf0f716",
   "metadata": {},
   "outputs": [
    {
     "name": "stdout",
     "output_type": "stream",
     "text": [
      "[[99. 99.]\n",
      " [99. 99.]]\n"
     ]
    }
   ],
   "source": [
    "# Any other number\n",
    "print(np.full((2,2),99,dtype='float32'))"
   ]
  },
  {
   "cell_type": "code",
   "execution_count": 1222,
   "id": "f204402a-0d36-4557-aeba-1ee42d524d6e",
   "metadata": {},
   "outputs": [
    {
     "name": "stdout",
     "output_type": "stream",
     "text": [
      "(2, 7)\n",
      "[[9 9 9 9 9 9 9]\n",
      " [9 9 9 9 9 9 9]]\n"
     ]
    }
   ],
   "source": [
    "# Any other number (full_like)\n",
    "\n",
    "a = np.array([[1,2,3,4,5,6,7],[8,9,10,11,12,13,14]])\n",
    "\n",
    "print(np.full_like(a,9))\n"
   ]
  },
  {
   "cell_type": "code",
   "execution_count": 1226,
   "id": "ceeba756-86d9-4166-b2be-09dc34268eef",
   "metadata": {},
   "outputs": [
    {
     "name": "stdout",
     "output_type": "stream",
     "text": [
      "[[0.93720297 0.90589932]\n",
      " [0.25744926 0.24975968]\n",
      " [0.63690475 0.86662843]\n",
      " [0.86457746 0.53877311]]\n",
      "\n",
      "[[0.89858493 0.9352953  0.4026453  0.47715608 0.06251584 0.56903946\n",
      "  0.16406802]\n",
      " [0.54653792 0.6013955  0.4558922  0.34182383 0.59071489 0.85497001\n",
      "  0.21330332]]\n"
     ]
    }
   ],
   "source": [
    "# Random decimal numbers\n",
    "\n",
    "print(np.random.rand(4,2))\n",
    "print()\n",
    "print(np.random.random_sample(a.shape))"
   ]
  },
  {
   "cell_type": "code",
   "execution_count": 1290,
   "id": "2eb249d8-435c-4102-95e1-2587719259b7",
   "metadata": {},
   "outputs": [
    {
     "data": {
      "text/plain": [
       "array([[-1,  1, -2],\n",
       "       [ 3,  4,  1],\n",
       "       [ 0,  5, -1]])"
      ]
     },
     "execution_count": 1290,
     "metadata": {},
     "output_type": "execute_result"
    }
   ],
   "source": [
    "# Random int values\n",
    "np.random.randint(1,6,size=(3,3))"
   ]
  },
  {
   "cell_type": "code",
   "execution_count": 1306,
   "id": "40c5c6a9-8181-4394-ae8a-674bc71a676c",
   "metadata": {},
   "outputs": [
    {
     "name": "stdout",
     "output_type": "stream",
     "text": [
      "[[1. 0. 0. 0. 0.]\n",
      " [0. 1. 0. 0. 0.]\n",
      " [0. 0. 1. 0. 0.]\n",
      " [0. 0. 0. 1. 0.]\n",
      " [0. 0. 0. 0. 1.]]\n"
     ]
    }
   ],
   "source": [
    "# The identity matric\n",
    "print(np.identity(5))"
   ]
  },
  {
   "cell_type": "code",
   "execution_count": 1338,
   "id": "562da8e4-378a-4308-adda-607f9198133d",
   "metadata": {},
   "outputs": [
    {
     "name": "stdout",
     "output_type": "stream",
     "text": [
      "[[1 2 3 4 5]\n",
      " [1 2 3 4 5]\n",
      " [1 2 3 4 5]]\n"
     ]
    }
   ],
   "source": [
    "# repeat an array\n",
    "arr = np.array([[1,2,3,4,5]])\n",
    "r1 = np.repeat(arr,3,axis=0)\n",
    "print(r1)"
   ]
  },
  {
   "cell_type": "code",
   "execution_count": 1444,
   "id": "fd5b43b5-452a-4c39-a54c-9eea6dfd733b",
   "metadata": {},
   "outputs": [
    {
     "name": "stdout",
     "output_type": "stream",
     "text": [
      "[[1. 1. 1. 1. 1.]\n",
      " [1. 0. 0. 0. 1.]\n",
      " [1. 0. 9. 0. 1.]\n",
      " [1. 0. 0. 0. 1.]\n",
      " [1. 1. 1. 1. 1.]]\n"
     ]
    }
   ],
   "source": [
    "\n",
    "o = np.ones((5,5))\n",
    "\n",
    "z = np.zeros((3,3))\n",
    "z[1,1] = 9\n",
    "\n",
    "o[1:-1,1:-1] = z\n",
    "\n",
    "print(o)"
   ]
  },
  {
   "cell_type": "markdown",
   "id": "a85a121e-5442-4fcd-b29b-2b549d2be438",
   "metadata": {},
   "source": [
    "##### Be careful when copying arrays!!!"
   ]
  },
  {
   "cell_type": "code",
   "execution_count": null,
   "id": "2fddbb83-5924-400a-9830-0d5a6f4ee790",
   "metadata": {},
   "outputs": [],
   "source": []
  }
 ],
 "metadata": {
  "kernelspec": {
   "display_name": "Python 3",
   "language": "python",
   "name": "python3"
  },
  "language_info": {
   "codemirror_mode": {
    "name": "ipython",
    "version": 3
   },
   "file_extension": ".py",
   "mimetype": "text/x-python",
   "name": "python",
   "nbconvert_exporter": "python",
   "pygments_lexer": "ipython3",
   "version": "3.12.7"
  }
 },
 "nbformat": 4,
 "nbformat_minor": 5
}
