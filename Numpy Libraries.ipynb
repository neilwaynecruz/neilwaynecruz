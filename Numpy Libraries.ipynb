{
 "cells": [
  {
   "cell_type": "markdown",
   "id": "78be4709-34ad-4c56-adcd-3ab4abb33238",
   "metadata": {},
   "source": [
    "# Load in numpy (remember to pip install numpy first) [!pip install numpy]"
   ]
  },
  {
   "cell_type": "code",
   "execution_count": 3,
   "id": "2ea50a12-1f09-4159-94d5-6ce4387498eb",
   "metadata": {},
   "outputs": [],
   "source": [
    "import numpy as np"
   ]
  },
  {
   "cell_type": "markdown",
   "id": "7c47eab1-bf61-4388-bf44-b115b951347a",
   "metadata": {},
   "source": [
    "# Basics"
   ]
  },
  {
   "cell_type": "code",
   "execution_count": 16,
   "id": "17db0eae-eb70-4421-b84d-39e65be7ecf4",
   "metadata": {},
   "outputs": [
    {
     "name": "stdout",
     "output_type": "stream",
     "text": [
      "1 2 3 4 5 6 7 8 9 10 11 12 13 14 15 "
     ]
    }
   ],
   "source": [
    "# initialize array \n",
    "\n",
    "a = np.array([1,2,3]) # 1d array\n",
    "print(a)\n"
   ]
  },
  {
   "cell_type": "code",
   "execution_count": 18,
   "id": "9feec1db-def3-433a-b63e-85d52d00d589",
   "metadata": {},
   "outputs": [
    {
     "name": "stdout",
     "output_type": "stream",
     "text": [
      "[[ 1  2  3]\n",
      " [ 4  5  6]\n",
      " [ 7  8  9]\n",
      " [10 11 12]\n",
      " [13 14 15]]\n"
     ]
    }
   ],
   "source": [
    "b = np.array([[1,2,3],[4,5,6],[7,8,9],[10,11,12],[13,14,15]])  #2d arrays\n",
    "\n",
    "print(b)\n",
    "\n",
    "# for i in b:\n",
    "#     for j in i:\n",
    "#         print(j, end=\" \")"
   ]
  },
  {
   "cell_type": "markdown",
   "id": "8c579e48-118a-4f8e-94ec-77fbcca20a2a",
   "metadata": {},
   "source": [
    "# To get the dimensions (.ndim)"
   ]
  },
  {
   "cell_type": "code",
   "execution_count": 32,
   "id": "21f66bf7-6a86-4843-b1e6-5fbc86edd837",
   "metadata": {},
   "outputs": [
    {
     "name": "stdout",
     "output_type": "stream",
     "text": [
      "The dimension in a is 1\n",
      "The dimension in b is 2\n"
     ]
    }
   ],
   "source": [
    "# Get dimension (use .ndim)\n",
    "\n",
    "print(f\"The dimension in a is {a.ndim}\")\n",
    "print(f\"The dimension in b is {b.ndim}\")"
   ]
  },
  {
   "cell_type": "code",
   "execution_count": null,
   "id": "d565fd62-a772-4f49-8e6e-2a71eafbb21b",
   "metadata": {},
   "outputs": [],
   "source": []
  }
 ],
 "metadata": {
  "kernelspec": {
   "display_name": "Python 3 (my_env)",
   "language": "python",
   "name": "my_env"
  },
  "language_info": {
   "codemirror_mode": {
    "name": "ipython",
    "version": 3
   },
   "file_extension": ".py",
   "mimetype": "text/x-python",
   "name": "python",
   "nbconvert_exporter": "python",
   "pygments_lexer": "ipython3",
   "version": "3.12.7"
  }
 },
 "nbformat": 4,
 "nbformat_minor": 5
}
