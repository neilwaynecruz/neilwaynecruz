{
 "cells": [
  {
   "cell_type": "markdown",
   "id": "496c6a82-935d-4388-bf38-7cf979a24323",
   "metadata": {
    "jp-MarkdownHeadingCollapsed": true
   },
   "source": [
    "# My first python program"
   ]
  },
  {
   "cell_type": "code",
   "execution_count": null,
   "id": "2f019602-e61e-46f6-b1a9-8799b357f970",
   "metadata": {},
   "outputs": [],
   "source": [
    "print(\"Hello World\")\n",
    "print(\"Neil Wayne Cruz\")"
   ]
  },
  {
   "cell_type": "markdown",
   "id": "07c3d47c-bf86-43a6-a574-645c30ac2b2c",
   "metadata": {
    "jp-MarkdownHeadingCollapsed": true
   },
   "source": [
    "# Variable"
   ]
  },
  {
   "cell_type": "code",
   "execution_count": null,
   "id": "8eeb1ea6-f3a4-465b-bee7-cdff4a55a2fd",
   "metadata": {},
   "outputs": [],
   "source": [
    "#Variable = A container for a value (string, integer, float, boolean)\n",
    "#           A variable behaves as if it was the value it contains\n",
    "\n",
    "# Strings \n",
    "first_name = \"Neil Wayne\"\n",
    "last_name  = \"Cruz\"\n",
    "food = \"Sinigang\"\n",
    "email = \"neilwayne010203@gmail.com\"\n",
    "\n",
    "# Integers (Whole Numbers (without decimal)\n",
    "\n",
    "age = 19\n",
    "quantity = 3\n",
    "num_of_students = 40 \n",
    "\n",
    "# Float (Floating number (with decimal) / real numbers)\n",
    "price = 250.99\n",
    "gpa = 1.25\n",
    "distance = 6.86\n",
    "\n",
    "# Booleans (Contains only True or False value)\n",
    "is_student = True\n",
    "is_working = False\n",
    "for_sale   = True\n",
    "is_online  = False\n",
    "\n",
    "\n",
    "print(first_name + \"\\n\")\n",
    "\n",
    "# f-string (Formatted string literals) - begin a string with f or F before the opening quotation mark or triple quotation mark.\n",
    "# Inside this string, you can write a Python expression between { and } characters that can refer to variables or literal values.\n",
    "\n",
    "#example\n",
    "\n",
    "print(f\"Hello {first_name}\\n\")\n",
    "print(f\"I love {food}\\n\")\n",
    "print(f\"My email: {email}\\n\")\n",
    "print(f\"I'm already {age} years old\\n\")\n",
    "print(f\"You are buying {quantity} items\\n\")\n",
    "print(f\"My class has {num_of_students} students\\n\")\n",
    "print(f\"The price of grapes is P{price}\\n\")\n",
    "print(f\"My gpa is {gpa}\\n\")\n",
    "print(f\"I run {distance} km\\n\")\n",
    "print(f\"Are you a student?: {is_student}\\n\")\n",
    "print(f\"Are you a working?: {is_working}\\n\")\n",
    "print(f\"Is the car for sale?: {for_sale}\\n\")\n",
    "\n",
    "if for_sale:\n",
    "    print(\"item is available for now\\n\")\n",
    "else:\n",
    "    print(\"item is not available for now\\n\")\n",
    "    \n",
    "\n",
    "if is_online:\n",
    "    print(\"Im already online\\n\")\n",
    "else:\n",
    "    print(\"Im already offline\\n\")\n"
   ]
  },
  {
   "cell_type": "markdown",
   "id": "488cf234-2d34-4899-891b-aefedcd7e727",
   "metadata": {
    "jp-MarkdownHeadingCollapsed": true
   },
   "source": [
    "# Typecasting"
   ]
  },
  {
   "cell_type": "code",
   "execution_count": null,
   "id": "60654713-07d1-479f-8f47-aff0f1c88ad7",
   "metadata": {},
   "outputs": [],
   "source": [
    "# Typecasting = the process of converting a variable from one data type to another\n",
    "# str(), int(), float(), bool()\n",
    "\n",
    "\n",
    "name = \"Neil Wayne Cruz\"\n",
    "age = 19\n",
    "gpa = 1.25\n",
    "is_student = True\n",
    "\n",
    "type(name)\n",
    "\n",
    "#print(type(is_student))\n",
    "\n",
    "gpa = int(gpa)\n",
    "age = float(age)\n",
    "name = bool(name)\n",
    "\n",
    "print(gpa)\n",
    "print(age)\n",
    "print(name)\n",
    "\n",
    "# print(1,end=\" \")\n",
    "# print(2,end=\" \")\n",
    "# print(3)\n",
    "# OUTPUT : 1 2 3 # this is because it the print function has end=\" \" to the end which tells that does not contain \\n (newline) which is a default value"
   ]
  },
  {
   "cell_type": "markdown",
   "id": "ce5e18ed-32b9-4b9e-8095-fa7783f4d838",
   "metadata": {
    "jp-MarkdownHeadingCollapsed": true
   },
   "source": [
    "# input()"
   ]
  },
  {
   "cell_type": "code",
   "execution_count": null,
   "id": "55e7d6d1-48bc-45b0-8530-f968cff891b9",
   "metadata": {
    "ExecuteTime": {
     "end_time": "2025-02-28T17:22:44.014191Z",
     "start_time": "2025-02-28T17:22:44.005076Z"
    }
   },
   "outputs": [],
   "source": [
    "# input() = A function that promts the user to enter data \n",
    "#           Returns the ENTERED DATA as a STRING\n",
    "\n",
    "# name = input(\"What is your name?: \")\n",
    "# age = int (input(\"How old are you?: \"))\n",
    "# age +=1\n",
    "\n",
    "# print()\n",
    "# print(f\"Hello \\\"{name}\\\", welcome to Python World!\")\n",
    "# print(\"HAPPY BORNNN DAYYY!!!\")\n",
    "# print(f\"You are \\\"{age}\\\" years old\")\n",
    "\n",
    "\n",
    "\n",
    "# EXERCISE 1: AREA OF A RECTANGLE\n",
    "# length = float(input(\"Enter Value (Length of Rectangle): \"))\n",
    "# width  = float(input(\"Enter Value (Width of Rectangle): \"))\n",
    "#\n",
    "# area = float(length * width)\n",
    "#\n",
    "# print()\n",
    "# print(f\"Length of a rectangle: {length}\")\n",
    "# print(f\"Width of a rectangle: {width}\")\n",
    "# print(f\"Area of a rectangle (L:{length} x W:{width}): {area}cm²\")\n",
    "\n",
    "# EXERCISE 2: SHOPPING CART PROGRAM (BASIC)\n",
    "# item = input(\"What item would you like to buy?: \")\n",
    "# price = float(input(\"What is the price?: \"))\n",
    "# quantity = int(input(\"How many would you like?: \"))\n",
    "#\n",
    "# total = float(price * quantity)\n",
    "#\n",
    "# print()\n",
    "# print(f\"YOu have bought {quantity} x {item}/s\")\n",
    "# print(f\"Your total is P{total}\")\n",
    "\n"
   ]
  },
  {
   "cell_type": "markdown",
   "id": "a9230af6-4dd2-441c-a7c7-6a2c0843b961",
   "metadata": {
    "jp-MarkdownHeadingCollapsed": true
   },
   "source": [
    "# Operators"
   ]
  },
  {
   "cell_type": "code",
   "execution_count": null,
   "id": "d8c01f1e-3942-45f3-a565-a2872a4a1d6b",
   "metadata": {},
   "outputs": [],
   "source": [
    "# Operators in Python (Ordered by Precedence from High to Low)\n",
    "\n",
    "# Parentheses (Grouping Operator)\n",
    "# ()  - Used to override the default precedence of operators (Highest precedence)\n",
    "\n",
    "# Arithmetic Operators\n",
    "# **  (exponentiation (right to left))    (returns int or float)\n",
    "# *   (multiplication (left to right))    (returns int or float)\n",
    "# /   (division (left to right))          (returns float)\n",
    "# %   (modulus/remainder (left to right)) (returns int)\n",
    "# //  (floor division (left to right))    (returns int)\n",
    "# +   (addition (left to right))          (returns int or float)\n",
    "# -   (subtraction (left to right))       (returns int or float)\n",
    "\n",
    "# Bitwise NOT Operator (complement)\n",
    "# ~   (bitwise NOT (complement) (unary, highest precedence in bitwise ops)) # -(x+1)\n",
    "\n",
    "# Bitwise Shift Operators\n",
    "# <<  (left shift (left to right))  # x*2^n (we gain bits in left shift)\n",
    "# >>  (right shift (left to right)) # x/2^n (we lose bits in right shift)\n",
    "\n",
    "# Bitwise AND, XOR, OR Operators\n",
    "# &   (bitwise AND (left to right))\n",
    "# ^   (bitwise XOR (left to right))\n",
    "# |   (bitwise OR (left to right))\n",
    "\n",
    "# Comparison Operators (Relational Operators)\n",
    "# <   (less than)\n",
    "# >   (greater than)\n",
    "# <=  (less than or equal to)\n",
    "# >=  (greater than or equal to)\n",
    "# ==  (equal to)\n",
    "# !=  (not equal to)\n",
    "\n",
    "# Identity Operators\n",
    "# is      (returns True if both variables refer to the same object)\n",
    "# is not  (returns True if both variables do not refer to the same object)\n",
    "\n",
    "# Membership Operators\n",
    "# in      (returns True if a value is found in a sequence)\n",
    "# not in  (returns True if a value is not found in a sequence)\n",
    "\n",
    "# Logical Operators\n",
    "# not  (logical NOT)   same as Java: ! (highest precedence among logical operators)\n",
    "# and  (logical AND)   same as Java: &&\n",
    "# or   (logical OR)    same as Java: ||\n",
    "\n",
    "# Assignment Operators (Augmented Assignment Operators)\n",
    "# a **= 2  same as:  a = a ** 2\n",
    "# a *=  2  same as:  a = a *  2\n",
    "# a /=  2  same as:  a = a /  2\n",
    "# a //= 2  same as:  a = a // 2\n",
    "# a %=  2  same as:  a = a %  2\n",
    "# a +=  2  same as:  a = a +  2\n",
    "# a -=  2  same as:  a = a -  2\n",
    "# a &=  2  same as:  a = a &  2\n",
    "# a ^=  2  same as:  a = a ^  2\n",
    "# a |=  2  same as:  a = a |  2\n",
    "# a <<= 2  same as:  a = a << 2\n",
    "# a >>= 2  same as:  a = a >> 2\n"
   ]
  },
  {
   "cell_type": "markdown",
   "id": "ab7b7593-bbe7-451b-bb5a-2b9ab09a7ea0",
   "metadata": {
    "jp-MarkdownHeadingCollapsed": true
   },
   "source": [
    "# Math class"
   ]
  },
  {
   "cell_type": "code",
   "execution_count": null,
   "id": "6521148c-85c4-430c-bf1f-5515999d35a0",
   "metadata": {
    "ExecuteTime": {
     "end_time": "2025-02-28T17:32:40.770744Z",
     "start_time": "2025-02-28T17:32:30.533331Z"
    }
   },
   "outputs": [],
   "source": [
    "# MATH\n",
    "import math\n",
    "\n",
    "x = 3.141592\n",
    "y = 4\n",
    "z = 3\n",
    "\n",
    "#result = round(x) # rounds the value\n",
    "#result = abs(y) #returns the positive value of negative values or the distance of the value from 0\n",
    "#result = pow(z,3) # pow(base,exponent)\n",
    "#result = max(x, y, z) # max value between x, y, z\n",
    "#result = min(x, y, z) # min value between x, y, z\n",
    "\n",
    "#print(math.pi) # pi value\n",
    "#print(math.e) # e = exponential value\n",
    "\n",
    "#result = math.sqrt(9) # square root\n",
    "#result = math.ceil(x) # rounds up the value\n",
    "#result = math.floor(x) # rounds down the value\n",
    "\n",
    "\n",
    "# EXERCISE 1: CIRCUMFERENCE OF A CIRCLE\n",
    "#\n",
    "# radius = float(input(\"Enter the radius of the circle: \"))\n",
    "#\n",
    "# circumference = 2 * math.pi * radius\n",
    "#\n",
    "# print(f\"The circumference of the circle is (C = 2 * π * {radius}) ≈ {round(circumference, 3)}cm²\")\n",
    "\n",
    "\n",
    "#  EXERCISE 2: AREA OF A CIRCLE\n",
    "# radius = float(input(\"Enter the radius of the circle: \"))\n",
    "# area = math.pi * (pow(radius, 2))\n",
    "#\n",
    "# print(f\"The area of the circle is (A = π * {radius}²) ≈ {round(area, 3)}cm²\")\n",
    "\n",
    "\n",
    "# EXERCISE 3: HYPOTENUSE OF A RIGHT TRIANGLE\n",
    "# a = float(input(\"Enter a (SIDE A OF RIGHT TRIANGLE): \"))\n",
    "# b = float(input(\"Enter b (SIDE B OF RIGHT TRIANGLE): \"))\n",
    "\n",
    "# c = math.sqrt(pow(a, 2) + pow(b, 2))\n",
    "\n",
    "# print(f\"The hypotenuse of the right triangle is (C = √({a}² + {b}²)) ≈ {round(c, 3)}cm²\")\n",
    "\n",
    "\n",
    "\n"
   ]
  },
  {
   "cell_type": "markdown",
   "id": "dfe5fcaa-3658-4029-974d-b2400a39508a",
   "metadata": {
    "jp-MarkdownHeadingCollapsed": true
   },
   "source": [
    "# conditional statements (if, elif, else)"
   ]
  },
  {
   "cell_type": "code",
   "execution_count": null,
   "id": "1860ce44-31f4-404c-b982-68a7a01835b0",
   "metadata": {
    "ExecuteTime": {
     "end_time": "2025-03-02T10:49:12.254889Z",
     "start_time": "2025-03-02T10:49:10.304904Z"
    }
   },
   "outputs": [],
   "source": [
    "#conditional statements (if, elif, else)\n",
    "\n",
    "# age = int(input(\"Enter your age: \"))\n",
    "\n",
    "# if age >= 18:\n",
    "#     print(\"You are eligible to vote\")\n",
    "# elif age == 0:\n",
    "#     print(\"You are a baby\")\n",
    "# elif age < 0:\n",
    "#     print(\"You haven't born yet\")\n",
    "# else:\n",
    "#     print(\"You are not eligible to vote\")\n",
    "\n",
    "name = input(\"Enter your name: \")\n",
    "\n",
    "if name == \"\":\n",
    "    print(\"You forgot to enter your name\")\n",
    "else:\n",
    "    print(f\"Hello {name}!\")\n",
    "\n",
    "\n"
   ]
  },
  {
   "cell_type": "markdown",
   "id": "5731f04e-fe39-465a-8eb4-3a61f9d7fdc4",
   "metadata": {
    "jp-MarkdownHeadingCollapsed": true
   },
   "source": [
    "# SIMPLE CALCULATOR"
   ]
  },
  {
   "cell_type": "code",
   "execution_count": null,
   "id": "be27fabd-a2cb-4ae1-9843-e5aee8f27513",
   "metadata": {},
   "outputs": [],
   "source": [
    "# SIMPLE CALCULATOR\n",
    "\n",
    "num1 = float(input(\"Enter the 1st number: \"))\n",
    "operator = input(\"Enter an operator (+, -, *, /, %): \")\n",
    "num2 = float(input(\"Enter the 2nd number: \"))\n",
    "print()\n",
    "\n",
    "if operator == \"+\":\n",
    "    result = num1 + num2\n",
    "    print(f\"Sum = {result:.2f}\")\n",
    "elif operator == \"-\":\n",
    "    result = num1 - num2\n",
    "    print(f\"Difference = {result:.2f}\")\n",
    "elif operator == \"*\":\n",
    "    result = num1 * num2\n",
    "    print(f\"Product = {result:.2f}\")\n",
    "elif operator == \"/\":\n",
    "    if num2 == 0:\n",
    "        print(\"UNDEFINED\")  \n",
    "    else:\n",
    "        result = num1 / num2\n",
    "        print(f\"Quotient = {result:.2f}\")\n",
    "elif operator == \"%\":\n",
    "    if num2 == 0:\n",
    "        print(\"UNDEFINED\")\n",
    "    else:\n",
    "        result = num1 % num2\n",
    "        print(f\"Remainder = {result:.2f}\")\n",
    "else:\n",
    "    print(f\"Invalid {operator} operator, please try again!\")\n"
   ]
  },
  {
   "cell_type": "markdown",
   "id": "3f3effe9-a2db-4f79-9692-fa688f75e5d8",
   "metadata": {
    "jp-MarkdownHeadingCollapsed": true
   },
   "source": [
    "# Weight Converter"
   ]
  },
  {
   "cell_type": "code",
   "execution_count": null,
   "id": "242e1787-220a-4e42-9bbb-dcd7e4aab006",
   "metadata": {},
   "outputs": [],
   "source": [
    "# Weight Converter\n",
    "\n",
    "# weight = float(input(\"Enter your weight:\"))\n",
    "unit = input(\"Pick a unit you want to convert your weight (kg, lbs):\")\n",
    "\n",
    "if unit == \"kg\" or unit == \"Kg\" or unit == \"KG\":\n",
    "    weight = float(input(\"Enter your weight in lbs(pounds):\"))\n",
    "    result = weight * 0.45359237\n",
    "    print(f\"Your weight in {unit} is = {round(result,3)}\")\n",
    "elif unit == \"lbs\" or unit == \"Lbs\" or unit == \"LBS\":\n",
    "    weight = float(input(\"Enter your weight in kg(kilogram):\"))\n",
    "    result = weight * 2.20462\n",
    "    print(f\"Your weight in {unit} is = {round(result,3)}\")\n",
    "else:\n",
    "    print(f\"This {unit} is INVALID UNIT, PICK ONLY WITHIN THE SCOPE PROVIDED\")\n",
    "\n"
   ]
  },
  {
   "cell_type": "markdown",
   "id": "a8b91568-0581-478b-b25b-d42b29a07425",
   "metadata": {
    "jp-MarkdownHeadingCollapsed": true
   },
   "source": [
    "# Temp Converter (Celcius to Fahrenheit)"
   ]
  },
  {
   "cell_type": "code",
   "execution_count": null,
   "id": "22d482b3-1761-49ae-86e2-b2796c2f12af",
   "metadata": {},
   "outputs": [],
   "source": [
    "unit = input(\"Pick a unit you want to convert your temperature (C or F):\")\n",
    "\n",
    "if unit == \"C\" or unit == \"c\":\n",
    "    temperature = float(input(\"Enter a temperature in fahrenheit(°F):\"))\n",
    "    result = (temperature - 32) * 5/9\n",
    "    print(f\"The temperature in °C (Celsius) is = {round(result,3)}\")\n",
    "elif unit == \"F\" or unit == \"f\":\n",
    "    temperature = float(input(\"Enter a temperature in celcius(°C):\"))\n",
    "    result = temperature * (9/5) + 32\n",
    "    print(f\"The temperature in °F (Fahrenheit) is = {round(result,3)}\") \n",
    "else:\n",
    "     print(f\"This {unit} is INVALID UNIT, PICK ONLY WITHIN THE SCOPE PROVIDED\")"
   ]
  },
  {
   "cell_type": "markdown",
   "id": "4cc5ef91-877d-4006-bde6-9f0f81bd23fe",
   "metadata": {
    "jp-MarkdownHeadingCollapsed": true
   },
   "source": [
    "# Logical Operators"
   ]
  },
  {
   "cell_type": "code",
   "execution_count": null,
   "id": "ada017be-7bcf-46e5-8d60-faa857593258",
   "metadata": {},
   "outputs": [],
   "source": [
    "# Logical Operators = evaluate multiple conditions (or, and, not)\n",
    "#                     or = at least one condition must be true (in c,java,c++ it is ||)\n",
    "#                     and = both two condtion must be true in c,java,c++ it is &&)\n",
    "#                     not = inverted the condition (not false, not tru) if !True = False, if !False = True (in c,java,c++ it is !)\n",
    "\n",
    "\n",
    "temp = float(input(\"Enter a temparature:\"))\n",
    "is_Sunny = False\n",
    "\n",
    "if temp >= 28 and is_Sunny:\n",
    "    print(\"It is HOT outside 🥵\")\n",
    "    print(\"It is SUNNY ☀️\")\n",
    "elif temp <= 0 and is_Sunny:\n",
    "    print(\"It is COLD outside 🥶\")\n",
    "    print(\"It is SUNNY ☀️\")\n",
    "elif 28 > temp > 0 and is_Sunny:\n",
    "    print(\"It is WARM outside 😄\")\n",
    "    print(\"It is SUNNY ☀️\")\n",
    "elif temp >= 28 and not is_Sunny:\n",
    "    print(\"It is HOT outside 🥵\")\n",
    "    print(\"It is CLOUDY ☁️\")\n",
    "elif temp <= 0 and not is_Sunny:\n",
    "    print(\"It is COLD outside 🥶\")\n",
    "    print(\"It is CLOUDY ☁️\")\n",
    "elif 28 > temp > 0 and not is_Sunny:\n",
    "    print(\"It is WARM outside 😄\")\n",
    "    print(\"It is CLOUDY ☁️\")\n",
    "\n"
   ]
  },
  {
   "cell_type": "markdown",
   "id": "97bb8336-ca03-47ba-949e-a63e6061a801",
   "metadata": {
    "jp-MarkdownHeadingCollapsed": true
   },
   "source": [
    "# Conditional expression (SIMILAR TO:(TERNARY OPERATOR))"
   ]
  },
  {
   "cell_type": "code",
   "execution_count": null,
   "id": "02de4cf5-1df6-42ef-8432-a95acadd8382",
   "metadata": {},
   "outputs": [],
   "source": [
    "# conditional expression = A one-line shortcit for the if-else statement. similar to :(ternary operator)\n",
    "#                         Print or assign one of two values based on a condition\n",
    "#                            \n",
    "#                         SYNTAX:\n",
    "#                         X if condition else Y\n",
    "\n",
    "# a = int(input(\"Enter a 1st number:\"))\n",
    "# b = int(input(\"Enter a 2nd number:\"))\n",
    "# age = int(input(\"Enter your age:\"))\n",
    "# temp = float(input(\"Enter a what is temperature today:\"))\n",
    "user_role = input(\"Enter your user role (Admin,Guest):\")\n",
    "\n",
    "# print(\"Positive\" if a > 0 else \"Negative\")\n",
    "# result = \"Even\" if a % 2 == 0 else \"ODD\"\n",
    "# max_num = a if a > b else b\n",
    "# min_num = a if a < b else b\n",
    "# status = \"Adult\" if age >= 18 else \"Child\"\n",
    "# weather = \"HOT\" if temp > 20 else \"COLD\"\n",
    "acess_level = \"Full Acess\" if user_role == \"Admin\" else \"Limited Acess\"\n",
    "print(acess_level)"
   ]
  },
  {
   "cell_type": "markdown",
   "id": "f1ad6208-f4ed-4d25-b524-6266f1a2cc26",
   "metadata": {
    "jp-MarkdownHeadingCollapsed": true
   },
   "source": [
    "# String Methods"
   ]
  },
  {
   "cell_type": "code",
   "execution_count": 293,
   "id": "4b8f7b72-54fc-43ed-8898-6ff1ec28b104",
   "metadata": {
    "ExecuteTime": {
     "end_time": "2025-03-04T16:43:49.189071Z",
     "start_time": "2025-03-04T16:43:46.166116Z"
    }
   },
   "outputs": [
    {
     "name": "stdin",
     "output_type": "stream",
     "text": [
      "Enter your full name: Neil Wayne Cruz\n"
     ]
    },
    {
     "name": "stdout",
     "output_type": "stream",
     "text": [
      "14\n"
     ]
    }
   ],
   "source": [
    "# String Methods\n",
    "\n",
    "# name = input(\"Enter your full name:\")\n",
    "# phone_num = input(\"Enter your phone number:\")\n",
    "\n",
    "# length = len(name) # returns the length of the string\n",
    "# find_this = name.find(\" \") # find the character occurrence to first index of it\n",
    "# find_this1 = name.rfind(\"z\") # find the  character occurrence to last index of it\n",
    "# name = name.capitalize() # returns the string in capitalizing the \"first letter only\"\n",
    "# name = name.upper() # returns the string in uppercase\n",
    "# name = name.lower() # returns the string in lowercase\n",
    "# is_digit = name.isdigit() # Return True if the string is a digit string, False otherwise.\n",
    "# is_alpha = name.isalpha() # Return True if the string is an alphabetic string, False otherwise.\n",
    "# result = phone_num.count(\"-\") # returns the number of occurrences of a substring in the given string.\n",
    "# result = phone_num.replace(\" \",\"-\") # returns a copy of the string where all occurrences of a substring is replaced with another substring.\n",
    "\n",
    "#print(help(str())) # this will show all the methods that can be used in string.\n",
    "\n",
    "# print(find_this1)\n"
   ]
  },
  {
   "cell_type": "markdown",
   "id": "bff4188b-d2a4-44cc-a20f-a9b31f998ad3",
   "metadata": {},
   "source": [
    "# validate user input exercise\n",
    "### if username is no more than 12 characters\n",
    "### if username must not contain spaces and;\n",
    "### if username must not contain digits"
   ]
  },
  {
   "cell_type": "code",
   "execution_count": null,
   "id": "b8eecb59-32d6-407f-b8f8-f1d7883b0f36",
   "metadata": {
    "ExecuteTime": {
     "end_time": "2025-03-04T17:02:02.809236Z",
     "start_time": "2025-03-04T17:01:56.610118Z"
    }
   },
   "outputs": [],
   "source": [
    "# validate user input exercise\n",
    "# 1. username is no more than 12 characters\n",
    "# 2. username must not contain spaces\n",
    "# 3. username must not contain digits\n",
    "\n",
    "username = input(\"Enter your username:\")\n",
    "\n",
    "if len(username) > 12:\n",
    "    print(\"Username must not be more than 12 characters\")\n",
    "elif \" \" in username:\n",
    "    print(\"Username must not contain spaces\")\n",
    "elif not username.isalpha():\n",
    "    print(\"Username must not contain digits\")\n",
    "else:\n",
    "    print(f\"Hello {username}! Welcome to Python World!\")"
   ]
  },
  {
   "cell_type": "markdown",
   "id": "c5c9555f-fcd4-433f-95e8-1048cd3c1ed2",
   "metadata": {
    "jp-MarkdownHeadingCollapsed": true
   },
   "source": [
    "# Indexing"
   ]
  },
  {
   "cell_type": "code",
   "execution_count": null,
   "id": "e3c7d208de87cce1",
   "metadata": {
    "ExecuteTime": {
     "end_time": "2025-03-04T17:22:32.195900Z",
     "start_time": "2025-03-04T17:22:32.186828Z"
    }
   },
   "outputs": [],
   "source": [
    "# indexing = accessing elements of a sequence using [] (indexing operator)\n",
    "#            [start : stop : step]\n",
    "\n",
    "credit_num = \"1234-5678-9012-3456\"\n",
    "\n",
    "# first_num = credit_num[0]\n",
    "\n",
    "# print(\"credit_num[0:4] = \" + credit_num[0:4]) # output: 1234\n",
    "# print(\"credit_num[5:9] = \" +credit_num[5:9]) # output: 5678\n",
    "# print(\"credit_num[10:14] = \" +credit_num[10:14]) # output: 9012\n",
    "# print(\"credit_num[15:19] = \"+ + credit_num[15:19]) # output: 3456\n",
    "\n",
    "# print(credit_num[5:]) # output: 5678-9012-3456\n",
    "\n",
    "# negative indexing\n",
    "\n",
    "# print(credit_num[-4]) # output: 3456\n",
    "# print(credit_num[-9:]) # output: 9012-3456\n",
    "\n",
    "# with step\n",
    "\n",
    "# print(credit_num[::2]) # output: 13-6891-46\n",
    "# print(credit_num[::-1]) # output: 6543-2109-8765-4321 #reversed the string\n",
    "\n",
    "\n"
   ]
  },
  {
   "cell_type": "markdown",
   "id": "e3f552c8-b8d0-4e7a-b498-8ce28e98194b",
   "metadata": {
    "jp-MarkdownHeadingCollapsed": true
   },
   "source": [
    "# Format Specifiers "
   ]
  },
  {
   "cell_type": "code",
   "execution_count": null,
   "id": "57539a6f214db7f5",
   "metadata": {
    "ExecuteTime": {
     "end_time": "2025-03-04T17:46:03.524190Z",
     "start_time": "2025-03-04T17:46:03.513187Z"
    }
   },
   "outputs": [],
   "source": [
    "# format specifiers = {value:flags} format a value based on what flags are inserted\n",
    "#                     flags are inserted\n",
    "\n",
    "# :.(number)f = round to that many decimal places (fixed-point) ex: {:.2f}\n",
    "# :(number) = allocate that many spaces (right-aligned) ex: {:10}\n",
    "# :03 - allocate and zero pad that many spaces (right-aligned) ex: {:03}\n",
    "# :< = left justify\n",
    "# :> = right justify\n",
    "# :^ = center justify\n",
    "# :+ = use a plus sign to indicate positive value\n",
    "# :_ = use an underscore as a thousand separator\n",
    "# := = place sign to leftmost position\n",
    "# :e = scientific notation\n",
    "# :g = general format\n",
    "# :  = insert a space before positive numbers\n",
    "# :, = comma separator\n",
    "# :b = binary format\n",
    "# :o = octal format\n",
    "# :x = hexadecimal format\n",
    "# :n = number format\n",
    "# :% = percentage format\n",
    "# :s = string format\n",
    "# :c = character format\n",
    "# :r = repr format\n",
    "# :a = ascii format\n",
    "# :f = float format\n",
    "# :d = decimal format\n",
    "# :e = exponential format\n",
    "\n",
    "price1 = 3.14159\n",
    "price2 = -987.65\n",
    "price3 = 12.34\n",
    "price4 = 12345.4321\n",
    "\n",
    "# print(f\"Price 1: P{price1:.3f}\") # output: Price 1: P3.142\n",
    "# print(f\"Price 2: P{price2:.3f}\") # output: Price 2: P-987.650\n",
    "# print(f\"Price 3: P{price3:.3f}\") # output: Price 3: P12.340\n",
    "\n",
    "print(f\"Price 1: P{price1:,.2f}\")\n",
    "print(f\"Price 2: P{price2:,.2f}\")\n",
    "print(f\"Price 3: P{price3:,.2f}\")\n",
    "print(f\"Price 4: P{price4:,.2f}\")"
   ]
  },
  {
   "cell_type": "markdown",
   "id": "0e65b2ce-9927-4862-bc95-bf2b3d7e45ec",
   "metadata": {
    "jp-MarkdownHeadingCollapsed": true
   },
   "source": [
    "# While Loop"
   ]
  },
  {
   "cell_type": "code",
   "execution_count": null,
   "id": "9c4296b75c1b6fc6",
   "metadata": {
    "ExecuteTime": {
     "end_time": "2025-03-04T18:22:52.403012Z",
     "start_time": "2025-03-04T18:22:40.056355Z"
    }
   },
   "outputs": [],
   "source": [
    "# while loop = A statement that will execute a block of code as long as / WHILE the condition is true\n",
    "\n",
    "# name = input(\"Enter your name:\")\n",
    "#\n",
    "# while name == \"\":\n",
    "#     print(\"You forgot to enter your name\")\n",
    "#     name = input(\"Enter your name:\")\n",
    "#\n",
    "# print(f\"Hello {name}!\")\n",
    "\n",
    "# age = int(input(\"Enter your age:\"))\n",
    "#\n",
    "# while age < 0:\n",
    "#     print(\"Age can't be negative\")\n",
    "#     age = int(input(\"Enter your age:\"))\n",
    "#\n",
    "# print(f\"You are {age} years old\")\n",
    "\n",
    "#\n",
    "# food = input(\"Enter your favorite food (press q to quit):\")\n",
    "#\n",
    "# while food != \"q\":\n",
    "#     print(f\"I like {food}\")\n",
    "#     food = input(\"Enter another favorite food you like (press q to quit):\")\n",
    "#\n",
    "# print(\"Goodbye!\")\n",
    "\n",
    "number = int(input(\"Enter a number between 1 to 10 only:\"))\n",
    "\n",
    "while number < 1 or number > 10:\n",
    "    print(f\"Invalid {number}, please try again!\")\n",
    "    number = int(input(\"Enter a number between 1 to 10 only:\"))\n",
    "\n",
    "print(f\"Great! {number} is a valid number\")\n",
    "\n",
    "\n",
    "\n"
   ]
  },
  {
   "cell_type": "markdown",
   "id": "c827a5fd-3298-4ec7-af8c-e15c59fbe95e",
   "metadata": {
    "jp-MarkdownHeadingCollapsed": true
   },
   "source": [
    "# BMI CALCULATOR (lbs(weight) and inches(height)) and (kg(weight) and meters(height))"
   ]
  },
  {
   "cell_type": "code",
   "execution_count": null,
   "id": "daf25a58dfaee130",
   "metadata": {
    "ExecuteTime": {
     "end_time": "2025-03-04T18:17:10.574651Z",
     "start_time": "2025-03-04T18:17:10.571215Z"
    }
   },
   "outputs": [],
   "source": [
    "# in lbs(weight) and inches(height)\n",
    "\n",
    "\n",
    "# weight = float(input(\"Enter your WEIGHT (in lbs):\"))\n",
    "# height = float(input(\"Enter your HEIGHT (in inches):\"))\n",
    "\n",
    "# BMI = (weight / (height * height)) * 703\n",
    "\n",
    "# print(f\"Your BMI is {BMI:.2f}\")\n",
    "\n",
    "# in kg(weight) and meter (height)\n",
    "\n",
    "weight = float(input(\"Enter your WEIGHT (in kg):\"))\n",
    "height = float(input(\"Enter your HEIGHT (in meter):\"))\n",
    "\n",
    "BMI = (weight / (height ** 2))\n",
    "\n",
    "print(f\"Your BMI is {BMI:.2f}\")\n"
   ]
  },
  {
   "cell_type": "markdown",
   "id": "0bb07c7f-f383-4dbb-bdee-866c42f1c6b2",
   "metadata": {
    "jp-MarkdownHeadingCollapsed": true
   },
   "source": [
    "# Compound Interest Calculator"
   ]
  },
  {
   "cell_type": "code",
   "execution_count": null,
   "id": "9cc73ab7c5c2910f",
   "metadata": {},
   "outputs": [],
   "source": [
    "import math\n",
    "\n",
    "# Compound Interest Calculator\n",
    "\n",
    "principal = 0\n",
    "interest_rate = 0\n",
    "time = 0\n",
    "\n",
    "while True:\n",
    "    principal = float(input(\"Enter the principal balance:\"))\n",
    "    print()\n",
    "    if principal < 0:\n",
    "        print(\"Initial principal balance can't be less than to 0, Please Enter the right VALUE Again!\" + \"\\n\")\n",
    "    else:\n",
    "        break\n",
    "\n",
    "while True:\n",
    "    interest_rate = float(input(\"Enter the interest rate:\"))\n",
    "    print()\n",
    "    if interest_rate < 0:\n",
    "        print(\"Interest rate can't be less than to 0, Please Enter the right VALUE Again!\" + \"\\n\")\n",
    "    else:\n",
    "        break\n",
    "\n",
    "while True:\n",
    "    time = int(input(\"Enter the time periods elapsed (in years):\"))\n",
    "    print()\n",
    "    if time < 0:\n",
    "        print(\"Time (in years) can't be less than to 0, Please Enter the right VALUE Again!\" + \"\\n\")\n",
    "    else:\n",
    "        break\n",
    "        \n",
    "# pow(base,exponent)\n",
    "\n",
    "total_amount = principal*pow((1 + interest_rate/100),time)\n",
    "\n",
    "print(f\"Balance after {time} year/s: P{total_amount:.2f}\")\n",
    "\n",
    "\n",
    "\n",
    "\n",
    "\n",
    "\n"
   ]
  },
  {
   "cell_type": "markdown",
   "id": "32c81b4c-9160-40ac-848c-3efede0826cf",
   "metadata": {
    "jp-MarkdownHeadingCollapsed": true
   },
   "source": [
    "# For loop"
   ]
  },
  {
   "cell_type": "code",
   "execution_count": 132,
   "id": "482b625b-ef70-4cc9-85cc-05ce4568a3df",
   "metadata": {
    "scrolled": true
   },
   "outputs": [
    {
     "name": "stdout",
     "output_type": "stream",
     "text": [
      "1234-5678-9012-3456"
     ]
    }
   ],
   "source": [
    "\n",
    "# For loop = execute a block of code a fixed number of times.\n",
    "#            You can iterate over a range, string sequence, etc.\n",
    "# reserve words: continue = this will skip the iteration, break = this will exit to the loop\n",
    "\n",
    "# Syntax:      for i(any identifier) in range(start?(this is inclusive),until?(this is exclusive),increment by?):\n",
    "\n",
    "# ex:          for i in range(1,11,1):  # this will count 1 to 10 and increment by 1(default)\n",
    "# another ex:  for i in range(1,15,3):  # this will count 1 to 14 (since 15 is exclusive) and increment each iteration(pass) by 3 \n",
    "# anotherL    for i in reversed(range(1,11)) # this will count 10 to 1 since it is in reversed and increment by 1(default)\n",
    "\n",
    "# for i in range(1,15,3):\n",
    "#     print(f\"{i}\", end = \" \")\n",
    "\n",
    "# for i in reversed(range(1,11)):\n",
    "#     print(i)\n",
    "\n",
    "# for i in range(2,10,2):\n",
    "#     print(i, end = \",\")\n",
    "\n",
    "# credit_card_number = \"1234-5678-9012-3456\"\n",
    "\n",
    "# for i in credit_card_number:\n",
    "#     print(i, end=\"\")\n",
    "#     if i == credit_card_number[3]:\n",
    "#         break\n",
    "\n",
    "# for i in range (1,20+1):\n",
    "#     if i == 13:\n",
    "#         continue;\n",
    "#     print(i,end=\",\")\n",
    "\n",
    "\n",
    "\n",
    "    "
   ]
  },
  {
   "cell_type": "markdown",
   "id": "91db7ce3-84e5-4445-9c87-caef89f9ea02",
   "metadata": {
    "jp-MarkdownHeadingCollapsed": true
   },
   "source": [
    "# Countdown timer program"
   ]
  },
  {
   "cell_type": "code",
   "execution_count": null,
   "id": "2ca9a5c8-a05b-4486-bce3-388934098052",
   "metadata": {},
   "outputs": [],
   "source": [
    "import time\n",
    "\n",
    "countdown = int(input(\"How many seconds you want to count down? \"))\n",
    "\n",
    "for i in range(countdown,0,-1):\n",
    "    seconds = i % 60 \n",
    "    minutes = int(i / 60) % 60  #remove %60 if you want to have minutes, hours only\n",
    "    hours = int(i / 3600) % 24  #remove %24 if you want to have hours, minutes, seconds only\n",
    "    days = int(i / 86400) % 365 #remove %365 if you want to have days, hours, minutes, seconds only\n",
    "    years = int(i / 31536000)   #remove this line if you want to have days, hours, minutes, seconds only\n",
    "    print(f\"{years:02d}:{days:03d}:{hours:02d}:{minutes:02d}:{seconds:02d}\")\n",
    "    time.sleep(1)\n",
    "else:\n",
    "    print(\"GOOD MORNINGGGG!!\")"
   ]
  },
  {
   "cell_type": "markdown",
   "id": "cffc2906-5553-4e0e-86c5-641165666243",
   "metadata": {
    "jp-MarkdownHeadingCollapsed": true
   },
   "source": [
    "# nested loop (loop inside a loop)"
   ]
  },
  {
   "cell_type": "code",
   "execution_count": null,
   "id": "791b4f5a-d362-480d-9904-eb767d35662c",
   "metadata": {},
   "outputs": [],
   "source": [
    "# nested loop = loop within another loop (outer,inner)\n",
    "#               outer loop:\n",
    "#                   inner loop:\n",
    "\n",
    "rows = int(input(\"How many rows you want to have?:\"))\n",
    "columns = int(input(\"How many columns you want to have?:\"))\n",
    "symbol = input(\"What symbol you want to put?:\")\n",
    "print()\n",
    "\n",
    "for i in range(rows):\n",
    "    for j in range (columns):\n",
    "        print(symbol,end=\" \")\n",
    "    print()\n",
    "\n"
   ]
  },
  {
   "cell_type": "markdown",
   "id": "854ed565-14e1-49cb-97ed-72be38b8cbc6",
   "metadata": {},
   "source": [
    "# Collections (list,tuples,set) it also includes (dictionaries)"
   ]
  },
  {
   "cell_type": "code",
   "execution_count": 343,
   "id": "f335b6db-ccf8-4b37-b22d-ffa471badbc5",
   "metadata": {},
   "outputs": [
    {
     "name": "stdout",
     "output_type": "stream",
     "text": [
      "carrot, potato, onion, tomato, cucumber, lettuce, pepper, broccoli, "
     ]
    }
   ],
   "source": [
    "# collections = single \"variable\" used to store multiple values\n",
    "\n",
    "# list  = [] ordered and changeable. Duplicates OK\n",
    "# set   = {} unordered and immutable (can't alter or can't change) and INDEXIN CAN'T BE USED, but Add/Remove OK. No duplicates\n",
    "# tuple = () ordered and unchangeable. Duplicates OK. Faster\n",
    "\n",
    "# Separatrix is , (comma)\n",
    "\n",
    "# List\n",
    "\n",
    "# fruits = [\"Apple\", \"Orange\", \"Banana\", \"Grapes\", \"Mango\"]\n",
    "# # print(fruit[0::2])\n",
    "\n",
    "# # print(dir(fruits))\n",
    "# # print(help(fruits))\n",
    "# # print(len(fruits))\n",
    "# # print(\"pineapple\" in fruits)\n",
    "\n",
    "# # fruits.append(\"pineapple\")\n",
    "# # fruits.remove(\"Apple\")\n",
    "# # fruits.insert(2,\"Pineapple\n",
    "# # fruits.sort()\n",
    "# # fruits.reverse()\n",
    "# # fruits.clear()\n",
    "# # fruits.pop()\n",
    "# # print(fruits.index(\"Banana\"))\n",
    "# # print(fruits.count(\"Banana\"))\n",
    "# print(fruits)\n",
    "\n",
    "# for i in fruits:\n",
    "#     print(i, end=\", \")\n",
    "\n",
    "\n",
    "# Set\n",
    "\n",
    "# numbers = {1,2,3,4,5,6,7,1,2,3}\n",
    "# print(dir(numbers))\n",
    "# print(help(numbers))\n",
    "# print(len(numbers))\n",
    "# print(3 in numbers)\n",
    "\n",
    "# numbers.add(8)\n",
    "# numbers.remove(5)\n",
    "# numbers.pop()\n",
    "# numbers.clear()\n",
    "# print(numbers)\n",
    "\n",
    "# for i in numbers:\n",
    "#     print(i, end=\", \")\n",
    "\n",
    "# Tuples\n",
    "\n",
    "# vegetables = (\"carrot\", \"potato\", \"onion\", \"tomato\", \"cucumber\", \"lettuce\", \"pepper\", \"broccoli\")\n",
    "\n",
    "# print(dir(vegetables))\n",
    "# print(help(vegetables))\n",
    "# print(len(vegetables))\n",
    "# print(\"potato\" in vegetables)\n",
    "\n",
    "# print(vegetables.index(\"tomato\"))\n",
    "# print(vegetables.count(\"tomato\"))\n",
    "\n",
    "# print(vegetables)\n",
    "\n",
    "# for i in vegetables:\n",
    "#     print(i, end=\", \")\n",
    "\n"
   ]
  },
  {
   "cell_type": "code",
   "execution_count": null,
   "id": "26139fcf-9db0-4649-bfbf-1f8b2ae24fab",
   "metadata": {},
   "outputs": [],
   "source": [
    "# Shopping cart Program"
   ]
  }
 ],
 "metadata": {
  "kernelspec": {
   "display_name": "Python 3 (ipykernel)",
   "language": "python",
   "name": "python3"
  },
  "language_info": {
   "codemirror_mode": {
    "name": "ipython",
    "version": 3
   },
   "file_extension": ".py",
   "mimetype": "text/x-python",
   "name": "python",
   "nbconvert_exporter": "python",
   "pygments_lexer": "ipython3",
   "version": "3.12.7"
  }
 },
 "nbformat": 4,
 "nbformat_minor": 5
}
