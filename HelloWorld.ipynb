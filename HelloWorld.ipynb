{
 "cells": [
  {
   "cell_type": "markdown",
   "id": "496c6a82-935d-4388-bf38-7cf979a24323",
   "metadata": {},
   "source": [
    "# My first python program"
   ]
  },
  {
   "cell_type": "code",
   "execution_count": null,
   "id": "2f019602-e61e-46f6-b1a9-8799b357f970",
   "metadata": {},
   "outputs": [],
   "source": [
    "print(\"Hello World\")\n",
    "print(\"Neil Wayne Cruz\")"
   ]
  },
  {
   "cell_type": "code",
   "execution_count": null,
   "id": "8eeb1ea6-f3a4-465b-bee7-cdff4a55a2fd",
   "metadata": {},
   "outputs": [],
   "source": [
    "#Variable = A container for a value (string, integer, float, boolean)\n",
    "#           A variable behaves as if it was the value it contains\n",
    "\n",
    "# Strings \n",
    "first_name = \"Neil Wayne\"\n",
    "last_name  = \"Cruz\"\n",
    "food = \"Sinigang\"\n",
    "email = \"neilwayne010203@gmail.com\"\n",
    "\n",
    "# Integers (Whole Numbers (without decimal)\n",
    "\n",
    "age = 19\n",
    "quantity = 3\n",
    "num_of_students = 40 \n",
    "\n",
    "# Float (Floating number (with decimal) / real numbers)\n",
    "price = 250.99\n",
    "gpa = 1.25\n",
    "distance = 6.86\n",
    "\n",
    "# Booleans (Contains only True or False value)\n",
    "is_student = True\n",
    "is_working = False\n",
    "for_sale   = True\n",
    "is_online  = False\n",
    "\n",
    "\n",
    "print(first_name + \"\\n\")\n",
    "\n",
    "# f-string (Formatted string literals) - begin a string with f or F before the opening quotation mark or triple quotation mark.\n",
    "# Inside this string, you can write a Python expression between { and } characters that can refer to variables or literal values.\n",
    "\n",
    "#example\n",
    "\n",
    "print(f\"Hello {first_name}\\n\")\n",
    "print(f\"I love {food}\\n\")\n",
    "print(f\"My email: {email}\\n\")\n",
    "print(f\"I'm already {age} years old\\n\")\n",
    "print(f\"You are buying {quantity} items\\n\")\n",
    "print(f\"My class has {num_of_students} students\\n\")\n",
    "print(f\"The price of grapes is P{price}\\n\")\n",
    "print(f\"My gpa is {gpa}\\n\")\n",
    "print(f\"I run {distance} km\\n\")\n",
    "print(f\"Are you a student?: {is_student}\\n\")\n",
    "print(f\"Are you a working?: {is_working}\\n\")\n",
    "print(f\"Is the car for sale?: {for_sale}\\n\")\n",
    "\n",
    "if for_sale:\n",
    "    print(\"item is available for now\\n\")\n",
    "else:\n",
    "    print(\"item is not available for now\\n\")\n",
    "    \n",
    "\n",
    "if is_online:\n",
    "    print(\"Im already online\\n\")\n",
    "else:\n",
    "    print(\"Im already offline\\n\")\n"
   ]
  },
  {
   "cell_type": "code",
   "execution_count": null,
   "id": "60654713-07d1-479f-8f47-aff0f1c88ad7",
   "metadata": {},
   "outputs": [],
   "source": [
    "# Typecasting = the process of converting a variable from one data type to another\n",
    "# str(), int(), float(), bool()\n",
    "\n",
    "\n",
    "name = \"Neil Wayne Cruz\"\n",
    "age = 19\n",
    "gpa = 1.25\n",
    "is_student = True\n",
    "\n",
    "type(name)\n",
    "\n",
    "#print(type(is_student))\n",
    "\n",
    "gpa = int(gpa)\n",
    "age = float(age)\n",
    "name = bool(name)\n",
    "\n",
    "print(gpa)\n",
    "print(age)\n",
    "print(name)"
   ]
  },
  {
   "cell_type": "code",
   "execution_count": 192,
   "id": "55e7d6d1-48bc-45b0-8530-f968cff891b9",
   "metadata": {
    "ExecuteTime": {
     "end_time": "2025-02-28T17:22:44.014191Z",
     "start_time": "2025-02-28T17:22:44.005076Z"
    }
   },
   "outputs": [],
   "source": [
    "# input() = A function that promts the user to enter data \n",
    "#           Returns the ENTERED DATA as a STRING\n",
    "\n",
    "# name = input(\"What is your name?: \")\n",
    "# age = int (input(\"How old are you?: \"))\n",
    "# age +=1\n",
    "\n",
    "# print()\n",
    "# print(f\"Hello \\\"{name}\\\", welcome to Python World!\")\n",
    "# print(\"HAPPY BORNNN DAYYY!!!\")\n",
    "# print(f\"You are \\\"{age}\\\" years old\")\n",
    "\n",
    "\n",
    "\n",
    "# EXERCISE 1: AREA OF A RECTANGLE\n",
    "# length = float(input(\"Enter Value (Length of Rectangle): \"))\n",
    "# width  = float(input(\"Enter Value (Width of Rectangle): \"))\n",
    "#\n",
    "# area = float(length * width)\n",
    "#\n",
    "# print()\n",
    "# print(f\"Length of a rectangle: {length}\")\n",
    "# print(f\"Width of a rectangle: {width}\")\n",
    "# print(f\"Area of a rectangle (L:{length} x W:{width}): {area}cm²\")\n",
    "\n",
    "# EXERCISE 2: SHOPPING CART PROGRAM (BASIC)\n",
    "# item = input(\"What item would you like to buy?: \")\n",
    "# price = float(input(\"What is the price?: \"))\n",
    "# quantity = int(input(\"How many would you like?: \"))\n",
    "#\n",
    "# total = float(price * quantity)\n",
    "#\n",
    "# print()\n",
    "# print(f\"YOu have bought {quantity} x {item}/s\")\n",
    "# print(f\"Your total is P{total}\")\n",
    "\n"
   ]
  },
  {
   "cell_type": "code",
   "execution_count": null,
   "id": "d8c01f1e-3942-45f3-a565-a2872a4a1d6b",
   "metadata": {},
   "outputs": [],
   "source": [
    "# augmented operators \n",
    "\n",
    "#friends = 10\n",
    "#remainder = 10\n",
    "\n",
    "# friends = friends + 2\n",
    "#friends += 2\n",
    "\n",
    "# friends = friends - 3\n",
    "#friends -= 3\n",
    "\n",
    "# friends = friends * 4\n",
    "#friends *= 4\n",
    "\n",
    "# friends = friends / 2\n",
    "#friends /= 2\n",
    "\n",
    "# remainder = remainder % 2\n",
    "#remainder %= 2\n",
    "# or\n",
    "#remainder = friends % 2\n",
    "\n",
    "# friends = friends ** 3 (exponent **)\n",
    "#friends **= 3\n",
    "\n",
    "#print(friends)\n",
    "#print(remainder)\n"
   ]
  },
  {
   "cell_type": "code",
   "execution_count": 188,
   "id": "6521148c-85c4-430c-bf1f-5515999d35a0",
   "metadata": {
    "ExecuteTime": {
     "end_time": "2025-02-28T17:32:40.770744Z",
     "start_time": "2025-02-28T17:32:30.533331Z"
    }
   },
   "outputs": [],
   "source": [
    "# MATH\n",
    "import math\n",
    "\n",
    "x = 3.141592\n",
    "y = 4\n",
    "z = 3\n",
    "\n",
    "#result = round(x) # rounds the value\n",
    "#result = abs(y) #returns the positive value of negative values or the distance of the value from 0\n",
    "#result = pow(z,3) # pow(base,exponent)\n",
    "#result = max(x, y, z) # max value between x, y, z\n",
    "#result = min(x, y, z) # min value between x, y, z\n",
    "\n",
    "#print(math.pi) # pi value\n",
    "#print(math.e) # e = exponential value\n",
    "\n",
    "#result = math.sqrt(9) # square root\n",
    "#result = math.ceil(x) # rounds up the value\n",
    "#result = math.floor(x) # rounds down the value\n",
    "\n",
    "\n",
    "# EXERCISE 1: CIRCUMFERENCE OF A CIRCLE\n",
    "#\n",
    "# radius = float(input(\"Enter the radius of the circle: \"))\n",
    "#\n",
    "# circumference = 2 * math.pi * radius\n",
    "#\n",
    "# print(f\"The circumference of the circle is (C = 2 * π * {radius}) ≈ {round(circumference, 3)}cm²\")\n",
    "\n",
    "\n",
    "#  EXERCISE 2: AREA OF A CIRCLE\n",
    "# radius = float(input(\"Enter the radius of the circle: \"))\n",
    "# area = math.pi * (pow(radius, 2))\n",
    "#\n",
    "# print(f\"The area of the circle is (A = π * {radius}²) ≈ {round(area, 3)}cm²\")\n",
    "\n",
    "\n",
    "# EXERCISE 3: HYPOTENUSE OF A RIGHT TRIANGLE\n",
    "# a = float(input(\"Enter a (SIDE A OF RIGHT TRIANGLE): \"))\n",
    "# b = float(input(\"Enter b (SIDE B OF RIGHT TRIANGLE): \"))\n",
    "\n",
    "# c = math.sqrt(pow(a, 2) + pow(b, 2))\n",
    "\n",
    "# print(f\"The hypotenuse of the right triangle is (C = √({a}² + {b}²)) ≈ {round(c, 3)}cm²\")\n",
    "\n",
    "\n",
    "\n"
   ]
  },
  {
   "cell_type": "code",
   "execution_count": 4,
   "id": "1860ce44-31f4-404c-b982-68a7a01835b0",
   "metadata": {
    "ExecuteTime": {
     "end_time": "2025-03-02T10:49:12.254889Z",
     "start_time": "2025-03-02T10:49:10.304904Z"
    }
   },
   "outputs": [
    {
     "name": "stdout",
     "output_type": "stream",
     "text": [
      "You forgot to enter your name\n"
     ]
    }
   ],
   "source": [
    "#conditional statements (if, elif, else)\n",
    "\n",
    "# age = int(input(\"Enter your age: \"))\n",
    "\n",
    "# if age >= 18:\n",
    "#     print(\"You are eligible to vote\")\n",
    "# elif age == 0:\n",
    "#     print(\"You are a baby\")\n",
    "# elif age < 0:\n",
    "#     print(\"You haven't born yet\")\n",
    "# else:\n",
    "#     print(\"You are not eligible to vote\")\n",
    "\n",
    "name = input(\"Enter your name: \")\n",
    "\n",
    "if name == \"\":\n",
    "    print(\"You forgot to enter your name\")\n",
    "else:\n",
    "    print(f\"Hello {name}!\")\n",
    "\n",
    "\n"
   ]
  },
  {
   "cell_type": "code",
   "execution_count": 124,
   "id": "be27fabd-a2cb-4ae1-9843-e5aee8f27513",
   "metadata": {},
   "outputs": [
    {
     "name": "stdin",
     "output_type": "stream",
     "text": [
      "Enter the 1st number:  458\n",
      "Enter an operator (+, -, *, /, %):  /\n",
      "Enter the 2nd number:  45\n"
     ]
    },
    {
     "name": "stdout",
     "output_type": "stream",
     "text": [
      "\n",
      "Quotient = 10.18\n"
     ]
    }
   ],
   "source": [
    "# SIMPLE CALCULATOR\n",
    "\n",
    "num1 = float(input(\"Enter the 1st number: \"))\n",
    "operator = input(\"Enter an operator (+, -, *, /, %): \")\n",
    "num2 = float(input(\"Enter the 2nd number: \"))\n",
    "print()\n",
    "\n",
    "if operator == \"+\":\n",
    "    result = num1 + num2\n",
    "    print(f\"Sum = {result:.2f}\")\n",
    "elif operator == \"-\":\n",
    "    result = num1 - num2\n",
    "    print(f\"Difference = {result:.2f}\")\n",
    "elif operator == \"*\":\n",
    "    result = num1 * num2\n",
    "    print(f\"Product = {result:.2f}\")\n",
    "elif operator == \"/\":\n",
    "    if num2 == 0:\n",
    "        print(\"UNDEFINED\")  # Corrected spelling\n",
    "    else:\n",
    "        result = num1 / num2\n",
    "        print(f\"Quotient = {result:.2f}\")\n",
    "elif operator == \"%\":\n",
    "    if num2 == 0:\n",
    "        print(\"UNDEFINED\")\n",
    "    else:\n",
    "        result = num1 % num2\n",
    "        print(f\"Remainder = {result:.2f}\")\n",
    "else:\n",
    "    print(f\"Invalid {operator} operator, please try again!\")\n"
   ]
  },
  {
   "cell_type": "code",
   "execution_count": 228,
   "id": "242e1787-220a-4e42-9bbb-dcd7e4aab006",
   "metadata": {},
   "outputs": [
    {
     "name": "stdin",
     "output_type": "stream",
     "text": [
      "Pick a unit you want to convert your weight (kg, lbs): sadfg\n"
     ]
    },
    {
     "name": "stdout",
     "output_type": "stream",
     "text": [
      "This sadfg is invalid unit, PICK ONLY WITHIN THE SCOPE PROVIDED\n"
     ]
    }
   ],
   "source": [
    "# Weight Converter\n",
    "\n",
    "# weight = float(input(\"Enter your weight:\"))\n",
    "unit = input(\"Pick a unit you want to convert your weight (kg, lbs):\")\n",
    "\n",
    "if unit == \"kg\" or unit == \"Kg\" or unit == \"KG\":\n",
    "    weight = float(input(\"Enter your weight in lbs(pounds):\"))\n",
    "    result = weight * 0.45359237\n",
    "    print(f\"Your weight in {unit} is = {round(result,3)}\")\n",
    "elif unit == \"lbs\" or unit == \"Lbs\" or unit == \"LBS\":\n",
    "    weight = float(input(\"Enter your weight in kg(kilogram):\"))\n",
    "    result = weight * 2.20462\n",
    "    print(f\"Your weight in {unit} is = {round(result,3)}\")\n",
    "else:\n",
    "    print(f\"This {unit} is INVALID UNIT, PICK ONLY WITHIN THE SCOPE PROVIDED\")\n",
    "\n"
   ]
  },
  {
   "cell_type": "code",
   "execution_count": null,
   "id": "22d482b3-1761-49ae-86e2-b2796c2f12af",
   "metadata": {},
   "outputs": [],
   "source": [
    "unit = input(\"Pick a unit you want to convert your temperature (C or F):\")\n",
    "\n",
    "if unit == \"C\" or unit == \"c\":\n",
    "    temperature = float(input(\"Enter a temperature in fahrenheit(°F):\"))\n",
    "    result = (temperature - 32) * 5/9\n",
    "    print(f\"The temperature in °C (Celsius) is = {round(result,3)}\")\n",
    "elif unit == \"F\" or unit == \"f\":\n",
    "    temperature = float(input(\"Enter a temperature in celcius(°C):\"))\n",
    "    result = temperature * (9/5) + 32\n",
    "    print(f\"The temperature in °F (Fahrenheit) is = {round(result,3)}\") \n",
    "else:\n",
    "     print(f\"This {unit} is INVALID UNIT, PICK ONLY WITHIN THE SCOPE PROVIDED\")"
   ]
  },
  {
   "cell_type": "code",
   "execution_count": 50,
   "id": "ada017be-7bcf-46e5-8d60-faa857593258",
   "metadata": {},
   "outputs": [
    {
     "name": "stdin",
     "output_type": "stream",
     "text": [
      "Enter a temparature: 12\n"
     ]
    },
    {
     "name": "stdout",
     "output_type": "stream",
     "text": [
      "It is WARM outside 😄\n",
      "It is SUNNY ☁️\n"
     ]
    }
   ],
   "source": [
    "# Logical Operators = evaluate multiple conditions (or, and, not)\n",
    "#                     or = at least one condition must be true (in c,java,c++ it is ||)\n",
    "#                     and = both two condtion must be true in c,java,c++ it is &&)\n",
    "#                     not = inverted the condition (not false, not tru) if !True = False, if !False = True (in c,java,c++ it is !)\n",
    "\n",
    "\n",
    "temp = float(input(\"Enter a temparature:\"))\n",
    "is_Sunny = False\n",
    "\n",
    "if temp >= 28 and is_Sunny:\n",
    "    print(\"It is HOT outside 🥵\")\n",
    "    print(\"It is SUNNY ☀️\")\n",
    "elif temp <= 0 and is_Sunny:\n",
    "    print(\"It is COLD outside 🥶\")\n",
    "    print(\"It is SUNNY ☀️\")\n",
    "elif 28 > temp > 0 and is_Sunny:\n",
    "    print(\"It is WARM outside 😄\")\n",
    "    print(\"It is SUNNY ☀️\")\n",
    "elif temp >= 28 and not is_Sunny:\n",
    "    print(\"It is HOT outside 🥵\")\n",
    "    print(\"It is CLOUDY ☁️\")\n",
    "elif temp <= 0 and not is_Sunny:\n",
    "    print(\"It is COLD outside 🥶\")\n",
    "    print(\"It is CLOUDY ☁️\")\n",
    "elif 28 > temp > 0 and not is_Sunny:\n",
    "    print(\"It is WARM outside 😄\")\n",
    "    print(\"It is CLOUDY ☁️\")\n",
    "\n"
   ]
  },
  {
   "cell_type": "code",
   "execution_count": 95,
   "id": "02de4cf5-1df6-42ef-8432-a95acadd8382",
   "metadata": {},
   "outputs": [
    {
     "name": "stdin",
     "output_type": "stream",
     "text": [
      "Enter your user role (Admin,Guest): Admin\n"
     ]
    },
    {
     "name": "stdout",
     "output_type": "stream",
     "text": [
      "Full Acess\n"
     ]
    }
   ],
   "source": [
    "# conditional expression = A one-line shortcit for the if-else statement. similar to :(ternary operator)\n",
    "#                         Print or assign one of two values based on a condition\n",
    "#                            \n",
    "#                         SYNTAX:\n",
    "#                         X if condition else Y\n",
    "\n",
    "# a = int(input(\"Enter a 1st number:\"))\n",
    "# b = int(input(\"Enter a 2nd number:\"))\n",
    "# age = int(input(\"Enter your age:\"))\n",
    "# temp = float(input(\"Enter a what is temperature today:\"))\n",
    "user_role = input(\"Enter your user role (Admin,Guest):\")\n",
    "\n",
    "# print(\"Positive\" if a > 0 else \"Negative\")\n",
    "# result = \"Even\" if a % 2 == 0 else \"ODD\"\n",
    "# max_num = a if a > b else b\n",
    "# min_num = a if a < b else b\n",
    "# status = \"Adult\" if age >= 18 else \"Child\"\n",
    "# weather = \"HOT\" if temp > 20 else \"COLD\"\n",
    "acess_level = \"Full Acess\" if user_role == \"Admin\" else \"Limited Acess\"\n",
    "print(acess_level)"
   ]
  },
  {
   "cell_type": "code",
   "id": "4b8f7b72-54fc-43ed-8898-6ff1ec28b104",
   "metadata": {
    "ExecuteTime": {
     "end_time": "2025-03-04T16:43:49.189071Z",
     "start_time": "2025-03-04T16:43:46.166116Z"
    }
   },
   "source": [
    "# String Methods\n",
    "\n",
    "# name = input(\"Enter your full name:\")\n",
    "phone_num = input(\"Enter your phone number:\")\n",
    "\n",
    "# length = len(name) # returns the length of the string\n",
    "# find_this = name.find(\" \") # find the character occurrence to first index of it\n",
    "# find_this1 = name.rfind(\"z\") # find the  character occurrence to last index of it\n",
    "# name = name.capitalize() # returns the string in capitalizing the \"first letter only\"\n",
    "# name = name.upper() # returns the string in uppercase\n",
    "# name = name.lower() # returns the string in lowercase\n",
    "# is_digit = name.isdigit() # Return True if the string is a digit string, False otherwise.\n",
    "# is_alpha = name.isalpha() # Return True if the string is an alphabetic string, False otherwise.\n",
    "# result = phone_num.count(\"-\") # returns the number of occurrences of a substring in the given string.\n",
    "# result = phone_num.replace(\" \",\"-\") # returns a copy of the string where all occurrences of a substring is replaced with another substring.\n",
    "\n",
    "#print(help(str())) # this will show all the methods that can be used in string.\n",
    "\n",
    "# print(result)\n"
   ],
   "outputs": [],
   "execution_count": 45
  },
  {
   "cell_type": "code",
   "id": "b8eecb59-32d6-407f-b8f8-f1d7883b0f36",
   "metadata": {
    "ExecuteTime": {
     "end_time": "2025-03-04T17:02:02.809236Z",
     "start_time": "2025-03-04T17:01:56.610118Z"
    }
   },
   "source": [
    "# validate user input exercise\n",
    "# 1. username is no more than 12 characters\n",
    "# 2. username must not contain spaces\n",
    "# 3. username must not contain digits\n",
    "\n",
    "username = input(\"Enter your username:\")\n",
    "\n",
    "if len(username) > 12:\n",
    "    print(\"Username must not be more than 12 characters\")\n",
    "elif \" \" in username:\n",
    "    print(\"Username must not contain spaces\")\n",
    "elif not username.isalpha():\n",
    "    print(\"Username must not contain digits\")\n",
    "else:\n",
    "    print(f\"Hello {username}! Welcome to Python World!\")"
   ],
   "outputs": [
    {
     "name": "stdout",
     "output_type": "stream",
     "text": [
      "Username must not be more than 12 characters\n"
     ]
    }
   ],
   "execution_count": 62
  },
  {
   "metadata": {
    "ExecuteTime": {
     "end_time": "2025-03-04T17:22:32.195900Z",
     "start_time": "2025-03-04T17:22:32.186828Z"
    }
   },
   "cell_type": "code",
   "source": [
    "# indexing = accessing elements of a sequence using [] (indexing operator)\n",
    "#            [start : stop : step]\n",
    "\n",
    "credit_num = \"1234-5678-9012-3456\"\n",
    "\n",
    "# first_num = credit_num[0]\n",
    "\n",
    "# print(\"credit_num[0:4] = \" + credit_num[0:4]) # output: 1234\n",
    "# print(\"credit_num[5:9] = \" +credit_num[5:9]) # output: 5678\n",
    "# print(\"credit_num[10:14] = \" +credit_num[10:14]) # output: 9012\n",
    "# print(\"credit_num[15:19] = \"+ + credit_num[15:19]) # output: 3456\n",
    "\n",
    "# print(credit_num[5:]) # output: 5678-9012-3456\n",
    "\n",
    "# negative indexing\n",
    "\n",
    "# print(credit_num[-4]) # output: 3456\n",
    "# print(credit_num[-9:]) # output: 9012-3456\n",
    "\n",
    "# with step\n",
    "\n",
    "# print(credit_num[::2]) # output: 13-67891-46\n",
    "# print(credit_num[::-1]) # output: 6543-2109-8765-4321 #reversed the string\n",
    "\n",
    "\n"
   ],
   "id": "e3c7d208de87cce1",
   "outputs": [
    {
     "name": "stdout",
     "output_type": "stream",
     "text": [
      "6543-2109-8765-4321\n"
     ]
    }
   ],
   "execution_count": 93
  },
  {
   "metadata": {
    "ExecuteTime": {
     "end_time": "2025-03-04T17:46:03.524190Z",
     "start_time": "2025-03-04T17:46:03.513187Z"
    }
   },
   "cell_type": "code",
   "source": [
    "# format specifiers = {value:flags} format a value based on what flags are inserted\n",
    "#                     flags are inserted\n",
    "\n",
    "# :.(number)f = round to that many decimal places (fixed-point) ex: {:.2f}\n",
    "# :(number) = allocate that many spaces (right-aligned) ex: {:10}\n",
    "# :03 - allocate and zero pad that many spaces (right-aligned) ex: {:03}\n",
    "# :< = left justify\n",
    "# :> = right justify\n",
    "# :^ = center justify\n",
    "# :+ = use a plus sign to indicate positive value\n",
    "# :_ = use an underscore as a thousand separator\n",
    "# := = place sign to leftmost position\n",
    "# :e = scientific notation\n",
    "# :g = general format\n",
    "# :  = insert a space before positive numbers\n",
    "# :, = comma separator\n",
    "# :b = binary format\n",
    "# :o = octal format\n",
    "# :x = hexadecimal format\n",
    "# :n = number format\n",
    "# :% = percentage format\n",
    "# :s = string format\n",
    "# :c = character format\n",
    "# :r = repr format\n",
    "# :a = ascii format\n",
    "# :f = float format\n",
    "# :d = decimal format\n",
    "# :e = exponential format\n",
    "\n",
    "price1 = 3.14159\n",
    "price2 = -987.65\n",
    "price3 = 12.34\n",
    "price4 = 12345.4321\n",
    "\n",
    "# print(f\"Price 1: P{price1:.3f}\") # output: Price 1: P3.142\n",
    "# print(f\"Price 2: P{price2:.3f}\") # output: Price 2: P-987.650\n",
    "# print(f\"Price 3: P{price3:.3f}\") # output: Price 3: P12.340\n",
    "\n",
    "print(f\"Price 1: P{price1:,.2f}\")\n",
    "print(f\"Price 2: P{price2:,.2f}\")\n",
    "print(f\"Price 3: P{price3:,.2f}\")\n",
    "print(f\"Price 4: P{price4:,.2f}\")"
   ],
   "id": "57539a6f214db7f5",
   "outputs": [
    {
     "name": "stdout",
     "output_type": "stream",
     "text": [
      "Price 1: P3.14\n",
      "Price 2: P-987.65\n",
      "Price 3: P12.34\n",
      "Price 4: P12,345.43\n"
     ]
    }
   ],
   "execution_count": 127
  },
  {
   "metadata": {
    "ExecuteTime": {
     "end_time": "2025-03-04T18:22:52.403012Z",
     "start_time": "2025-03-04T18:22:40.056355Z"
    }
   },
   "cell_type": "code",
   "source": [
    "# while loop = A statement that will execute a block of code as long as / WHILE the condition is true\n",
    "\n",
    "# name = input(\"Enter your name:\")\n",
    "#\n",
    "# while name == \"\":\n",
    "#     print(\"You forgot to enter your name\")\n",
    "#     name = input(\"Enter your name:\")\n",
    "#\n",
    "# print(f\"Hello {name}!\")\n",
    "\n",
    "# age = int(input(\"Enter your age:\"))\n",
    "#\n",
    "# while age < 0:\n",
    "#     print(\"Age can't be negative\")\n",
    "#     age = int(input(\"Enter your age:\"))\n",
    "#\n",
    "# print(f\"You are {age} years old\")\n",
    "\n",
    "#\n",
    "# food = input(\"Enter your favorite food (press q to quit):\")\n",
    "#\n",
    "# while food != \"q\":\n",
    "#     print(f\"I like {food}\")\n",
    "#     food = input(\"Enter another favorite food you like (press q to quit):\")\n",
    "#\n",
    "# print(\"Goodbye!\")\n",
    "\n",
    "number = int(input(\"Enter a number between 1 to 10 only:\"))\n",
    "\n",
    "while number < 1 or number > 10:\n",
    "    print(f\"Invalid {number}, please try again!\")\n",
    "    number = int(input(\"Enter a number between 1 to 10 only:\"))\n",
    "\n",
    "print(f\"Great! {number} is a valid number\")\n",
    "\n",
    "\n",
    "\n"
   ],
   "id": "9c4296b75c1b6fc6",
   "outputs": [
    {
     "name": "stdout",
     "output_type": "stream",
     "text": [
      "Invalid 12, please try again!\n",
      "Invalid 13, please try again!\n",
      "Invalid 15, please try again!\n",
      "Invalid 15, please try again!\n",
      "Great! 1 is a valid number\n"
     ]
    }
   ],
   "execution_count": 154
  },
  {
   "metadata": {
    "ExecuteTime": {
     "end_time": "2025-03-04T18:17:10.574651Z",
     "start_time": "2025-03-04T18:17:10.571215Z"
    }
   },
   "cell_type": "code",
   "source": "",
   "id": "daf25a58dfaee130",
   "outputs": [],
   "execution_count": null
  },
  {
   "metadata": {},
   "cell_type": "code",
   "outputs": [],
   "execution_count": null,
   "source": "",
   "id": "9cc73ab7c5c2910f"
  }
 ],
 "metadata": {
  "kernelspec": {
   "display_name": "Python 3",
   "language": "python",
   "name": "python3"
  },
  "language_info": {
   "codemirror_mode": {
    "name": "ipython",
    "version": 3
   },
   "file_extension": ".py",
   "mimetype": "text/x-python",
   "name": "python",
   "nbconvert_exporter": "python",
   "pygments_lexer": "ipython3",
   "version": "3.12.7"
  }
 },
 "nbformat": 4,
 "nbformat_minor": 5
}
