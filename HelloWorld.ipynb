{
 "cells": [
  {
   "cell_type": "markdown",
   "id": "496c6a82-935d-4388-bf38-7cf979a24323",
   "metadata": {
    "jp-MarkdownHeadingCollapsed": true
   },
   "source": [
    "# My first python program"
   ]
  },
  {
   "cell_type": "code",
   "execution_count": null,
   "id": "2f019602-e61e-46f6-b1a9-8799b357f970",
   "metadata": {},
   "outputs": [],
   "source": [
    "print(\"Hello World\")\n",
    "print(\"Neil Wayne Cruz\")\n",
    "p"
   ]
  },
  {
   "cell_type": "markdown",
   "id": "07c3d47c-bf86-43a6-a574-645c30ac2b2c",
   "metadata": {
    "jp-MarkdownHeadingCollapsed": true
   },
   "source": [
    "# Variable"
   ]
  },
  {
   "cell_type": "code",
   "execution_count": null,
   "id": "8eeb1ea6-f3a4-465b-bee7-cdff4a55a2fd",
   "metadata": {},
   "outputs": [],
   "source": [
    "#Variable = A container for a value (string, integer, float, boolean)\n",
    "#           A variable behaves as if it was the value it contains\n",
    "\n",
    "# Strings \n",
    "first_name = \"Neil Wayne\"\n",
    "last_name  = \"Cruz\"\n",
    "food = \"Sinigang\"\n",
    "email = \"neilwayne010203@gmail.com\"\n",
    "\n",
    "# Integers (Whole Numbers (without decimal)\n",
    "\n",
    "age = 19\n",
    "quantity = 3\n",
    "num_of_students = 40 \n",
    "\n",
    "# Float (Floating number (with decimal) / real numbers)\n",
    "price = 250.99\n",
    "gpa = 1.25\n",
    "distance = 6.86\n",
    "\n",
    "# Booleans (Contains only True or False value)\n",
    "is_student = True\n",
    "is_working = False\n",
    "for_sale   = True\n",
    "is_online  = False\n",
    "\n",
    "\n",
    "print(first_name + \"\\n\")\n",
    "\n",
    "# f-string (Formatted string literals) - begin a string with f or F before the opening quotation mark or triple quotation mark.\n",
    "# Inside this string, you can write a Python expression between { and } characters that can refer to variables or literal values.\n",
    "\n",
    "#example\n",
    "\n",
    "print(f\"Hello {first_name}\\n\")\n",
    "print(f\"I love {food}\\n\")\n",
    "print(f\"My email: {email}\\n\")\n",
    "print(f\"I'm already {age} years old\\n\")\n",
    "print(f\"You are buying {quantity} items\\n\")\n",
    "print(f\"My class has {num_of_students} students\\n\")\n",
    "print(f\"The price of grapes is P{price}\\n\")\n",
    "print(f\"My gpa is {gpa}\\n\")\n",
    "print(f\"I run {distance} km\\n\")\n",
    "print(f\"Are you a student?: {is_student}\\n\")\n",
    "print(f\"Are you a working?: {is_working}\\n\")\n",
    "print(f\"Is the car for sale?: {for_sale}\\n\")\n",
    "\n",
    "if for_sale:\n",
    "    print(\"item is available for now\\n\")\n",
    "else:\n",
    "    print(\"item is not available for now\\n\")\n",
    "    \n",
    "\n",
    "if is_online:\n",
    "    print(\"Im already online\\n\")\n",
    "else:\n",
    "    print(\"Im already offline\\n\")\n"
   ]
  },
  {
   "cell_type": "markdown",
   "id": "488cf234-2d34-4899-891b-aefedcd7e727",
   "metadata": {
    "jp-MarkdownHeadingCollapsed": true
   },
   "source": [
    "# Typecasting"
   ]
  },
  {
   "cell_type": "code",
   "execution_count": null,
   "id": "60654713-07d1-479f-8f47-aff0f1c88ad7",
   "metadata": {},
   "outputs": [],
   "source": [
    "# Typecasting = the process of converting a variable from one data type to another\n",
    "# str(), int(), float(), bool()\n",
    "\n",
    "\n",
    "name = \"Neil Wayne Cruz\"\n",
    "age = 19\n",
    "gpa = 1.25\n",
    "is_student = True\n",
    "\n",
    "type(name)\n",
    "\n",
    "#print(type(is_student))\n",
    "\n",
    "gpa = int(gpa)\n",
    "age = float(age)\n",
    "name = bool(name)\n",
    "\n",
    "print(gpa)\n",
    "print(age)\n",
    "print(name)\n",
    "\n",
    "# print(1,end=\" \")\n",
    "# print(2,end=\" \")\n",
    "# print(3)\n",
    "# OUTPUT : 1 2 3 # this is because it the print function has end=\" \" to the end which tells that does not contain \\n (newline) which is a default value"
   ]
  },
  {
   "cell_type": "markdown",
   "id": "ce5e18ed-32b9-4b9e-8095-fa7783f4d838",
   "metadata": {
    "jp-MarkdownHeadingCollapsed": true
   },
   "source": [
    "# input()"
   ]
  },
  {
   "cell_type": "code",
   "execution_count": null,
   "id": "55e7d6d1-48bc-45b0-8530-f968cff891b9",
   "metadata": {},
   "outputs": [],
   "source": [
    "# input() = A function that promts the user to enter data \n",
    "#           Returns the ENTERED DATA as a STRING\n",
    "\n",
    "# name = input(\"What is your name?: \")\n",
    "# age = int (input(\"How old are you?: \"))\n",
    "# age +=1\n",
    "\n",
    "# print()\n",
    "# print(f\"Hello \\\"{name}\\\", welcome to Python World!\")\n",
    "# print(\"HAPPY BORNNN DAYYY!!!\")\n",
    "# print(f\"You are \\\"{age}\\\" years old\")\n",
    "\n",
    "\n",
    "\n",
    "# EXERCISE 1: AREA OF A RECTANGLE\n",
    "# length = float(input(\"Enter Value (Length of Rectangle): \"))\n",
    "# width  = float(input(\"Enter Value (Width of Rectangle): \"))\n",
    "#\n",
    "# area = float(length * width)\n",
    "#\n",
    "# print()\n",
    "# print(f\"Length of a rectangle: {length}\")\n",
    "# print(f\"Width of a rectangle: {width}\")\n",
    "# print(f\"Area of a rectangle (L:{length} x W:{width}): {area}cm²\")\n",
    "\n",
    "# EXERCISE 2: SHOPPING CART PROGRAM (BASIC)\n",
    "# item = input(\"What item would you like to buy?: \")\n",
    "# price = float(input(\"What is the price?: \"))\n",
    "# quantity = int(input(\"How many would you like?: \"))\n",
    "#\n",
    "# total = float(price * quantity)\n",
    "#\n",
    "# print()\n",
    "# print(f\"YOu have bought {quantity} x {item}/s\")\n",
    "# print(f\"Your total is P{total}\")\n",
    "\n"
   ]
  },
  {
   "cell_type": "markdown",
   "id": "a9230af6-4dd2-441c-a7c7-6a2c0843b961",
   "metadata": {
    "jp-MarkdownHeadingCollapsed": true
   },
   "source": [
    "# Operators"
   ]
  },
  {
   "cell_type": "code",
   "execution_count": null,
   "id": "d8c01f1e-3942-45f3-a565-a2872a4a1d6b",
   "metadata": {},
   "outputs": [],
   "source": [
    "# Operators in Python (Ordered by Precedence from High to Low)\n",
    "\n",
    "# Parentheses (Grouping Operator)\n",
    "# ()  - Used to override the default precedence of operators (Highest precedence)\n",
    "\n",
    "# Arithmetic Operators\n",
    "# **  (exponentiation (right to left))    (returns int or float)\n",
    "# *   (multiplication (left to right))    (returns int or float)\n",
    "# /   (division (left to right))          (returns float)\n",
    "# %   (modulus/remainder (left to right)) (returns int)\n",
    "# //  (floor division (left to right))    (returns int)\n",
    "# +   (addition (left to right))          (returns int or float)\n",
    "# -   (subtraction (left to right))       (returns int or float)\n",
    "\n",
    "# Bitwise NOT Operator (complement)\n",
    "# ~   (bitwise NOT (complement) (unary, highest precedence in bitwise ops)) # -(x+1)\n",
    "\n",
    "# Bitwise Shift Operators\n",
    "# <<  (left shift (left to right))  # x*2^n (we gain bits in left shift)\n",
    "# >>  (right shift (left to right)) # x/2^n (we lose bits in right shift)\n",
    "\n",
    "# Bitwise AND, XOR, OR Operators\n",
    "# &   (bitwise AND (left to right))\n",
    "# ^   (bitwise XOR (left to right))\n",
    "# |   (bitwise OR (left to right))\n",
    "\n",
    "# Comparison Operators (Relational Operators)\n",
    "# <   (less than)\n",
    "# >   (greater than)\n",
    "# <=  (less than or equal to)\n",
    "# >=  (greater than or equal to)\n",
    "# ==  (equal to)\n",
    "# !=  (not equal to)\n",
    "\n",
    "# Identity Operators\n",
    "# is      (returns True if both variables refer to the same object)\n",
    "# is not  (returns True if both variables do not refer to the same object)\n",
    "\n",
    "# Membership Operators\n",
    "# in      (returns True if a value is found in a sequence)\n",
    "# not in  (returns True if a value is not found in a sequence)\n",
    "\n",
    "# Logical Operators\n",
    "# not  (logical NOT)   same as Java: ! (highest precedence among logical operators)\n",
    "# and  (logical AND)   same as Java: &&\n",
    "# or   (logical OR)    same as Java: ||\n",
    "\n",
    "# Assignment Operators (Augmented Assignment Operators)\n",
    "# a **= 2  same as:  a = a ** 2\n",
    "# a *=  2  same as:  a = a *  2\n",
    "# a /=  2  same as:  a = a /  2\n",
    "# a //= 2  same as:  a = a // 2\n",
    "# a %=  2  same as:  a = a %  2\n",
    "# a +=  2  same as:  a = a +  2\n",
    "# a -=  2  same as:  a = a -  2\n",
    "# a &=  2  same as:  a = a &  2\n",
    "# a ^=  2  same as:  a = a ^  2\n",
    "# a |=  2  same as:  a = a |  2\n",
    "# a <<= 2  same as:  a = a << 2\n",
    "# a >>= 2  same as:  a = a >> 2\n"
   ]
  },
  {
   "cell_type": "markdown",
   "id": "ab7b7593-bbe7-451b-bb5a-2b9ab09a7ea0",
   "metadata": {
    "jp-MarkdownHeadingCollapsed": true
   },
   "source": [
    "# Math class"
   ]
  },
  {
   "cell_type": "code",
   "execution_count": null,
   "id": "6521148c-85c4-430c-bf1f-5515999d35a0",
   "metadata": {},
   "outputs": [],
   "source": [
    "# MATH\n",
    "import math\n",
    "\n",
    "x = 3.141592\n",
    "y = 4\n",
    "z = 3\n",
    "\n",
    "#result = round(x) # rounds the value\n",
    "#result = abs(y) #returns the positive value of negative values or the distance of the value from 0\n",
    "#result = pow(z,3) # pow(base,exponent)\n",
    "#result = max(x, y, z) # max value between x, y, z\n",
    "#result = min(x, y, z) # min value between x, y, z\n",
    "\n",
    "#print(math.pi) # pi value\n",
    "#print(math.e) # e = exponential value\n",
    "\n",
    "#result = math.sqrt(9) # square root\n",
    "#result = math.ceil(x) # rounds up the value\n",
    "#result = math.floor(x) # rounds down the value\n",
    "\n",
    "\n",
    "# EXERCISE 1: CIRCUMFERENCE OF A CIRCLE\n",
    "#\n",
    "# radius = float(input(\"Enter the radius of the circle: \"))\n",
    "#\n",
    "# circumference = 2 * math.pi * radius\n",
    "#\n",
    "# print(f\"The circumference of the circle is (C = 2 * π * {radius}) ≈ {round(circumference, 3)}cm²\")\n",
    "\n",
    "\n",
    "#  EXERCISE 2: AREA OF A CIRCLE\n",
    "# radius = float(input(\"Enter the radius of the circle: \"))\n",
    "# area = math.pi * (pow(radius, 2))\n",
    "#\n",
    "# print(f\"The area of the circle is (A = π * {radius}²) ≈ {round(area, 3)}cm²\")\n",
    "\n",
    "\n",
    "# EXERCISE 3: HYPOTENUSE OF A RIGHT TRIANGLE\n",
    "# a = float(input(\"Enter a (SIDE A OF RIGHT TRIANGLE): \"))\n",
    "# b = float(input(\"Enter b (SIDE B OF RIGHT TRIANGLE): \"))\n",
    "\n",
    "# c = math.sqrt(pow(a, 2) + pow(b, 2))\n",
    "\n",
    "# print(f\"The hypotenuse of the right triangle is (C = √({a}² + {b}²)) ≈ {round(c, 3)}cm²\")\n",
    "\n",
    "\n",
    "\n"
   ]
  },
  {
   "cell_type": "markdown",
   "id": "dfe5fcaa-3658-4029-974d-b2400a39508a",
   "metadata": {
    "jp-MarkdownHeadingCollapsed": true
   },
   "source": [
    "# conditional statements (if, elif, else)"
   ]
  },
  {
   "cell_type": "code",
   "execution_count": null,
   "id": "1860ce44-31f4-404c-b982-68a7a01835b0",
   "metadata": {},
   "outputs": [],
   "source": [
    "#conditional statements (if, elif, else)\n",
    "\n",
    "# age = int(input(\"Enter your age: \"))\n",
    "\n",
    "# if age >= 18:\n",
    "#     print(\"You are eligible to vote\")\n",
    "# elif age == 0:\n",
    "#     print(\"You are a baby\")\n",
    "# elif age < 0:\n",
    "#     print(\"You haven't born yet\")\n",
    "# else:\n",
    "#     print(\"You are not eligible to vote\")\n",
    "\n",
    "name = input(\"Enter your name: \")\n",
    "\n",
    "if name == \"\":\n",
    "    print(\"You forgot to enter your name\")\n",
    "else:\n",
    "    print(f\"Hello {name}!\")\n",
    "\n",
    "\n"
   ]
  },
  {
   "cell_type": "markdown",
   "id": "5731f04e-fe39-465a-8eb4-3a61f9d7fdc4",
   "metadata": {
    "jp-MarkdownHeadingCollapsed": true
   },
   "source": [
    "# SIMPLE CALCULATOR"
   ]
  },
  {
   "cell_type": "code",
   "execution_count": null,
   "id": "be27fabd-a2cb-4ae1-9843-e5aee8f27513",
   "metadata": {},
   "outputs": [],
   "source": [
    "# SIMPLE CALCULATOR\n",
    "\n",
    "num1 = float(input(\"Enter the 1st number: \"))\n",
    "operator = input(\"Enter an operator (+, -, *, /, %): \")\n",
    "num2 = float(input(\"Enter the 2nd number: \"))\n",
    "print()\n",
    "\n",
    "if operator == \"+\":\n",
    "    result = num1 + num2\n",
    "    print(f\"Sum = {result:.2f}\")\n",
    "elif operator == \"-\":\n",
    "    result = num1 - num2\n",
    "    print(f\"Difference = {result:.2f}\")\n",
    "elif operator == \"*\":\n",
    "    result = num1 * num2\n",
    "    print(f\"Product = {result:.2f}\")\n",
    "elif operator == \"/\":\n",
    "    if num2 == 0:\n",
    "        print(\"UNDEFINED\")  \n",
    "    else:\n",
    "        result = num1 / num2\n",
    "        print(f\"Quotient = {result:.2f}\")\n",
    "elif operator == \"%\":\n",
    "    if num2 == 0:\n",
    "        print(\"UNDEFINED\")\n",
    "    else:\n",
    "        result = num1 % num2\n",
    "        print(f\"Remainder = {result:.2f}\")\n",
    "else:\n",
    "    print(f\"Invalid {operator} operator, please try again!\")\n"
   ]
  },
  {
   "cell_type": "markdown",
   "id": "3f3effe9-a2db-4f79-9692-fa688f75e5d8",
   "metadata": {
    "jp-MarkdownHeadingCollapsed": true
   },
   "source": [
    "# Weight Converter"
   ]
  },
  {
   "cell_type": "code",
   "execution_count": null,
   "id": "242e1787-220a-4e42-9bbb-dcd7e4aab006",
   "metadata": {},
   "outputs": [],
   "source": [
    "# Weight Converter\n",
    "\n",
    "# weight = float(input(\"Enter your weight:\"))\n",
    "unit = input(\"Pick a unit you want to convert your weight (kg, lbs):\")\n",
    "\n",
    "if unit == \"kg\" or unit == \"Kg\" or unit == \"KG\":\n",
    "    weight = float(input(\"Enter your weight in lbs(pounds):\"))\n",
    "    result = weight * 0.45359237\n",
    "    print(f\"Your weight in {unit} is = {round(result,3)}\")\n",
    "elif unit == \"lbs\" or unit == \"Lbs\" or unit == \"LBS\":\n",
    "    weight = float(input(\"Enter your weight in kg(kilogram):\"))\n",
    "    result = weight * 2.20462\n",
    "    print(f\"Your weight in {unit} is = {round(result,3)}\")\n",
    "else:\n",
    "    print(f\"This {unit} is INVALID UNIT, PICK ONLY WITHIN THE SCOPE PROVIDED\")\n",
    "\n"
   ]
  },
  {
   "cell_type": "markdown",
   "id": "a8b91568-0581-478b-b25b-d42b29a07425",
   "metadata": {
    "jp-MarkdownHeadingCollapsed": true
   },
   "source": [
    "# Temp Converter (Celcius to Fahrenheit)"
   ]
  },
  {
   "cell_type": "code",
   "execution_count": null,
   "id": "22d482b3-1761-49ae-86e2-b2796c2f12af",
   "metadata": {},
   "outputs": [],
   "source": [
    "unit = input(\"Pick a unit you want to convert your temperature (C or F):\")\n",
    "\n",
    "if unit == \"C\" or unit == \"c\":\n",
    "    temperature = float(input(\"Enter a temperature in fahrenheit(°F):\"))\n",
    "    result = (temperature - 32) * 5/9\n",
    "    print(f\"The temperature in °C (Celsius) is = {round(result,3)}\")\n",
    "elif unit == \"F\" or unit == \"f\":\n",
    "    temperature = float(input(\"Enter a temperature in celcius(°C):\"))\n",
    "    result = temperature * (9/5) + 32\n",
    "    print(f\"The temperature in °F (Fahrenheit) is = {round(result,3)}\") \n",
    "else:\n",
    "     print(f\"This {unit} is INVALID UNIT, PICK ONLY WITHIN THE SCOPE PROVIDED\")"
   ]
  },
  {
   "cell_type": "markdown",
   "id": "4cc5ef91-877d-4006-bde6-9f0f81bd23fe",
   "metadata": {
    "jp-MarkdownHeadingCollapsed": true
   },
   "source": [
    "# Logical Operators"
   ]
  },
  {
   "cell_type": "code",
   "execution_count": null,
   "id": "ada017be-7bcf-46e5-8d60-faa857593258",
   "metadata": {},
   "outputs": [],
   "source": [
    "# Logical Operators = evaluate multiple conditions (or, and, not)\n",
    "#                     or = at least one condition must be true (in c,java,c++ it is ||)\n",
    "#                     and = both two condtion must be true in c,java,c++ it is &&)\n",
    "#                     not = inverted the condition (not false, not tru) if !True = False, if !False = True (in c,java,c++ it is !)\n",
    "\n",
    "\n",
    "temp = float(input(\"Enter a temparature:\"))\n",
    "is_Sunny = False\n",
    "\n",
    "if temp >= 28 and is_Sunny:\n",
    "    print(\"It is HOT outside 🥵\")\n",
    "    print(\"It is SUNNY ☀️\")\n",
    "elif temp <= 0 and is_Sunny:\n",
    "    print(\"It is COLD outside 🥶\")\n",
    "    print(\"It is SUNNY ☀️\")\n",
    "elif 28 > temp > 0 and is_Sunny:\n",
    "    print(\"It is WARM outside 😄\")\n",
    "    print(\"It is SUNNY ☀️\")\n",
    "elif temp >= 28 and not is_Sunny:\n",
    "    print(\"It is HOT outside 🥵\")\n",
    "    print(\"It is CLOUDY ☁️\")\n",
    "elif temp <= 0 and not is_Sunny:\n",
    "    print(\"It is COLD outside 🥶\")\n",
    "    print(\"It is CLOUDY ☁️\")\n",
    "elif 28 > temp > 0 and not is_Sunny:\n",
    "    print(\"It is WARM outside 😄\")\n",
    "    print(\"It is CLOUDY ☁️\")\n",
    "\n"
   ]
  },
  {
   "cell_type": "markdown",
   "id": "97bb8336-ca03-47ba-949e-a63e6061a801",
   "metadata": {
    "jp-MarkdownHeadingCollapsed": true
   },
   "source": [
    "# Conditional expression (SIMILAR TO:(TERNARY OPERATOR))"
   ]
  },
  {
   "cell_type": "code",
   "execution_count": null,
   "id": "02de4cf5-1df6-42ef-8432-a95acadd8382",
   "metadata": {},
   "outputs": [],
   "source": [
    "# conditional expression = A one-line shortcit for the if-else statement. similar to :(ternary operator)\n",
    "#                         Print or assign one of two values based on a condition\n",
    "#                            \n",
    "#                         SYNTAX:\n",
    "#                         X if condition else Y\n",
    "\n",
    "# a = int(input(\"Enter a 1st number:\"))\n",
    "# b = int(input(\"Enter a 2nd number:\"))\n",
    "# age = int(input(\"Enter your age:\"))\n",
    "# temp = float(input(\"Enter a what is temperature today:\"))\n",
    "user_role = input(\"Enter your user role (Admin,Guest):\")\n",
    "\n",
    "# print(\"Positive\" if a > 0 else \"Negative\")\n",
    "# result = \"Even\" if a % 2 == 0 else \"ODD\"\n",
    "# max_num = a if a > b else b\n",
    "# min_num = a if a < b else b\n",
    "# status = \"Adult\" if age >= 18 else \"Child\"\n",
    "# weather = \"HOT\" if temp > 20 else \"COLD\"\n",
    "acess_level = \"Full Acess\" if user_role == \"Admin\" else \"Limited Acess\"\n",
    "print(acess_level)"
   ]
  },
  {
   "cell_type": "markdown",
   "id": "f1ad6208-f4ed-4d25-b524-6266f1a2cc26",
   "metadata": {
    "jp-MarkdownHeadingCollapsed": true
   },
   "source": [
    "# String Methods"
   ]
  },
  {
   "cell_type": "code",
   "execution_count": null,
   "id": "4b8f7b72-54fc-43ed-8898-6ff1ec28b104",
   "metadata": {},
   "outputs": [],
   "source": [
    "# String Methods\n",
    "\n",
    "# name = input(\"Enter your full name:\")\n",
    "# phone_num = input(\"Enter your phone number:\")\n",
    "\n",
    "# length = len(name) # returns the length of the string\n",
    "# find_this = name.find(\" \") # find the character occurrence to first index of it\n",
    "# find_this1 = name.rfind(\"z\") # find the  character occurrence to last index of it\n",
    "# name = name.capitalize() # returns the string in capitalizing the \"first letter only\"\n",
    "# name = name.upper() # returns the string in uppercase\n",
    "# name = name.lower() # returns the string in lowercase\n",
    "# is_digit = name.isdigit() # Return True if the string is a digit string, False otherwise.\n",
    "# is_alpha = name.isalpha() # Return True if the string is an alphabetic string, False otherwise.\n",
    "# result = phone_num.count(\"-\") # returns the number of occurrences of a substring in the given string.\n",
    "# result = phone_num.replace(\" \",\"-\") # returns a copy of the string where all occurrences of a substring is replaced with another substring.\n",
    "\n",
    "#print(help(str())) # this will show all the methods that can be used in string.\n",
    "\n",
    "# print(find_this1)\n"
   ]
  },
  {
   "cell_type": "markdown",
   "id": "bff4188b-d2a4-44cc-a20f-a9b31f998ad3",
   "metadata": {
    "jp-MarkdownHeadingCollapsed": true
   },
   "source": [
    "# validate user input exercise\n",
    "### if username is no more than 12 characters\n",
    "### if username must not contain spaces and;\n",
    "### if username must not contain digits"
   ]
  },
  {
   "cell_type": "code",
   "execution_count": null,
   "id": "b8eecb59-32d6-407f-b8f8-f1d7883b0f36",
   "metadata": {},
   "outputs": [],
   "source": [
    "# validate user input exercise\n",
    "# 1. username is no more than 12 characters\n",
    "# 2. username must not contain spaces\n",
    "# 3. username must not contain digits\n",
    "\n",
    "username = input(\"Enter your username:\")\n",
    "\n",
    "if len(username) > 12:\n",
    "    print(\"Username must not be more than 12 characters\")\n",
    "elif \" \" in username:\n",
    "    print(\"Username must not contain spaces\")\n",
    "elif not username.isalpha():\n",
    "    print(\"Username must not contain digits\")\n",
    "else:\n",
    "    print(f\"Hello {username}! Welcome to Python World!\")"
   ]
  },
  {
   "cell_type": "markdown",
   "id": "c5c9555f-fcd4-433f-95e8-1048cd3c1ed2",
   "metadata": {
    "jp-MarkdownHeadingCollapsed": true
   },
   "source": [
    "# Indexing"
   ]
  },
  {
   "cell_type": "code",
   "execution_count": null,
   "id": "e3c7d208de87cce1",
   "metadata": {},
   "outputs": [],
   "source": [
    "# indexing = accessing elements of a sequence using [] (indexing operator)\n",
    "#            [start : stop : step]\n",
    "\n",
    "credit_num = \"1234-5678-9012-3456\"\n",
    "\n",
    "# first_num = credit_num[0]\n",
    "\n",
    "# print(\"credit_num[0:4] = \" + credit_num[0:4]) # output: 1234\n",
    "# print(\"credit_num[5:9] = \" +credit_num[5:9]) # output: 5678\n",
    "# print(\"credit_num[10:14] = \" +credit_num[10:14]) # output: 9012\n",
    "# print(\"credit_num[15:19] = \"+ + credit_num[15:19]) # output: 3456\n",
    "\n",
    "# print(credit_num[5:]) # output: 5678-9012-3456\n",
    "\n",
    "# negative indexing\n",
    "\n",
    "# print(credit_num[-4]) # output: 3456\n",
    "# print(credit_num[-9:]) # output: 9012-3456\n",
    "\n",
    "# with step\n",
    "\n",
    "# print(credit_num[::2]) # output: 13-6891-46\n",
    "# print(credit_num[::-1]) # output: 6543-2109-8765-4321 #reversed the string\n",
    "\n",
    "\n"
   ]
  },
  {
   "cell_type": "markdown",
   "id": "e3f552c8-b8d0-4e7a-b498-8ce28e98194b",
   "metadata": {
    "jp-MarkdownHeadingCollapsed": true
   },
   "source": [
    "# Format Specifiers "
   ]
  },
  {
   "cell_type": "code",
   "execution_count": null,
   "id": "57539a6f214db7f5",
   "metadata": {},
   "outputs": [],
   "source": [
    "# format specifiers = {value:flags} format a value based on what flags are inserted\n",
    "#                     flags are inserted\n",
    "\n",
    "# :.(number)f = round to that many decimal places (fixed-point) ex: {:.2f}\n",
    "# :(number) = allocate that many spaces (right-aligned) ex: {:10}\n",
    "# :03 - allocate and zero pad that many spaces (right-aligned) ex: {:03}\n",
    "# :< = left justify\n",
    "# :> = right justify\n",
    "# :^ = center justify\n",
    "# :+ = use a plus sign to indicate positive value\n",
    "# :_ = use an underscore as a thousand separator\n",
    "# := = place sign to leftmost position\n",
    "# :e = scientific notation\n",
    "# :g = general format\n",
    "# :  = insert a space before positive numbers\n",
    "# :, = comma separator\n",
    "# :b = binary format\n",
    "# :o = octal format\n",
    "# :x = hexadecimal format\n",
    "# :n = number format\n",
    "# :% = percentage format\n",
    "# :s = string format\n",
    "# :c = character format\n",
    "# :r = repr format\n",
    "# :a = ascii format\n",
    "# :f = float format\n",
    "# :d = decimal format\n",
    "# :e = exponential format\n",
    "\n",
    "price1 = 3.14159\n",
    "price2 = -987.65\n",
    "price3 = 12.34\n",
    "price4 = 12345.4321\n",
    "\n",
    "# print(f\"Price 1: P{price1:.3f}\") # output: Price 1: P3.142\n",
    "# print(f\"Price 2: P{price2:.3f}\") # output: Price 2: P-987.650\n",
    "# print(f\"Price 3: P{price3:.3f}\") # output: Price 3: P12.340\n",
    "\n",
    "print(f\"Price 1: P{price1:,.2f}\")\n",
    "print(f\"Price 2: P{price2:,.2f}\")\n",
    "print(f\"Price 3: P{price3:,.2f}\")\n",
    "print(f\"Price 4: P{price4:,.2f}\")"
   ]
  },
  {
   "cell_type": "markdown",
   "id": "0e65b2ce-9927-4862-bc95-bf2b3d7e45ec",
   "metadata": {
    "jp-MarkdownHeadingCollapsed": true
   },
   "source": [
    "# While Loop"
   ]
  },
  {
   "cell_type": "code",
   "execution_count": null,
   "id": "9c4296b75c1b6fc6",
   "metadata": {},
   "outputs": [],
   "source": [
    "# while loop = A statement that will execute a block of code as long as / WHILE the condition is true\n",
    "\n",
    "# name = input(\"Enter your name:\")\n",
    "#\n",
    "# while name == \"\":\n",
    "#     print(\"You forgot to enter your name\")\n",
    "#     name = input(\"Enter your name:\")\n",
    "#\n",
    "# print(f\"Hello {name}!\")\n",
    "\n",
    "# age = int(input(\"Enter your age:\"))\n",
    "#\n",
    "# while age < 0:\n",
    "#     print(\"Age can't be negative\")\n",
    "#     age = int(input(\"Enter your age:\"))\n",
    "#\n",
    "# print(f\"You are {age} years old\")\n",
    "\n",
    "#\n",
    "# food = input(\"Enter your favorite food (press q to quit):\")\n",
    "#\n",
    "# while food != \"q\":\n",
    "#     print(f\"I like {food}\")\n",
    "#     food = input(\"Enter another favorite food you like (press q to quit):\")\n",
    "#\n",
    "# print(\"Goodbye!\")\n",
    "\n",
    "number = int(input(\"Enter a number between 1 to 10 only:\"))\n",
    "\n",
    "while number < 1 or number > 10:\n",
    "    print(f\"Invalid {number}, please try again!\")\n",
    "    number = int(input(\"Enter a number between 1 to 10 only:\"))\n",
    "\n",
    "print(f\"Great! {number} is a valid number\")\n",
    "\n",
    "\n",
    "\n"
   ]
  },
  {
   "cell_type": "markdown",
   "id": "c827a5fd-3298-4ec7-af8c-e15c59fbe95e",
   "metadata": {
    "jp-MarkdownHeadingCollapsed": true
   },
   "source": [
    "# BMI CALCULATOR (lbs(weight) and inches(height)) and (kg(weight) and meters(height))"
   ]
  },
  {
   "cell_type": "code",
   "execution_count": null,
   "id": "daf25a58dfaee130",
   "metadata": {},
   "outputs": [],
   "source": [
    "# in lbs(weight) and inches(height)\n",
    "\n",
    "\n",
    "# weight = float(input(\"Enter your WEIGHT (in lbs):\"))\n",
    "# height = float(input(\"Enter your HEIGHT (in inches):\"))\n",
    "\n",
    "# BMI = (weight / (height * height)) * 703\n",
    "\n",
    "# print(f\"Your BMI is {BMI:.2f}\")\n",
    "\n",
    "# in kg(weight) and meter (height)\n",
    "\n",
    "weight = float(input(\"Enter your WEIGHT (in kg):\"))\n",
    "height = float(input(\"Enter your HEIGHT (in meter):\"))\n",
    "\n",
    "BMI = (weight / (height ** 2))\n",
    "\n",
    "print(f\"Your BMI is {BMI:.2f}\")\n"
   ]
  },
  {
   "cell_type": "markdown",
   "id": "0bb07c7f-f383-4dbb-bdee-866c42f1c6b2",
   "metadata": {
    "jp-MarkdownHeadingCollapsed": true
   },
   "source": [
    "# Compound Interest Calculator"
   ]
  },
  {
   "cell_type": "code",
   "execution_count": null,
   "id": "9cc73ab7c5c2910f",
   "metadata": {},
   "outputs": [],
   "source": [
    "import math\n",
    "\n",
    "# Compound Interest Calculator\n",
    "\n",
    "principal = 0\n",
    "interest_rate = 0\n",
    "time = 0\n",
    "\n",
    "while True:\n",
    "    principal = float(input(\"Enter the principal balance:\"))\n",
    "    print()\n",
    "    if principal < 0:\n",
    "        print(\"Initial principal balance can't be less than to 0, Please Enter the right VALUE Again!\" + \"\\n\")\n",
    "    else:\n",
    "        break\n",
    "\n",
    "while True:\n",
    "    interest_rate = float(input(\"Enter the interest rate:\"))\n",
    "    print()\n",
    "    if interest_rate < 0:\n",
    "        print(\"Interest rate can't be less than to 0, Please Enter the right VALUE Again!\" + \"\\n\")\n",
    "    else:\n",
    "        break\n",
    "\n",
    "while True:\n",
    "    time = int(input(\"Enter the time periods elapsed (in years):\"))\n",
    "    print()\n",
    "    if time < 0:\n",
    "        print(\"Time (in years) can't be less than to 0, Please Enter the right VALUE Again!\" + \"\\n\")\n",
    "    else:\n",
    "        break\n",
    "        \n",
    "# pow(base,exponent)\n",
    "\n",
    "total_amount = principal*pow((1 + interest_rate/100),time)\n",
    "\n",
    "print(f\"Balance after {time} year/s: P{total_amount:.2f}\")\n",
    "\n",
    "\n",
    "\n",
    "\n",
    "\n",
    "\n"
   ]
  },
  {
   "cell_type": "markdown",
   "id": "32c81b4c-9160-40ac-848c-3efede0826cf",
   "metadata": {
    "jp-MarkdownHeadingCollapsed": true
   },
   "source": [
    "# For loop"
   ]
  },
  {
   "cell_type": "code",
   "execution_count": null,
   "id": "482b625b-ef70-4cc9-85cc-05ce4568a3df",
   "metadata": {
    "scrolled": true
   },
   "outputs": [],
   "source": [
    "\n",
    "# For loop = execute a block of code a fixed number of times.\n",
    "#            You can iterate over a range, string sequence, etc.\n",
    "# reserve words: continue = this will skip the iteration, break = this will exit to the loop\n",
    "\n",
    "# Syntax:      for i(any identifier) in range(start?(this is inclusive),until?(this is exclusive),increment by?):\n",
    "\n",
    "# ex:          for i in range(1,11,1):  # this will count 1 to 10 and increment by 1(default)\n",
    "# another ex:  for i in range(1,15,3):  # this will count 1 to 14 (since 15 is exclusive) and increment each iteration(pass) by 3 \n",
    "# anotherL    for i in reversed(range(1,11)) # this will count 10 to 1 since it is in reversed and increment by 1(default)\n",
    "\n",
    "# for i in range(1,15,3):\n",
    "#     print(f\"{i}\", end = \" \")\n",
    "\n",
    "# for i in reversed(range(1,11)):\n",
    "#     print(i)\n",
    "\n",
    "# for i in range(2,10,2):\n",
    "#     print(i, end = \",\")\n",
    "\n",
    "# credit_card_number = \"1234-5678-9012-3456\"\n",
    "\n",
    "# for i in credit_card_number:\n",
    "#     print(i, end=\"\")\n",
    "#     if i == credit_card_number[3]:\n",
    "#         break\n",
    "\n",
    "# for i in range (1,20+1):\n",
    "#     if i == 13:\n",
    "#         continue;\n",
    "#     print(i,end=\",\")\n",
    "\n",
    "\n",
    "\n",
    "    "
   ]
  },
  {
   "cell_type": "markdown",
   "id": "91db7ce3-84e5-4445-9c87-caef89f9ea02",
   "metadata": {
    "jp-MarkdownHeadingCollapsed": true
   },
   "source": [
    "# Countdown timer program"
   ]
  },
  {
   "cell_type": "code",
   "execution_count": null,
   "id": "2ca9a5c8-a05b-4486-bce3-388934098052",
   "metadata": {},
   "outputs": [],
   "source": [
    "import time\n",
    "\n",
    "countdown = int(input(\"How many seconds you want to count down? \"))\n",
    "\n",
    "for i in range(countdown,0,-1):\n",
    "    seconds = i % 60 \n",
    "    minutes = int(i / 60) % 60  #remove %60 if you want to have minutes, hours only\n",
    "    hours = int(i / 3600) % 24  #remove %24 if you want to have hours, minutes, seconds only\n",
    "    days = int(i / 86400) % 365 #remove %365 if you want to have days, hours, minutes, seconds only\n",
    "    years = int(i / 31536000)   #remove this line if you want to have days, hours, minutes, seconds only\n",
    "    print(f\"{years:02d}:{days:03d}:{hours:02d}:{minutes:02d}:{seconds:02d}\")\n",
    "    time.sleep(1)\n",
    "else:\n",
    "    print(\"GOOD MORNINGGGG!!\")"
   ]
  },
  {
   "cell_type": "markdown",
   "id": "cffc2906-5553-4e0e-86c5-641165666243",
   "metadata": {
    "jp-MarkdownHeadingCollapsed": true
   },
   "source": [
    "# nested loop (loop inside a loop)"
   ]
  },
  {
   "cell_type": "code",
   "execution_count": null,
   "id": "791b4f5a-d362-480d-9904-eb767d35662c",
   "metadata": {},
   "outputs": [],
   "source": [
    "# nested loop = loop within another loop (outer,inner)\n",
    "#               outer loop:\n",
    "#                   inner loop:\n",
    "\n",
    "rows = int(input(\"How many rows you want to have?:\"))\n",
    "columns = int(input(\"How many columns you want to have?:\"))\n",
    "symbol = input(\"What symbol you want to put?:\")\n",
    "print()\n",
    "\n",
    "for i in range(rows):\n",
    "    for j in range (columns):\n",
    "        print(symbol,end=\" \")\n",
    "    print()\n",
    "\n"
   ]
  },
  {
   "cell_type": "markdown",
   "id": "854ed565-14e1-49cb-97ed-72be38b8cbc6",
   "metadata": {
    "jp-MarkdownHeadingCollapsed": true
   },
   "source": [
    "# Collections (list,tuples,set) it also includes (dictionaries)"
   ]
  },
  {
   "cell_type": "code",
   "execution_count": null,
   "id": "f335b6db-ccf8-4b37-b22d-ffa471badbc5",
   "metadata": {},
   "outputs": [],
   "source": [
    "# collections = single \"variable\" used to store multiple values\n",
    "\n",
    "# list  = [] ordered and changeable. Duplicates OK\n",
    "# set   = {} unordered and immutable (can't alter or can't change) and INDEXIN CAN'T BE USED, but Add/Remove OK. No duplicates\n",
    "# tuple = () ordered and unchangeable. Duplicates OK. Faster\n",
    "\n",
    "# Separatrix is , (comma)\n",
    "\n",
    "# List\n",
    "\n",
    "# fruits = [\"Apple\", \"Orange\", \"Banana\", \"Grapes\", \"Mango\"]\n",
    "# # print(fruit[0::2])\n",
    "\n",
    "# # print(dir(fruits))\n",
    "# # print(help(fruits))\n",
    "# # print(len(fruits))\n",
    "# # print(\"pineapple\" in fruits)\n",
    "\n",
    "# # fruits.append(\"pineapple\")\n",
    "# # fruits.remove(\"Apple\")\n",
    "# # fruits.insert(2,\"Pineapple\n",
    "# # fruits.sort()\n",
    "# # fruits.reverse()\n",
    "# # fruits.clear()\n",
    "# # fruits.pop()\n",
    "# # print(fruits.index(\"Banana\"))\n",
    "# # print(fruits.count(\"Banana\"))\n",
    "# print(fruits)\n",
    "\n",
    "# for i in fruits:\n",
    "#     print(i, end=\", \")\n",
    "\n",
    "\n",
    "# Set\n",
    "\n",
    "# numbers = {1,2,3,4,5,6,7,1,2,3}\n",
    "# print(dir(numbers))\n",
    "# print(help(numbers))\n",
    "# print(len(numbers))\n",
    "# print(3 in numbers)\n",
    "\n",
    "# numbers.add(8)\n",
    "# numbers.remove(5)\n",
    "# numbers.pop()\n",
    "# numbers.clear()\n",
    "# print(numbers)\n",
    "\n",
    "# for i in numbers:\n",
    "#     print(i, end=\", \")\n",
    "\n",
    "# Tuples\n",
    "\n",
    "# vegetables = (\"carrot\", \"potato\", \"onion\", \"tomato\", \"cucumber\", \"lettuce\", \"pepper\", \"broccoli\")\n",
    "\n",
    "# print(dir(vegetables))\n",
    "# print(help(vegetables))\n",
    "# print(len(vegetables))\n",
    "# print(\"potato\" in vegetables)\n",
    "\n",
    "# print(vegetables.index(\"tomato\"))\n",
    "# print(vegetables.count(\"tomato\"))\n",
    "\n",
    "# print(vegetables)\n",
    "\n",
    "# for i in vegetables:\n",
    "#     print(i, end=\", \")\n",
    "\n"
   ]
  },
  {
   "cell_type": "markdown",
   "id": "8b7fbc71-c9c8-44e4-92dc-cea7d5c3be53",
   "metadata": {
    "jp-MarkdownHeadingCollapsed": true
   },
   "source": [
    "# Shopping cart Program"
   ]
  },
  {
   "cell_type": "code",
   "execution_count": null,
   "id": "26139fcf-9db0-4649-bfbf-1f8b2ae24fab",
   "metadata": {
    "ExecuteTime": {
     "end_time": "2025-03-08T16:05:16.487823Z",
     "start_time": "2025-03-08T16:05:11.174428Z"
    }
   },
   "outputs": [],
   "source": [
    "# Shopping cart Program\n",
    "\n",
    "foods = []\n",
    "price = []\n",
    "total = 0\n",
    "\n",
    "while True:\n",
    "    food = input(\"Enter the food you want to buy (press q to quit):\")\n",
    "    if food.lower() == \"q\":\n",
    "        break\n",
    "    else:\n",
    "        prices = float(input(f\"Enter the price of {food}:\"))\n",
    "        foods.append(food)\n",
    "        price.append(prices)\n",
    "        total +=prices\n",
    "\n",
    "\n",
    "print(\"----- Your Shopping Cart -----\")\n",
    "print()\n",
    "for i in range(len(foods)):\n",
    "    print(f\"{foods[i]} = P{price[i]:.2f}\")\n",
    "\n",
    "print(\"------------------------------\")\n",
    "print(f\"Total = P{total:.2f}\")\n"
   ]
  },
  {
   "cell_type": "markdown",
   "id": "5eaa0bfa-10b3-4d81-aee7-874c591114e7",
   "metadata": {
    "jp-MarkdownHeadingCollapsed": true
   },
   "source": [
    "# # 2d list (list inside a list)"
   ]
  },
  {
   "cell_type": "code",
   "execution_count": null,
   "id": "82771279f741e398",
   "metadata": {
    "ExecuteTime": {
     "end_time": "2025-03-08T16:48:32.517727Z",
     "start_time": "2025-03-08T16:48:32.513150Z"
    }
   },
   "outputs": [],
   "source": [
    "# 2d list (list inside a list)\n",
    "\n",
    "# can create list of tuples\n",
    "# can create 2d tuples (a tuple inside a tuple)\n",
    "# can create tuples made of sets\n",
    "# can create 2d sets\n",
    "\n",
    "\n",
    "# groceries = [[\"Apple\", \"Banana\", \"Grapes\", \"Mango\"],\n",
    "#              [\"Celery\", \"Carrot\", \"Onion\", \"Potato\"],\n",
    "#              [\"Chicken\", \"Beef\", \"Pork\", \"Fish\"]]\n",
    "\n",
    "# for i in range(len(groceries)):\n",
    "#     for j in range(len(groceries[i])):\n",
    "#         print(groceries[i][j], end=\", \")\n",
    "#     print()\n",
    "\n",
    "# or\n",
    "\n",
    "# for i in groceries:\n",
    "#     for j in i:\n",
    "#         print(j, end=\", \")\n",
    "#     print()\n",
    "\n",
    "\n",
    "buttons = [[1,2,3],\n",
    "           [4,5,6],\n",
    "           [7,8,9],\n",
    "           [\"*\",0,\"#\"]]\n",
    "\n",
    "for i in buttons:\n",
    "    for j in i:\n",
    "        print(j,end=\"   \")\n",
    "    print()\n",
    "\n",
    "# or\n",
    "\n",
    "# for i in range (len(buttons)):\n",
    "#     for j in range(len(buttons[i])):\n",
    "#         print(buttons[i][j], end=\"\\t\")\n",
    "#     print()\n",
    "\n"
   ]
  },
  {
   "cell_type": "markdown",
   "id": "87813752-6b83-46e0-ac19-7a7356f91219",
   "metadata": {
    "jp-MarkdownHeadingCollapsed": true
   },
   "source": [
    "# Quiz Game (2d tuples)"
   ]
  },
  {
   "cell_type": "code",
   "execution_count": null,
   "id": "34e4c067-6856-4355-bdfa-187fcbd3aaeb",
   "metadata": {},
   "outputs": [],
   "source": [
    "# Quiz Game\n",
    "\n",
    "questions = (\"1. What is a variable in programming?\", \n",
    "             \"2. What does an if-else statement do?\", \n",
    "             \"3. Which symbol is used for single-line comments in Python?\", \n",
    "             \"4. What is the output of print(2 + 3 * 4) in Python?\", \n",
    "             \"5. What is the correct way to define a function in Python?\", \n",
    "             \"6. Which of these is a valid variable name in Python?\", \n",
    "             \"7. What does a loop do in programming?\", \n",
    "             \"8. What is the correct syntax to print \\\"Hello, World!\\\" in Python?\", \n",
    "             \"9. What will x = 5 / 2 return in Python?\", \n",
    "             \"10. Which of the following is NOT a programming language?\")\n",
    "\n",
    "answers = ((\"A. A fixed value\", \"B. A storage location for data\", \"C. A function\", \"D. A type of loop\"),\n",
    "           (\"A. Loops forever\", \"B. Runs different code based on a condition\", \"C. Defines a variable\", \"D. Prints text to the screen\"),\n",
    "           (\"A. //\", \"B. #\", \"C. <!-- -->\", \"D. /* */\"),\n",
    "           (\"A. 20\", \"B. 14\", \"C. 24\", \"D. 18\"),\n",
    "           (\"A. function myFunction():\", \"B. def myFunction():\", \"C. void myFunction():\", \"D. define myFunction():\"),\n",
    "           (\"A. 1var\", \"B. my-var\", \"C. my_var\", \"D. class\"),\n",
    "           (\"A. Stops the program\", \"B. Runs a block of code multiple times\", \"C. Deletes files\", \"D. Prints errors\"),\n",
    "           (\"A. print(\\\"Hello, World!\\\")\", \"B. echo \\\"Hello, World!\\\"\", \"C. printf(\\\"Hello, World!\\\")\", \"D. cout << \\\"Hello, World!\\\";\"),\n",
    "           (\"A. 2\", \"B. 2.5\", \"C. 2.0\", \"D. 5\"),\n",
    "           (\"A. Python\", \"B. Java\", \"C. HTML\", \"D. C++\"))\n",
    "\n",
    "correct_answers = (\"B\", \"B\", \"B\", \"B\", \"B\", \"C\", \"B\", \"A\", \"B\", \"C\")\n",
    "\n",
    "guesses = []\n",
    "score = 0\n",
    "question_num = 0\n",
    "\n",
    "for i in range(len(questions)):\n",
    "    print(\"----------------------------------------------------------------------------------------------------------------\")\n",
    "    print(questions[i])\n",
    "    print()\n",
    "    \n",
    "    for option in answers[i]:\n",
    "        print(option)\n",
    "    print()\n",
    "    \n",
    "    guess = input(\"Enter a choice (A, B, C, D): \").upper()\n",
    "    guesses.append(guess)\n",
    "    \n",
    "    if guess == correct_answers[i]:\n",
    "        score += 1\n",
    "        print(\"\\nCORRECT!! 🎉\")\n",
    "    else:\n",
    "        print(\"\\nINCORRECT!! ❌\")\n",
    "        print(f\"The correct answer is: {correct_answers[i]}\")\n",
    "    \n",
    "    question_num += 1\n",
    "\n",
    "print()\n",
    "print(\"----------------------------------------------------------------------------------------------------------------\")\n",
    "print(\"                                                     RESULT                                                     \")\n",
    "print(\"----------------------------------------------------------------------------------------------------------------\")\n",
    "print()\n",
    "\n",
    "print(\"Guesses: \", end=\" \")\n",
    "for guess in guesses:\n",
    "    print(guess, end=\", \")\n",
    "print()\n",
    "\n",
    "print(\"Correct answers: \", end=\" \")\n",
    "for correctAns in correct_answers:\n",
    "    print(correctAns, end=\", \")\n",
    "print()\n",
    "\n",
    "print()\n",
    "print(f\"Your final score is {score} out of {len(questions)}\")\n",
    "score = int(score / len(questions) * 100)\n",
    "print(f\"In percentage is {score}\")\n"
   ]
  },
  {
   "cell_type": "markdown",
   "id": "092a5d29-2394-4043-8841-249958307559",
   "metadata": {
    "jp-MarkdownHeadingCollapsed": true
   },
   "source": [
    "# Dictionaries"
   ]
  },
  {
   "cell_type": "code",
   "execution_count": null,
   "id": "c5f15081-95e9-4d29-b08a-f263df9c5694",
   "metadata": {},
   "outputs": [],
   "source": [
    "# Dictionaries  = a collection of {key:value} pairs\n",
    "#                 ordered and changeable. No duplicates\n",
    "\n",
    "# this is like hashmaps\n",
    "\n",
    "\n",
    "\n",
    "# capitals = {\"USA\":\"WASHINGTON D.C.\",\n",
    "#             \"INDIA\":\"NEW DELHI\",\n",
    "#             \"CHINA\":\"BEIJING\",\n",
    "#             \"RUSSIA\":\"MOSCOW\"}\n",
    "\n",
    "\n",
    "# dir(capitals)\n",
    "# print(help(capitals))\n",
    "\n",
    "\n",
    "# print(capitals.get(\"USA\"))\n",
    "# print(capitals.get(\"INDIA\"))\n",
    "# print(capitals.get(\"CHINA\"))\n",
    "# print(capitals.get(\"RUSSIA\"))\n",
    "\n",
    "# if capitals.get(\"JAPAN\"):\n",
    "#     print(\"That capital exist\")\n",
    "# else:\n",
    "#     print(\"That capital does not exist\")\n",
    "\n",
    "# capitals.update({\"Germany\":\"Berlin\"})\n",
    "# capitals.update({\"PHILLPINES\":\"MANILA\"})\n",
    "# capitals.update({\"CHINA\":\"COVID\"})\n",
    "# capitals.pop(\"CHINA\")\n",
    "# capitals.popitem()\n",
    "# capitals.clear()\n",
    "# keys=capitals.keys()\n",
    "\n",
    "\n",
    "# for i in capitals.keys():\n",
    "#     print(i)\n",
    "\n",
    "# values = capitals.values()\n",
    "# for j in capitals.values():\n",
    "#     print(j)\n",
    "\n",
    "\n",
    "# for keys,value in capitals.items():\n",
    "#     print(f\"{keys} : {value}\")\n",
    "\n"
   ]
  },
  {
   "cell_type": "markdown",
   "id": "acb520b8-17b9-4e8c-8bf6-506f5489e4cc",
   "metadata": {
    "jp-MarkdownHeadingCollapsed": true
   },
   "source": [
    "# Concession Program"
   ]
  },
  {
   "cell_type": "code",
   "execution_count": null,
   "id": "2f603264-9977-43a0-a23b-299b65fd223b",
   "metadata": {},
   "outputs": [],
   "source": [
    "# Concession Program\n",
    "\n",
    "menu = {\"pop corn\": 300,\n",
    "        \"nachos\": 350,\n",
    "        \"fries\": 180,\n",
    "        \"chips\": 120,\n",
    "        \"soda\": 80,\n",
    "        \"lemonade\": 130,\n",
    "        \"pizza\" : 450\n",
    "       }\n",
    "\n",
    "cart = []\n",
    "total = 0\n",
    "\n",
    "print(\"======================\")\n",
    "print(\"         MENU         \")\n",
    "print(\"======================\")\n",
    "for key,value in menu.items():\n",
    "    print(f\"{key:10}:  P{value:.2f}\")\n",
    "print(\"======================\")\n",
    "\n",
    "while True:\n",
    "    food = input(\"Select an item (press \\\"q\\\" to quit):\").lower()\n",
    "    if food == \"q\":\n",
    "        break\n",
    "    elif menu.get(food) is not None:\n",
    "        cart.append(food)\n",
    "    else:\n",
    "        print(\"That is not in the selection\")\n",
    "        print()\n",
    "\n",
    "print()\n",
    "print(\"======================\")\n",
    "print(\"   YOUR TOTAL ORDER   \")\n",
    "print(\"======================\")\n",
    "\n",
    "for food in cart:\n",
    "    total = total + menu.get(food)\n",
    "    print(food, end=\" \")\n",
    "\n",
    "print()\n",
    "print(f\"Total is: P{total:,.2f}\")\n",
    "print(\"======================\")\n"
   ]
  },
  {
   "cell_type": "markdown",
   "id": "b1715f2b-8d4a-49f6-9b58-b656432fc588",
   "metadata": {
    "jp-MarkdownHeadingCollapsed": true
   },
   "source": [
    "# Random"
   ]
  },
  {
   "cell_type": "code",
   "execution_count": null,
   "id": "a897ac19-37f5-4bdf-bfa2-9cc3e86cb3b6",
   "metadata": {},
   "outputs": [],
   "source": [
    "# Random Numbers\n",
    "\n",
    "import random\n",
    "\n",
    "\n",
    "low = 1\n",
    "high = 100\n",
    "option = (\"rock\",\"paper\",\"scissors\")\n",
    "cards = [\"2\",\"3\",\"4\",\"5\",\"6\",\"7\",\"8\",\"9\",\"10\",\"J\",\"Q\",\"K\",\"A\"]\n",
    "\n",
    "# num = random.randint(low,high)\n",
    "# num1 = random.random()\n",
    "# choices = random.choice(option)\n",
    "# random.shuffle(cards)\n",
    "\n",
    "print(cards)"
   ]
  },
  {
   "cell_type": "markdown",
   "id": "d2585c0b-244e-4960-9ced-69bd107be019",
   "metadata": {
    "jp-MarkdownHeadingCollapsed": true
   },
   "source": [
    "# PYTHON GUESSING GAME"
   ]
  },
  {
   "cell_type": "code",
   "execution_count": null,
   "id": "1ed4c05f-bf9f-4899-ade9-fde58aec5d9d",
   "metadata": {},
   "outputs": [],
   "source": [
    "## print(\"--------------------------\")\n",
    "print(\"   PYTHON GUESSING GAME   \")\n",
    "print(\"--------------------------\")\n",
    "print(\"Select Number Between 1 and 100\")\n",
    "print()\n",
    "\n",
    "low = 1\n",
    "high = 100\n",
    "number_Guesses = 0\n",
    "\n",
    "\n",
    "num = random.randint(low,high)\n",
    "\n",
    "while True:\n",
    "    guess = input(\"Enter your Guess:\")\n",
    "    \n",
    "    if guess.isdigit():\n",
    "        guess = int(guess)\n",
    "    elif guess.isalpha() or not(guess.isdigit()):\n",
    "        print(\"Guess can't be a letter with numbers\")\n",
    "        print(f\"Please select a number between {low} and {high} only\")\n",
    "        print()\n",
    "        continue\n",
    "        \n",
    "    if guess < num and guess >= low:\n",
    "        print(\"Too Low\")\n",
    "        number_Guesses +=1\n",
    "        print()\n",
    "    elif guess > num and guess <= high:\n",
    "        print(\"Too High\")\n",
    "        number_Guesses +=1\n",
    "        print()\n",
    "    elif guess == num:\n",
    "        print()\n",
    "        print(\"CORRECT!!\")\n",
    "        print(f\"The number was {num}\")\n",
    "        number_Guesses +=1\n",
    "        print(f\"Number of guesses: {number_Guesses}\")\n",
    "        break\n",
    "    else:\n",
    "        print(f\"{guess} is out of range\")\n",
    "        print(f\"Please select a number between {low} and {high} only\")\n",
    "        number_Guesses +=1\n",
    "        print()\n",
    "        \n"
   ]
  },
  {
   "cell_type": "markdown",
   "id": "c0a2142f-600c-4d74-8a8e-b77389f6045b",
   "metadata": {
    "jp-MarkdownHeadingCollapsed": true
   },
   "source": [
    "# ROCK PAPER SCISSORS"
   ]
  },
  {
   "cell_type": "code",
   "execution_count": null,
   "id": "317ab3bb-df10-46bb-ac82-5127d04ec968",
   "metadata": {},
   "outputs": [],
   "source": [
    "import random\n",
    "\n",
    "choices = (\"rock\", \"paper\", \"scissors\")\n",
    "\n",
    "\n",
    "play_again = True\n",
    "\n",
    "while play_again:\n",
    "    player = None\n",
    "    computer = random.choice(choices)\n",
    "    while player not in choices:\n",
    "        player = input(\"Enter a choice(rock,paper,scissors):\").lower()\n",
    "        print()\n",
    "        \n",
    "        if player not in choices:\n",
    "            print(f\"Player choice \\\"{player}\\\" is not valid! Enter a choice(rock,paper,scissors) only!\")\n",
    "            print()\n",
    "            continue\n",
    "        \n",
    "    if player == computer:\n",
    "        print(f\"Player: {player}\")\n",
    "        print(f\"Computer: {computer}\")\n",
    "        print(\"IT'S A TIE!!\")\n",
    "        print()\n",
    "    elif player == \"rock\" and computer == \"scissors\":\n",
    "        print(f\"Player: {player}\")\n",
    "        print(f\"Computer: {computer}\")\n",
    "        print(\"You win\")\n",
    "        print()\n",
    "    elif player == \"paper\" and computer == \"rock\":\n",
    "        print(f\"Player: {player}\")\n",
    "        print(f\"Computer: {computer}\")\n",
    "        print(\"You win\")\n",
    "        print()\n",
    "    elif player == \"scissors\" and computer == \"paper\":\n",
    "        print(f\"Player: {player}\")\n",
    "        print(f\"Computer: {computer}\")\n",
    "        print(\"You win\")\n",
    "        print()\n",
    "    else:\n",
    "        print(f\"Player: {player}\")\n",
    "        print(f\"Computer: {computer}\")\n",
    "        print(\"YOU LOST\")\n",
    "        print()\n",
    "\n",
    "    ans = None\n",
    "    while ans != \"Y\" and ans != \"N\":\n",
    "        ans = input(\"Want to Play Again? (Y or N):\").upper()\n",
    "        print()\n",
    "        \n",
    "        if ans == \"Y\":\n",
    "            play_again = True\n",
    "        elif ans == \"N\":\n",
    "            play_again = False\n",
    "        else:\n",
    "            print(f\"{ans} is not valid. Try again!\")\n",
    "            print()\n",
    "    \n",
    "print(\"END OF PROGRAM\")\n"
   ]
  },
  {
   "cell_type": "markdown",
   "id": "e299e8b4-01fd-4095-98bc-d719c515326c",
   "metadata": {
    "jp-MarkdownHeadingCollapsed": true
   },
   "source": [
    "# DICE ROLLER"
   ]
  },
  {
   "cell_type": "code",
   "execution_count": null,
   "id": "cbb1ed4f-bf66-460f-a05b-48a4aef5f9f0",
   "metadata": {},
   "outputs": [],
   "source": [
    "import random\n",
    "\n",
    "dice_art ={\n",
    "    1: (\"┌─────────┐\", \n",
    "        \"│         │\", \n",
    "        \"│    ●    │\", \n",
    "        \"│         │\",\n",
    "        \"└─────────┘\"),\n",
    "    \n",
    "    2: (\"┌─────────┐\", \n",
    "        \"│  ●      │\", \n",
    "        \"│         │\", \n",
    "        \"│      ●  │\",\n",
    "        \"└─────────┘\"),\n",
    "\n",
    "    3: (\"┌─────────┐\", \n",
    "        \"│  ●      │\", \n",
    "        \"│    ●    │\", \n",
    "        \"│      ●  │\",\n",
    "        \"└─────────┘\"),\n",
    "\n",
    "    4: (\"┌─────────┐\", \n",
    "        \"│  ●   ●  │\", \n",
    "        \"│         │\", \n",
    "        \"│  ●   ●  │\",\n",
    "        \"└─────────┘\"),\n",
    "\n",
    "    5: (\"┌─────────┐\", \n",
    "        \"│  ●   ●  │\", \n",
    "        \"│    ●    │\", \n",
    "        \"│  ●   ●  │\",\n",
    "        \"└─────────┘\"),\n",
    "\n",
    "    6: (\"┌─────────┐\", \n",
    "        \"│  ●   ●  │\", \n",
    "        \"│  ●   ●  │\", \n",
    "        \"│  ●   ●  │\",\n",
    "        \"└─────────┘\")\n",
    "}\n",
    "\n",
    "dice = []\n",
    "total = 0\n",
    "num_of_dice = int(input(\"How many dice?:\"))\n",
    "\n",
    "for i in range (num_of_dice):\n",
    "    dice.append(random.randint(1, 6))\n",
    "\n",
    "\n",
    "# for die in range(num_of_dice):\n",
    "#     for line in dice_art.get(dice[die]):\n",
    "#         print(line)\n",
    "\n",
    "for line in range(5):\n",
    "    for die in dice:\n",
    "        print(dice_art.get(die)[line], end=\"\")\n",
    "    print()\n",
    "\n",
    "for j in dice:\n",
    "    total += j\n",
    "\n",
    "print(f\"Total:{total}\")\n"
   ]
  },
  {
   "cell_type": "markdown",
   "id": "5ca4a7e3-63d9-44ed-a036-3c5b96966f9a",
   "metadata": {
    "jp-MarkdownHeadingCollapsed": true
   },
   "source": [
    "# Functions (def) (using positional arguments only)"
   ]
  },
  {
   "cell_type": "code",
   "execution_count": null,
   "id": "2c226d4c-6663-498c-a9a6-6351c4e9800a",
   "metadata": {},
   "outputs": [],
   "source": [
    "# Def/ function = A block of reusable code \n",
    "#                 place () after the function name to invoke/call it\n",
    "\n",
    "\n",
    "# return = statement used to end a function \n",
    "#          and send a result back to the caller\n",
    "\n",
    "\n",
    "\n",
    "\n",
    "# def funcSquared(squared):\n",
    "#     return squared * squared\n",
    "\n",
    "\n",
    "\n",
    "# squared = int(input(\"Enter a number to be squared:\"))\n",
    "\n",
    "# print(f\"Squared = {funcSquared(squared)}\")\n",
    "\n",
    "\n",
    "\n",
    "# def display_invoice(username,amount,due_date):\n",
    "#     print(f\"Hello {username}\")\n",
    "#     print(f\"Your bill of P{amount:,.2f} is due: {due_date}\")\n",
    "\n",
    "    \n",
    "# # display_invoice(\"neilwayne14\",2000,\"March 15, 2025\")\n",
    "    \n",
    "\n",
    "\n",
    "def create_name(firstN,lastN):\n",
    "    return firstN.capitalize() + \" \" + lastN.capitalize()\n",
    "\n",
    "\n",
    "firstN = input(\"Enter your first name:\")\n",
    "lastN = input(\"Enter your last name:\")\n",
    "\n",
    "print()\n",
    "print(f\"Returned: {create_name(firstN,lastN)}!!\")\n",
    "\n",
    "\n",
    "\n",
    "# all arguments in this function is POSITIONAL, MEANING the placement or order of the value in the argument needed to be in right places\n",
    "# in positional arguments (order of arguments is a must for better output)\n",
    "\n",
    "# 1. POSITIONAL, 2. Default, 3. keyword, 4. arbitrary\n"
   ]
  },
  {
   "cell_type": "markdown",
   "id": "bcf6d950-3e6c-4e0b-9850-bde06e45c1fa",
   "metadata": {
    "jp-MarkdownHeadingCollapsed": true
   },
   "source": [
    "# Default arguments (for function)"
   ]
  },
  {
   "cell_type": "code",
   "execution_count": null,
   "id": "a519712d-fe01-4ede-8f94-ec2e252ecd32",
   "metadata": {},
   "outputs": [],
   "source": [
    "# default arguments = A default value for certain parameters\n",
    "#                    default is used when that argument is omitted\n",
    "#                    make your functions more flexible,reduces # of arguments\n",
    "\n",
    "# 1. positional, 2. DEFAULT, 3. keyword, 4. arbitrary\n",
    "\n",
    "\n",
    "\n",
    "\n",
    "def net_price(list_price, discount=0, tax=0.05):\n",
    "    return list_price * (1-discount) * (1+tax)\n",
    "\n",
    "print(f\"Passing a value for list price only and both discount and tax having a default value: {net_price(500)}\")\n",
    "\n",
    "print(f\"Passing a value for list price and discount only and tax is having default value: {net_price(500, 0.10)}\")\n",
    "\n",
    "print(f\"Passing a value for list price, discount and tax:{net_price(500, 0.10,0)}\")\n",
    "\n",
    "\n",
    "# here if we have both positional and default arguments\n",
    "# the positional arguments must be in the first position of the argument or first order\n",
    "# and the default argument must be in the last position or last order\n",
    "\n",
    "# However, the positioning order of of the values when passing to this argument is still a must for better result"
   ]
  },
  {
   "cell_type": "markdown",
   "id": "79eeec98-9f95-4b0c-915e-57a6a70aafa1",
   "metadata": {
    "jp-MarkdownHeadingCollapsed": true
   },
   "source": [
    "# count up timer (using positional and default arguments)"
   ]
  },
  {
   "cell_type": "code",
   "execution_count": null,
   "id": "c36de99f-531d-40e9-bc85-f3eea8e95ed5",
   "metadata": {},
   "outputs": [],
   "source": [
    "import time\n",
    "\n",
    "def count(end, start=0): # here all positional argument(end) must be first in line and the last is the default argument(start)\n",
    "    for x in range(start,end+1):\n",
    "        print(x)\n",
    "        time.sleep(1) #to thread sleep for 1 second\n",
    "    print(\"DONE\")\n",
    "\n",
    "count(4)"
   ]
  },
  {
   "cell_type": "markdown",
   "id": "7353a914-0215-412d-b98e-3ff6e09a4bd0",
   "metadata": {
    "jp-MarkdownHeadingCollapsed": true
   },
   "source": [
    "# Keyword arguments / kwargs"
   ]
  },
  {
   "cell_type": "code",
   "execution_count": null,
   "id": "bd7517d5-f6b9-45ef-869b-4c775d735383",
   "metadata": {},
   "outputs": [],
   "source": [
    "# Keyword arguments / kwargs = an argument preceded by an identified (its like a dictionaries)\n",
    "#                             helps with readability\n",
    "#                             ORDER OF ARGUMENTS DOEN'T MATTER\n",
    "\n",
    "#                          1. positional, 2. Default, 3. KEYWORD, 4. arbitrary\n",
    "\n",
    "\n",
    "def hello(greetings,title,fName,lName):\n",
    "    print(f\"{greetings} {title} {fName} {lName}\")\n",
    "\n",
    "hello(\"Hello\", lName = \"Star\", fName = \"Patrick\", title = \"Mr.\") # here the order of the arguments doesnt matter where you place it\n",
    "                                                                  # (except the \"Hello\" since it's positional argument)\n",
    "print()\n",
    "\n",
    "# here again if were mixing positional and keyword arguments, positional arguments always needed to be in the FIRST ORDER\n",
    "# and all the keyword arguments is in the last order \n",
    "\n",
    "\n",
    "\n"
   ]
  },
  {
   "cell_type": "markdown",
   "id": "ea3ec367-7629-44ad-84e3-1b47fb2bf16b",
   "metadata": {
    "jp-MarkdownHeadingCollapsed": true
   },
   "source": [
    "# generate phone number"
   ]
  },
  {
   "cell_type": "code",
   "execution_count": 87,
   "id": "0bc5bb7d-88dc-4a97-8e51-35fca6a36062",
   "metadata": {},
   "outputs": [
    {
     "name": "stdout",
     "output_type": "stream",
     "text": [
      "63-123-456-7890\n"
     ]
    }
   ],
   "source": [
    "def get_phone_num(country, area, first, last):\n",
    "    return f\"{country}-{area}-{first}-{last}\"\n",
    "\n",
    "print(get_phone_num(country = 63, area = 123, first = 456 , last = 7890))"
   ]
  },
  {
   "cell_type": "markdown",
   "id": "ad5e37b8-1939-42ba-97fa-e2e9f5997d3f",
   "metadata": {},
   "source": [
    "# Arbitrary arguments (*args and **kwargs)"
   ]
  },
  {
   "cell_type": "code",
   "execution_count": 250,
   "id": "cb947aa0-a1f1-466b-b079-f9d671c98abd",
   "metadata": {},
   "outputs": [
    {
     "name": "stdout",
     "output_type": "stream",
     "text": [
      "Mr Neil Wayne Cruz \n",
      "26, Banuyo Street\n",
      "Project 3, Quezon City, 1102\n"
     ]
    }
   ],
   "source": [
    "#  *args    = allows you to pass multiple non-key arguments (positional)     # - (pack into a tuple)\n",
    "#  **kwargs = allows you to pass multiple keyword-arguments                  # - (pack into a dictionary)\n",
    "\n",
    "#           *unpacking operator\n",
    "\n",
    "#    1. positional, 2. default, 3,keyword, 4. ARBITRARY ARGUMENTS\n",
    "\n",
    "# --------------------- *args ----------------------\n",
    "\n",
    "# def add(*nums):\n",
    "#     total = 0\n",
    "#     for num in nums:\n",
    "#         total += num\n",
    "#     return total\n",
    "\n",
    "# print(add(1,2,3,4,5,6,7,8,9,10))\n",
    "\n",
    "# def disp_name(*names):\n",
    "#     for name in names:\n",
    "#         print(name, end = \" \")\n",
    "\n",
    "# disp_name(\"Mr.\", \"Neil\", \"Tubillara\", \"Cruz\")\n",
    "\n",
    "# --------------------- *args ----------------------\n",
    "\n",
    "\n",
    "# --------------------- *kwargs ----------------------\n",
    "\n",
    "# def print_address(**kwargs):\n",
    "#     for keys,values in kwargs.items():\n",
    "#         print(f\"Keys: {keys:9} : values: {values}\")\n",
    "\n",
    "# print_address(number   = 26 ,\n",
    "#               street   = \"Banuyo Street\" , \n",
    "#               city     = \"Quezon City\" , \n",
    "#               language = \"Filipino\",\n",
    "              # zip_code = 1102)\n",
    "\n",
    "# --------------------- *kwargs ----------------------\n",
    "\n",
    "\n",
    "\n",
    "\n",
    "# --------------------- *args and *kwargs ----------------------\n",
    "\n",
    "def shipping_label(*args , **kwargs):\n",
    "    for arg in args:\n",
    "        print(arg, end=\" \")\n",
    "    print()\n",
    "\n",
    "    if \"apt_num\" in kwargs and \"project_num\" in kwargs:\n",
    "        print(f\"{kwargs.get('number')}, {kwargs.get('street')}, {kwargs.get('apt_num')}\")\n",
    "        print(f\"{kwargs.get('project_num')}, {kwargs.get('city')}, {kwargs.get('zip_code')}\")  \n",
    "   \n",
    "    elif \"apt_num\" not in kwargs and \"project_num\" in kwargs:\n",
    "        print(f\"{kwargs.get('number')}, {kwargs.get('street')}\")\n",
    "        print(f\"{kwargs.get('project_num')}, {kwargs.get('city')}, {kwargs.get('zip_code')}\")\n",
    "    \n",
    "    elif \"apt_num\" in kwargs and \"project_num\" not in kwargs:\n",
    "        print(f\"{kwargs.get('number')}, {kwargs.get('street')}, {kwargs.get('apt_num')}\")\n",
    "        print(f\"{kwargs.get('city')}, {kwargs.get('zip_code')}\")\n",
    "    \n",
    "    else:\n",
    "        print(f\"{kwargs.get('number')}, {kwargs.get('street')}\")\n",
    "        print(f\"{kwargs.get('city')}, {kwargs.get('zip_code')}\")\n",
    "    \n",
    "shipping_label(\"Mr\", \"Neil Wayne\", \"Cruz\",\n",
    "              number = 26,\n",
    "              street = \"Banuyo Street\",\n",
    "              project_num = \"Project 3\",\n",
    "              city   = \"Quezon City\",\n",
    "              zip_code = 1102)\n",
    "\n",
    "# --------------------- *args and *kwargs ----------------------\n"
   ]
  },
  {
   "cell_type": "code",
   "execution_count": null,
   "id": "eb269abd-9acc-458c-b1e0-105f3688158d",
   "metadata": {},
   "outputs": [],
   "source": []
  }
 ],
 "metadata": {
  "kernelspec": {
   "display_name": "Python 3",
   "language": "python",
   "name": "python3"
  },
  "language_info": {
   "codemirror_mode": {
    "name": "ipython",
    "version": 3
   },
   "file_extension": ".py",
   "mimetype": "text/x-python",
   "name": "python",
   "nbconvert_exporter": "python",
   "pygments_lexer": "ipython3",
   "version": "3.12.7"
  }
 },
 "nbformat": 4,
 "nbformat_minor": 5
}
