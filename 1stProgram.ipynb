{
 "cells": [
  {
   "cell_type": "markdown",
   "id": "0aa1ac8a-0ebf-4512-a235-4f62fb0fc88f",
   "metadata": {},
   "source": [
    "# THIRD MEETING"
   ]
  },
  {
   "cell_type": "code",
   "execution_count": 282,
   "id": "d37a2430-2bf3-4360-bc74-45617199cd75",
   "metadata": {},
   "outputs": [
    {
     "name": "stdout",
     "output_type": "stream",
     "text": [
      "{453, 6, 23, 123, 12}\n"
     ]
    }
   ],
   "source": [
    "# SETS\n",
    "\n",
    "set1 = {23,23,123,12,453,6}\n",
    "print(set1.)"
   ]
  },
  {
   "cell_type": "code",
   "execution_count": 18,
   "id": "112de4d8-5027-464f-a561-9953ff257826",
   "metadata": {},
   "outputs": [
    {
     "name": "stdin",
     "output_type": "stream",
     "text": [
      "Enter a index key: 1\n",
      "Enter a key value: wayne\n",
      "Enter a index key: 2\n",
      "Enter a key value: wayne\n"
     ]
    },
    {
     "name": "stdout",
     "output_type": "stream",
     "text": [
      "dict_keys(['1', '2'])\n"
     ]
    }
   ],
   "source": [
    "dict1 = {}\n",
    "\n",
    "# values = dict1.values()\n",
    "# keys = dict1.keys()\n",
    "\n",
    "# print(values)\n",
    "# print(keys)\n",
    "\n",
    "# for i in range(3):\n",
    "#     a = input(\"Enter index key: \")\n",
    "#     b = input(\"Enter value for index: \")\n",
    "#     dict1.update({a:b})\n",
    "\n",
    "dict2 = dict()\n",
    "for j in range(2):\n",
    "    keys = input(\"Enter a index key:\")\n",
    "    values = input(\"Enter a key value:\")\n",
    "    dict2[keys] = values\n",
    "\n",
    "print(dict2.keys())\n",
    "    \n"
   ]
  },
  {
   "cell_type": "code",
   "execution_count": 256,
   "id": "e89697ee-807a-43d7-8879-ce6aef98656a",
   "metadata": {},
   "outputs": [
    {
     "name": "stdin",
     "output_type": "stream",
     "text": [
      "Enter something: 11111\n"
     ]
    },
    {
     "name": "stdout",
     "output_type": "stream",
     "text": [
      "('1', '1', '1', '1', '1')\n",
      "0\n"
     ]
    }
   ],
   "source": [
    "# TUPLES\n",
    "\n",
    "# tuple1 = (1,2,3,4,'a','abc')\n",
    "# tuple2 = ()\n",
    "\n",
    "# print(tuple1)\n",
    "\n",
    "tuple3 = tuple(input(\"Enter something:\"))\n",
    "print(tuple3)\n",
    "\n"
   ]
  },
  {
   "cell_type": "code",
   "execution_count": 6,
   "id": "4608ee3d-3691-4670-9fbc-50512e5254c8",
   "metadata": {},
   "outputs": [
    {
     "name": "stdout",
     "output_type": "stream",
     "text": [
      "[99, 53, 25, 20, 24, 16, 6, 4]\n"
     ]
    }
   ],
   "source": [
    "# LIST\n",
    "lst_list1 = [10,4,6,25,24]\n",
    "lst_list2 = []\n",
    "lst_list3 = list()\n",
    "lst_list1[0] = 16\n",
    "lst_list1[1] = 4\n",
    "lst_list1[4] = 24\n",
    "\n",
    "# for i in range(5):\n",
    "#     print(f\"LST_LIST1[{i}] = {lst_list1[i]}\")\n",
    "lst_list1.append(53)\n",
    "lst_list1.append(99)\n",
    "\n",
    "# lst_list1.sort()\n",
    "lst_list1.sort(reverse=True)\n",
    "lst_list1.insert(3,20)\n",
    "lst_list2.extend(lst_list1)\n",
    "\n",
    "# print(lst_list1)\n",
    "print(lst_list2)\n",
    "# print(lst_list3)"
   ]
  },
  {
   "cell_type": "code",
   "execution_count": 220,
   "id": "98a06de8-d4c1-4fae-8c6d-4d01d0063bfb",
   "metadata": {},
   "outputs": [
    {
     "name": "stdin",
     "output_type": "stream",
     "text": [
      "input number in list[0]: 1\n",
      "input number in list[1]: 2\n",
      "input number in list[2]: 3\n",
      "input number in list[3]: 4\n",
      "input number in list[4]: 5\n"
     ]
    },
    {
     "name": "stdout",
     "output_type": "stream",
     "text": [
      "[1, 2, 3, 4, 5]\n"
     ]
    }
   ],
   "source": [
    "# LIST\n",
    "# list2 = list(range(5))\n",
    "# for i in range(5):\n",
    "#     list2[i]= int(input(f\"Enter a number for list2[{i}]: \"))\n",
    "\n",
    "# print(list2)\n",
    "\n",
    "list3 = []\n",
    "for i in range(5):\n",
    "    list3.append(int(input(f\"input number in list[{i}]:\")))\n",
    "\n",
    "print(list3)\n",
    "\n",
    "# x = [x for x in range(10)]\n",
    "\n",
    "# print(x)"
   ]
  },
  {
   "cell_type": "code",
   "execution_count": null,
   "id": "fe29bf91-f64d-4855-be79-6dc849018240",
   "metadata": {
    "jp-MarkdownHeadingCollapsed": true
   },
   "outputs": [],
   "source": [
    "###### try:\n",
    "#     x = int(input(\"Enter a number for x: \"))\n",
    "#     y = int(input(\"Enter a number for y: \"))\n",
    "#     z = x / y\n",
    "#     print(z)\n",
    "# except ValueError:\n",
    "#     print(\"Please provide a valid input\")\n",
    "# except ZeroDivisionError:\n",
    "#     print(\"Attempt to divided by 0\")\n",
    "# except:\n",
    "#     print(\"Something went wrong\")\n",
    "# finally:\n",
    "#     print(\"Have a nice day\")\n",
    "\n",
    "\n",
    "# try:\n",
    "#     x = int(input(\"Enter a number for x: \"))\n",
    "#     y = int(input(\"Enter a number for y: \"))\n",
    "#     z = x / y\n",
    "#     print(z)\n",
    "# except Exception as z:\n",
    "#     print(f\"Error : {z}\")\n",
    "# finally:\n",
    "#     print(\"Have a nice day\")\n",
    "\n",
    "\n",
    "    "
   ]
  },
  {
   "cell_type": "code",
   "execution_count": 14,
   "id": "acac3e26-aa66-4f4e-8f1f-cbcc3d40112e",
   "metadata": {},
   "outputs": [
    {
     "name": "stdout",
     "output_type": "stream",
     "text": [
      "Requirement already satisfied: nbimporter in c:\\users\\neil wayne cruz\\anaconda3\\lib\\site-packages (0.3.4)\n",
      "Requirement already satisfied: nbimporter in c:\\users\\neil wayne cruz\\anaconda3\\lib\\site-packages (0.3.4)\n"
     ]
    }
   ],
   "source": [
    "%run myFunction.ipynb"
   ]
  },
  {
   "cell_type": "code",
   "execution_count": 34,
   "id": "f281f993-3f36-4741-8806-826451502cef",
   "metadata": {},
   "outputs": [
    {
     "name": "stdout",
     "output_type": "stream",
     "text": [
      "this is an example of a simple function\n",
      "this function does not accept and does not return any value\n",
      "square is 16\n",
      "5\n",
      "4\n",
      "TG = 72.0\n"
     ]
    }
   ],
   "source": [
    "simple()\n",
    "square(4)\n",
    "print(f1())\n",
    "print(product(2,2))\n",
    "tg(22,50)"
   ]
  },
  {
   "cell_type": "code",
   "execution_count": 12,
   "id": "a2839cd1-d5ad-453f-a1c0-16b989edc7a9",
   "metadata": {},
   "outputs": [],
   "source": [
    "def simple():\n",
    "    print(\"this is an example of a simple function\")\n",
    "    print(\"this function does not accept and does not return any value\")\n",
    "\n",
    "def square(x):\n",
    "    print(f\"square is {x*x}\")\n",
    "\n",
    "def f1():\n",
    "    return 5\n",
    "\n",
    "def product(x,y):\n",
    "    return x*y\n",
    "\n",
    "def tg(score,items):\n",
    "    transg = score * 50 / items + 50\n",
    "    print(\"TG =\", transg)"
   ]
  },
  {
   "cell_type": "markdown",
   "id": "33ec80f9-e20a-4c71-9c9b-94760fd62f02",
   "metadata": {
    "jp-MarkdownHeadingCollapsed": true
   },
   "source": [
    "# SECOND MEETING"
   ]
  },
  {
   "cell_type": "code",
   "execution_count": null,
   "id": "c9f5e74a-5bd1-4081-9874-7e2daf9303d3",
   "metadata": {},
   "outputs": [],
   "source": [
    "# ACT 3\n",
    "\n",
    "def grades(tg):\n",
    "    if (tg >= 97):\n",
    "        return 1.00\n",
    "    if (tg >= 94):\n",
    "        return 1.25\n",
    "    if (tg >= 91):\n",
    "        return 1.50\n",
    "    if (tg >= 88):\n",
    "        return 1.75\n",
    "    if (tg >= 85):\n",
    "        return 2.00\n",
    "    if (tg >= 82):\n",
    "        return 2.25\n",
    "    if (tg >= 79):\n",
    "        return 2.50\n",
    "    if (tg >= 76):\n",
    "        return 2.75\n",
    "    if (tg == 75):\n",
    "        return 3.00\n",
    "    if (tg == 74):\n",
    "        return 3.25\n",
    "    if (tg >= 72):\n",
    "        return 3.50\n",
    "    if (tg >= 70):\n",
    "        return 3.75\n",
    "    if (tg >= 65):\n",
    "        return 4.00\n",
    "    if (tg >= 60):\n",
    "        return 4.25\n",
    "    if (tg >= 58):\n",
    "        return 4.50\n",
    "    \n",
    "    return 5.00;\n",
    "\n",
    "\n",
    "\n",
    "choice = \"Y\"\n",
    "\n",
    "while choice == \"Y\":\n",
    "    score1 = 0.00\n",
    "    score2 = 0.00\n",
    "    no_items1 = 0\n",
    "    no_items2 = 0\n",
    "\n",
    "    while True:\n",
    "        score1 = float(input(\"QUIZ 1:\"))\n",
    "        no_items1 = int(input(\"No of items:\"))\n",
    "        print()\n",
    "\n",
    "        if(score1 > no_items1):\n",
    "            print(\"Score can't exceed No. of items. Please enter again.\\n\")\n",
    "        else:\n",
    "            break\n",
    "\n",
    "    while True:\n",
    "        score2 = float(input(\"QUIZ 2:\"))\n",
    "        no_items2 = int(input(\"No of items:\"))\n",
    "        print()\n",
    "            \n",
    "        if(score2 > no_items2):\n",
    "            print(\"Score can't exceed No. of items. Please enter again.\\n\")\n",
    "        else:\n",
    "            break\n",
    "\n",
    "    tg = ((score1 + score2) / (no_items1 + no_items2)) * 50 + 50;\n",
    "    ave = grades(tg)\n",
    "    percentage = ave * 0.35\n",
    "\n",
    "    print(f\"QUIZ AVERAGE: {ave:.2f}\")\n",
    "    print(f\"35% = {percentage:.2f}\\n\")\n",
    "\n",
    "    choice = input(\"CONTINUE[Y/N]:\")[0].upper()\n",
    "    print()\n",
    "\n",
    "    while choice not in [\"Y\", \"N\"]:\n",
    "        print(\"INVALID INPUT\")\n",
    "        choice = input(\"CONTINUE[Y/N]:\")[0].upper()\n",
    "        print()\n",
    "            "
   ]
  },
  {
   "cell_type": "code",
   "execution_count": null,
   "id": "6ef2b7c3-ee9c-4115-9082-f6292a35a619",
   "metadata": {},
   "outputs": [],
   "source": [
    "# act 2\n",
    "\n",
    "response = \"Y\"\n",
    "\n",
    "while response != \"N\":\n",
    "\n",
    "    try:\n",
    "        num1 = int(input(\"Enter first number: \"))\n",
    "        num2 = int(input(\"Enter second number: \"))\n",
    "    except:\n",
    "        print(\"Input is not a number!\")\n",
    "        continue\n",
    "\n",
    "    newnum = num2 + num1    \n",
    "    lastnum = num2\n",
    "\n",
    "    print(f\"{num1} {num2} \", end = \"\")\n",
    "    \n",
    "    for num in range(3, 7):\n",
    "        print(f\"{newnum} \", end = \"\")\n",
    "\n",
    "        temp = newnum\n",
    "        newnum = newnum + lastnum\n",
    "        lastnum = temp\n",
    "\n",
    "    response = input(\"Continue? [Y/N]\")[0].upper()\n",
    "\n",
    "    while response not in [\"Y\", \"N\"]:\n",
    "        print(\"Invalid response!\")\n",
    "        response = input(\"Continue? [Y/N]\")[0].upper()\n",
    "        "
   ]
  },
  {
   "cell_type": "code",
   "execution_count": 10,
   "id": "bed0a3c5-bf03-4946-8cfa-ceddfb8e7b2b",
   "metadata": {},
   "outputs": [
    {
     "ename": "SyntaxError",
     "evalue": "invalid syntax (431866719.py, line 31)",
     "output_type": "error",
     "traceback": [
      "\u001b[1;36m  Cell \u001b[1;32mIn[10], line 31\u001b[1;36m\u001b[0m\n\u001b[1;33m    choice = input(\"CONTINUE [Y/N]?:\")[0].upper().2\u001b[0m\n\u001b[1;37m                                                 ^\u001b[0m\n\u001b[1;31mSyntaxError\u001b[0m\u001b[1;31m:\u001b[0m invalid syntax\n"
     ]
    }
   ],
   "source": [
    "# ACT 1\n",
    "\n",
    "choice = \"Y\"\n",
    "\n",
    "while choice == \"Y\":\n",
    "    grading_system = \"\"\n",
    "    ave = 0.00\n",
    "    \n",
    "    q1 = float(input(\"FIRST QUARTER:\"))\n",
    "    q2 = float(input(\"SECOND QUARTER:\"))\n",
    "    q3 = float(input(\"THIRD QUARTER:\"))\n",
    "    q4 = float(input(\"FOURTH QUARTER:\"))\n",
    "    grading_system = input(\"GRADING SYSTEM [A-C]:\")[0].upper()\n",
    "    print()\n",
    "    if grading_system == \"A\":\n",
    "        print(\"AVERAGING\")\n",
    "        ave = ((q1 + q2 + q3 + q4)/4)\n",
    "        print(f\"AVERAGE = {ave:.2f}\\n\")\n",
    "    elif grading_system == \"B\":\n",
    "        print(\"WEIGHTED AVERAGING\")\n",
    "        ave = ((q1 * .2) + (q2 * .2) + (q3 * .2) + (q4 * .4))\n",
    "        print(f\"AVERAGE = {ave:.2f}\\n\")\n",
    "    elif grading_system == \"C\":\n",
    "        print(\"CUMULATIVE\")\n",
    "        ave = (q4)\n",
    "        print(f\"AVERAGE = {ave:.2f}\\n\")\n",
    "    else:\n",
    "        print(\"INVALID GRADING SYSTEM\")\n",
    "        print(f\"AVERAGE: {ave:.2f}\\n\")\n",
    "\n",
    "    choice = input(\"CONTINUE [Y/N]?:\")[0].upper()\n",
    "    if choice == \"N\":\n",
    "        break\n",
    "    if choice == \"Y\":\n",
    "        print()\n",
    "        continue\n",
    "    \n",
    "    while choice != \"Y\" and choice != \"N\":\n",
    "        print(\"INVALID INPUT\\n\")\n",
    "        choice = input(\"CONTINUE [Y/N]?:\")[0].upper()\n",
    "        print()"
   ]
  },
  {
   "cell_type": "code",
   "execution_count": null,
   "id": "20bffa73-1f3c-468e-8573-6f51c060985d",
   "metadata": {},
   "outputs": [],
   "source": [
    "pi = 3.14159\n",
    "\n",
    "pi2 = round(pi,3)\n",
    "\n",
    "# type(pi)\n",
    "\n",
    "print(pi)\n",
    "print(\"{:.3f}\".format(pi))\n",
    "print(pi2)\n",
    "\n",
    "print(f\"{pi:.2f}\")"
   ]
  },
  {
   "cell_type": "code",
   "execution_count": null,
   "id": "0c6c2ec9-561e-4e01-af3f-1984fca0df07",
   "metadata": {},
   "outputs": [],
   "source": [
    "word1 = \"the quick brownf fox\"\n",
    "letter = 'a'\n",
    "\n",
    "type(letter)\n",
    "lg = input(\"Enter a grade \").upper()[0]\n",
    "# lg = lg.upper()\n",
    "\n",
    "if lg == 'A':\n",
    "    print(\"Excellent\")\n",
    "elif lg == 'B':\n",
    "    print(\"VS\")\n",
    "elif lg == 'C':\n",
    "    print(\"Satisfactory\")\n",
    "elif lg == 'D':\n",
    "    print(\"Needs improvement\")\n",
    "elif lg == 'E':\n",
    "    print(\"Failed\")\n",
    "else:\n",
    "    print(\"Invalid letter grade\")"
   ]
  },
  {
   "cell_type": "code",
   "execution_count": null,
   "id": "1b03c38c-ce66-4364-8c1c-71dfd5bed063",
   "metadata": {},
   "outputs": [],
   "source": [
    "sum = 0\n",
    "# for i in range(1,6):\n",
    "#     print(f\"{i} \", end=\"\")\n",
    "#     sum += i\n",
    "#     if i == 5:\n",
    "#         break\n",
    "#     print(\"+ \", end=\"\")\n",
    "    \n",
    "# print(f\"= {sum}\")\n",
    "\n",
    "\n",
    "for i in range (1,6):\n",
    "    print(i, end=\" \")\n",
    "    sum += i\n",
    "    if i == 5:\n",
    "        break\n",
    "    print(\" + \", end=\" \")\n",
    "\n",
    "print(\" = \", sum)\n",
    "    "
   ]
  },
  {
   "cell_type": "markdown",
   "id": "46868741-b815-41d4-8ca8-6509108acf72",
   "metadata": {
    "jp-MarkdownHeadingCollapsed": true
   },
   "source": [
    "# FIRST MEETING"
   ]
  },
  {
   "cell_type": "code",
   "execution_count": null,
   "id": "0fcda41a-0f67-4b3a-b3e8-d197b9e17ee0",
   "metadata": {},
   "outputs": [],
   "source": [
    "amount = int(input(\"Enter amount: \"))\n",
    "\n",
    "print(\"Cash Denomination\")\n",
    "\n",
    "# 1521\n",
    "\n",
    "count1000 = amount / 1000\n",
    "amount %= 1000\n",
    "\n",
    "count500 = amount / 500\n",
    "amount %= 500\n",
    "\n",
    "count100 = amount / 100\n",
    "amount %= 100\n",
    "\n",
    "count50 = amount / 50\n",
    "amount %= 50\n",
    "\n",
    "count20 = amount / 20\n",
    "amount %= 20\n",
    "\n",
    "count10 = amount / 10\n",
    "amount %= 10\n",
    "\n",
    "count5 = amount / 5\n",
    "amount %= 5\n",
    "\n",
    "count1 = amount \n",
    "\n",
    "print(f\"1000 - {int(count1000)}\")\n",
    "print(f\"500 - {int(count500)}\")\n",
    "print(f\"100 - {int(count100)}\")\n",
    "print(f\"50 - {int(count50)}\")\n",
    "print(f\"20 - {int(count20)}\")\n",
    "print(f\"10 - {int(count10)}\")\n",
    "print(f\"5 - {int(count5)}\")\n",
    "print(f\"1 - {int(count1)}\")\n"
   ]
  },
  {
   "cell_type": "code",
   "execution_count": null,
   "id": "d8cb4115-8906-4fc0-bbcf-ee32b3a568bb",
   "metadata": {
    "ExecuteTime": {
     "end_time": "2025-03-03T13:56:48.229669Z",
     "start_time": "2025-03-03T13:56:39.253988Z"
    }
   },
   "outputs": [],
   "source": [
    "score = float(input(\"Enter score: \"))\n",
    "num_of_items = int(input(\"Enter number of items: \"))\n",
    "\n",
    "tg = score * 50/num_of_items + 50\n",
    "\n",
    "\n",
    "if tg >= 97 and tg <= 100:\n",
    "    eq = 1.00\n",
    "elif tg >= 94 and tg <= 96:\n",
    "    eq = 1.25\n",
    "elif tg >= 91 and tg <= 93:\n",
    "    eq = 1.5\n",
    "elif tg >= 88 and tg <= 90:\n",
    "    eq = 1.75\n",
    "elif tg >= 85 and tg <= 87:\n",
    "    eq = 2.0\n",
    "elif tg >= 82 and tg <= 84:\n",
    "    eq = 2.25\n",
    "elif tg >= 79 and tg <= 81:\n",
    "    eq = 2.50\n",
    "elif tg >= 76 and tg <= 78:\n",
    "    eq = 2.75\n",
    "elif tg == 75:\n",
    "    eq = 3.0\n",
    "elif tg == 74:\n",
    "    eq = 3.25\n",
    "elif tg >= 72 and tg <= 73:\n",
    "    eq = 3.5\n",
    "elif tg >= 70 and tg <= 71:\n",
    "    eq = 3.75\n",
    "elif tg >= 65 and tg <= 69:\n",
    "    eq = 4.0\n",
    "elif tg >= 60 and tg <= 64:\n",
    "    eq = 4.25\n",
    "elif tg >= 58 and tg <= 59:\n",
    "    eq = 4.5\n",
    "elif tg >= 50 and tg <= 57:\n",
    "    eq = 5.0\n",
    "    \n",
    "print(f\"Transmuted grade is {int(tg)}\")\n",
    "print(f\"Equivalent is {float(eq)}\")\n",
    "\n",
    "    "
   ]
  },
  {
   "cell_type": "code",
   "execution_count": null,
   "id": "b415af75-2314-4d4d-8e7e-c4e723e8c4bf",
   "metadata": {},
   "outputs": [],
   "source": [
    "score = float(input(\"Enter score: \"))\n",
    "num_of_items = int(input(\"Enter number of items: \"))\n",
    "\n",
    "tg = score * 50/num_of_items + 50\n",
    "\n",
    "\n",
    "if tg >= 97 and tg <= 100:\n",
    "    eq = 100.00\n",
    "elif tg >= 94 and tg <= 96:\n",
    "    eq = 1.25\n",
    "elif tg >= 91 and tg <= 93:\n",
    "    eq = 1.5\n",
    "elif tg >= 88 and tg <= 90:\n",
    "    eq = 1.75\n",
    "elif tg >= 85 and tg <= 87:\n",
    "    eq = 2.0\n",
    "elif tg >= 82 and tg <= 84:\n",
    "    eq = 2.25\n",
    "elif tg >= 79 and tg <= 81:\n",
    "    eq = 2.50\n",
    "elif tg >= 76 and tg <= 78:\n",
    "    eq = 2.75\n",
    "elif tg == 75:\n",
    "    eq = 3.0\n",
    "elif tg == 74:\n",
    "    eq = 3.25\n",
    "elif tg >= 72 and tg <= 73:\n",
    "    eq = 3.5\n",
    "elif tg >= 70 and tg <= 71:\n",
    "    eq = 3.75\n",
    "elif tg >= 65 and tg <= 69:\n",
    "    eq = 4.0\n",
    "elif tg >= 60 and tg <= 64:\n",
    "    eq = 4.25\n",
    "elif tg >= 58 and tg <= 59:\n",
    "    eq = 4.5\n",
    "elif tg >= 50 and tg <= 57:\n",
    "    eq = 5.0\n",
    "    \n",
    "print(f\"Transmuted grade is {int(tg)}\")\n",
    "print(f\"Equivalent is {float(eq)}\")\n",
    "\n",
    "    "
   ]
  },
  {
   "cell_type": "code",
   "execution_count": null,
   "id": "39f31d19-207f-4246-9419-d6f35cfb852e",
   "metadata": {
    "ExecuteTime": {
     "end_time": "2025-03-02T10:52:34.978156Z",
     "start_time": "2025-03-02T10:52:32.284719Z"
    }
   },
   "outputs": [],
   "source": [
    "num = int(input(\"Enter a number: \"))\n",
    "\n",
    "if num> 0:\n",
    "    print(\"It is POSITIVE\")\n",
    "    print(\"It is GREATER THAN 0\")\n",
    "elif num == 0:\n",
    "    print(\"It is ZERO\")\n",
    "else:\n",
    "    print(\"It is NEGATIVE\");\n",
    "    print(\"It is LESS THAN 0\")\n"
   ]
  },
  {
   "cell_type": "code",
   "execution_count": null,
   "id": "1b91ea66-da09-4699-90e5-2c14979bbd73",
   "metadata": {},
   "outputs": [],
   "source": [
    "print(\"BSIT 2-2\")\n",
    "print('INTE 202')\n",
    "print(\"\"\"PYTHON PROGRAMMING\"\"\")\n",
    "\n",
    "x = 5\n",
    "pi = 3.14159\n",
    "word = \"pup\"\n",
    "\n",
    "print(type(x))\n",
    "print(type(pi))\n",
    "print(type(word))\n",
    "x>14"
   ]
  },
  {
   "cell_type": "code",
   "execution_count": null,
   "id": "88868585-95b6-4a0e-8a04-09cbb588f73a",
   "metadata": {},
   "outputs": [],
   "source": [
    "# x = int(input(\"Enter a number: \"))\n",
    "\n",
    "# if x < 0:\n",
    "#     print(\"NEGATIVE\")\n",
    "# elif x == 0:\n",
    "#     print(\"IT IS A 0\")\n",
    "# else:\n",
    "#     print(\"POSITIVE\")\n",
    "\n",
    "name = input(\"Enter your name: \")\n",
    "age  = int(input(\"Enter your age: \"))\n",
    "\n",
    "print(\"Your name is \" + name)\n",
    "age + 10\n",
    "\n",
    "# int(age/2)\n",
    "\n",
    "print(int(age/2))\n"
   ]
  },
  {
   "cell_type": "code",
   "execution_count": null,
   "id": "3a31f892-e260-4d77-a776-4ead6231092f",
   "metadata": {},
   "outputs": [],
   "source": [
    "# Generate numbers from 1-10. Print the numbers\n",
    "# for i in range (1,11):\n",
    "#     print(i, end=\" \")\n",
    "\n",
    "# Generate all odd numbers from 1-15. Print the numbers\n",
    "# for i in range (1,16,2):\n",
    "#     print(i, end=\" \")\n",
    "\n",
    "# Generate numbers from 10-1. Print the numbers\n",
    "# for i in reversed(range(1,11)):\n",
    "#     print(i,end=\" \")\n",
    "\n",
    "# or\n",
    "# for i in range (10,0,-1):\n",
    "#     print(i,end=\" \")\n",
    "\n",
    "\n",
    "# Generate numbers from 1-10. Print the numbers and their sum\n",
    "\n",
    "# sum_result = 0\n",
    "\n",
    "# for i in range(1,11):\n",
    "#     if i == 10:\n",
    "#         print(i)\n",
    "#     else:\n",
    "#         print(i,end=\" + \")\n",
    "#         sum_result +=i\n",
    "\n",
    "# print(f\"Sum = {sum_result}\")\n",
    "        \n"
   ]
  },
  {
   "cell_type": "code",
   "execution_count": null,
   "id": "af78ee55-fca0-479b-a4d3-6860e2c4e61e",
   "metadata": {},
   "outputs": [],
   "source": [
    "# while loops\n",
    "\n",
    "# Input a number in x. Print the square of x. Continue the process until x is 0\n",
    "\n",
    "# number = 1\n",
    "\n",
    "# while number != 0:\n",
    "#     number = int(input(\"Enter a number:\"))\n",
    "#     square = pow(number,2)\n",
    "#     if number == 0:\n",
    "#         break\n",
    "#     else:\n",
    "#         print(f\"Square of {number:,} is {square:,}\\n\")\n",
    "\n",
    "# print(\"end of program\")\n",
    "\n",
    "# Same problem, Continue the process until response in N or n\n",
    "\n",
    "# number = \"\"\n",
    "# while number != \"N\" or number != \"n\":\n",
    "#     number = input(\"Enter a number:\")\n",
    "#     if number == \"N\" or number == \"n\":\n",
    "#         break\n",
    "#     square = pow(int(number),2)\n",
    "#     print(f\"Square of {int(number):,} is {square:,}\\n\")\n",
    "\n",
    "# print(\"end of program\")\n"
   ]
  },
  {
   "cell_type": "code",
   "execution_count": null,
   "id": "7afabacc-82c4-4e4f-8b0e-62aabc16e837",
   "metadata": {},
   "outputs": [],
   "source": [
    "# def get_number(number):\n",
    "#     print(number)\n",
    "\n",
    "\n",
    "# number = 20\n",
    "# get_number(number)\n",
    "\n",
    "# def input_number():\n",
    "#     number = float(input(\"Enter a number:\"))\n",
    "#     return number\n",
    "\n",
    "# number = input_number()\n",
    "# print(number)\n",
    "\n",
    "\n",
    "# def sum_result(result,i):\n",
    "#     return result + i\n",
    "\n",
    "# result = 0\n",
    "# for i in range (1,11):\n",
    "#     result = sum_result(result,i)\n",
    "\n",
    "# print(result)\n",
    "    \n"
   ]
  },
  {
   "cell_type": "code",
   "execution_count": null,
   "id": "82d035fc-4621-4c7b-995f-32a0814f6504",
   "metadata": {},
   "outputs": [],
   "source": [
    "def is_pangram(sentence):\n",
    "    alphabet = set(\"abcdefghijklmnopqrstuvwxyz\")\n",
    "    return alphabet.issubset(set(sentence.lower()))\n",
    "\n",
    "# Example Usage\n",
    "sentence = input(\"Enter a sentence: \")\n",
    "if is_pangram(sentence):\n",
    "    print(\"The sentence is a pangram.\")\n",
    "else:\n",
    "    print(\"The sentence is NOT a pangram.\")\n"
   ]
  },
  {
   "cell_type": "code",
   "execution_count": null,
   "id": "03316df7-d0a8-44ef-8d12-2cb85b2f47cb",
   "metadata": {},
   "outputs": [],
   "source": [
    "import os\n",
    "print(os.getcwd())  # Check the current working directory\n"
   ]
  },
  {
   "cell_type": "code",
   "execution_count": null,
   "id": "d19a4ba0-d3c5-43f0-a478-6795461caed9",
   "metadata": {
    "ExecuteTime": {
     "end_time": "2025-03-14T22:32:53.450771Z",
     "start_time": "2025-03-14T22:32:51.057345Z"
    }
   },
   "outputs": [],
   "source": [
    "%run myFunction.ipynb\n",
    "\n",
    "print(square(35))\n",
    "print(prod(45, 45))\n",
    "print(sum(67, 34))\n",
    "print(transg(7, 15))"
   ]
  },
  {
   "cell_type": "code",
   "execution_count": null,
   "id": "939779b7-b3b0-482c-8a8e-16681d156811",
   "metadata": {},
   "outputs": [],
   "source": []
  }
 ],
 "metadata": {
  "kernelspec": {
   "display_name": "Python 3",
   "language": "python",
   "name": "python3"
  },
  "language_info": {
   "codemirror_mode": {
    "name": "ipython",
    "version": 3
   },
   "file_extension": ".py",
   "mimetype": "text/x-python",
   "name": "python",
   "nbconvert_exporter": "python",
   "pygments_lexer": "ipython3",
   "version": "3.12.7"
  }
 },
 "nbformat": 4,
 "nbformat_minor": 5
}
