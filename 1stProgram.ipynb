{
 "cells": [
  {
   "cell_type": "code",
   "execution_count": 1,
   "id": "0fcda41a-0f67-4b3a-b3e8-d197b9e17ee0",
   "metadata": {},
   "outputs": [
    {
     "name": "stdin",
     "output_type": "stream",
     "text": [
      "Enter amount:  1887\n"
     ]
    },
    {
     "name": "stdout",
     "output_type": "stream",
     "text": [
      "Cash Denomination\n",
      "1000 - 1\n",
      "500 - 1\n",
      "100 - 3\n",
      "50 - 1\n",
      "20 - 1\n",
      "10 - 1\n",
      "5 - 1\n",
      "1 - 2\n"
     ]
    }
   ],
   "source": [
    "amount = int(input(\"Enter amount: \"))\n",
    "\n",
    "print(\"Cash Denomination\")\n",
    "\n",
    "# 1521\n",
    "\n",
    "count1000 = amount / 1000\n",
    "amount %= 1000\n",
    "\n",
    "count500 = amount / 500\n",
    "amount %= 500\n",
    "\n",
    "count100 = amount / 100\n",
    "amount %= 100\n",
    "\n",
    "count50 = amount / 50\n",
    "amount %= 50\n",
    "\n",
    "count20 = amount / 20\n",
    "amount %= 20\n",
    "\n",
    "count10 = amount / 10\n",
    "amount %= 10\n",
    "\n",
    "count5 = amount / 5\n",
    "amount %= 5\n",
    "\n",
    "count1 = amount \n",
    "\n",
    "print(f\"1000 - {int(count1000)}\")\n",
    "print(f\"500 - {int(count500)}\")\n",
    "print(f\"100 - {int(count100)}\")\n",
    "print(f\"50 - {int(count50)}\")\n",
    "print(f\"20 - {int(count20)}\")\n",
    "print(f\"10 - {int(count10)}\")\n",
    "print(f\"5 - {int(count5)}\")\n",
    "print(f\"1 - {int(count1)}\")\n"
   ]
  },
  {
   "cell_type": "code",
   "id": "d8cb4115-8906-4fc0-bbcf-ee32b3a568bb",
   "metadata": {
    "ExecuteTime": {
     "end_time": "2025-03-03T13:56:48.229669Z",
     "start_time": "2025-03-03T13:56:39.253988Z"
    }
   },
   "source": [
    "score = float(input(\"Enter score: \"))\n",
    "num_of_items = int(input(\"Enter number of items: \"))\n",
    "\n",
    "tg = score * 50/num_of_items + 50\n",
    "\n",
    "\n",
    "if tg >= 97 and tg <= 100:\n",
    "    eq = 1.00\n",
    "elif tg >= 94 and tg <= 96:\n",
    "    eq = 1.25\n",
    "elif tg >= 91 and tg <= 93:\n",
    "    eq = 1.5\n",
    "elif tg >= 88 and tg <= 90:\n",
    "    eq = 1.75\n",
    "elif tg >= 85 and tg <= 87:\n",
    "    eq = 2.0\n",
    "elif tg >= 82 and tg <= 84:\n",
    "    eq = 2.25\n",
    "elif tg >= 79 and tg <= 81:\n",
    "    eq = 2.50\n",
    "elif tg >= 76 and tg <= 78:\n",
    "    eq = 2.75\n",
    "elif tg == 75:\n",
    "    eq = 3.0\n",
    "elif tg == 74:\n",
    "    eq = 3.25\n",
    "elif tg >= 72 and tg <= 73:\n",
    "    eq = 3.5\n",
    "elif tg >= 70 and tg <= 71:\n",
    "    eq = 3.75\n",
    "elif tg >= 65 and tg <= 69:\n",
    "    eq = 4.0\n",
    "elif tg >= 60 and tg <= 64:\n",
    "    eq = 4.25\n",
    "elif tg >= 58 and tg <= 59:\n",
    "    eq = 4.5\n",
    "elif tg >= 50 and tg <= 57:\n",
    "    eq = 5.0\n",
    "    \n",
    "print(f\"Transmuted grade is {int(tg)}\")\n",
    "print(f\"Equivalent is {float(eq)}\")\n",
    "\n",
    "    "
   ],
   "outputs": [
    {
     "name": "stdout",
     "output_type": "stream",
     "text": [
      "Transmuted grade is 94\n",
      "Equivalent is 1.25\n"
     ]
    }
   ],
   "execution_count": 2
  },
  {
   "cell_type": "code",
   "execution_count": null,
   "id": "b415af75-2314-4d4d-8e7e-c4e723e8c4bf",
   "metadata": {},
   "outputs": [],
   "source": [
    "score = float(input(\"Enter score: \"))\n",
    "num_of_items = int(input(\"Enter number of items: \"))\n",
    "\n",
    "tg = score * 50/num_of_items + 50\n",
    "\n",
    "\n",
    "if tg >= 97 and tg <= 100:\n",
    "    eq = 100.00\n",
    "elif tg >= 94 and tg <= 96:\n",
    "    eq = 1.25\n",
    "elif tg >= 91 and tg <= 93:\n",
    "    eq = 1.5\n",
    "elif tg >= 88 and tg <= 90:\n",
    "    eq = 1.75\n",
    "elif tg >= 85 and tg <= 87:\n",
    "    eq = 2.0\n",
    "elif tg >= 82 and tg <= 84:\n",
    "    eq = 2.25\n",
    "elif tg >= 79 and tg <= 81:\n",
    "    eq = 2.50\n",
    "elif tg >= 76 and tg <= 78:\n",
    "    eq = 2.75\n",
    "elif tg == 75:\n",
    "    eq = 3.0\n",
    "elif tg == 74:\n",
    "    eq = 3.25\n",
    "elif tg >= 72 and tg <= 73:\n",
    "    eq = 3.5\n",
    "elif tg >= 70 and tg <= 71:\n",
    "    eq = 3.75\n",
    "elif tg >= 65 and tg <= 69:\n",
    "    eq = 4.0\n",
    "elif tg >= 60 and tg <= 64:\n",
    "    eq = 4.25\n",
    "elif tg >= 58 and tg <= 59:\n",
    "    eq = 4.5\n",
    "elif tg >= 50 and tg <= 57:\n",
    "    eq = 5.0\n",
    "    \n",
    "print(f\"Transmuted grade is {int(tg)}\")\n",
    "print(f\"Equivalent is {float(eq)}\")\n",
    "\n",
    "    "
   ]
  },
  {
   "cell_type": "code",
   "id": "39f31d19-207f-4246-9419-d6f35cfb852e",
   "metadata": {
    "ExecuteTime": {
     "end_time": "2025-03-02T10:52:34.978156Z",
     "start_time": "2025-03-02T10:52:32.284719Z"
    }
   },
   "source": [
    "num = int(input(\"Enter a number: \"))\n",
    "\n",
    "if num> 0:\n",
    "    print(\"It is POSITIVE\")\n",
    "    print(\"It is GREATER THAN 0\")\n",
    "elif num == 0:\n",
    "    print(\"It is ZERO\")\n",
    "else:\n",
    "    print(\"It is NEGATIVE\");\n",
    "    print(\"It is LESS THAN 0\")\n"
   ],
   "outputs": [
    {
     "name": "stdout",
     "output_type": "stream",
     "text": [
      "It is POSITIVE\n",
      "It is GREATER THAN 0\n"
     ]
    }
   ],
   "execution_count": 4
  },
  {
   "cell_type": "code",
   "execution_count": 40,
   "id": "1b91ea66-da09-4699-90e5-2c14979bbd73",
   "metadata": {},
   "outputs": [
    {
     "name": "stdout",
     "output_type": "stream",
     "text": [
      "BSIT 2-2\n",
      "INTE 202\n",
      "PYTHON PROGRAMMING\n",
      "<class 'int'>\n",
      "<class 'float'>\n",
      "<class 'str'>\n"
     ]
    },
    {
     "data": {
      "text/plain": [
       "False"
      ]
     },
     "execution_count": 40,
     "metadata": {},
     "output_type": "execute_result"
    }
   ],
   "source": [
    "print(\"BSIT 2-2\")\n",
    "print('INTE 202')\n",
    "print(\"\"\"PYTHON PROGRAMMING\"\"\")\n",
    "\n",
    "x = 5\n",
    "pi = 3.14159\n",
    "word = \"pup\"\n",
    "\n",
    "print(type(x))\n",
    "print(type(pi))\n",
    "print(type(word))\n",
    "x>14"
   ]
  },
  {
   "cell_type": "code",
   "execution_count": 56,
   "id": "88868585-95b6-4a0e-8a04-09cbb588f73a",
   "metadata": {},
   "outputs": [
    {
     "name": "stdin",
     "output_type": "stream",
     "text": [
      "Enter your name:  Neil\n",
      "Enter your age:  19\n"
     ]
    },
    {
     "name": "stdout",
     "output_type": "stream",
     "text": [
      "Your name is Neil\n",
      "9\n"
     ]
    }
   ],
   "source": [
    "# x = int(input(\"Enter a number: \"))\n",
    "\n",
    "# if x < 0:\n",
    "#     print(\"NEGATIVE\")\n",
    "# elif x == 0:\n",
    "#     print(\"IT IS A 0\")\n",
    "# else:\n",
    "#     print(\"POSITIVE\")\n",
    "\n",
    "name = input(\"Enter your name: \")\n",
    "age  = int(input(\"Enter your age: \"))\n",
    "\n",
    "print(\"Your name is \" + name)\n",
    "age + 10\n",
    "\n",
    "# int(age/2)\n",
    "\n",
    "print(int(age/2))\n"
   ]
  },
  {
   "cell_type": "code",
   "execution_count": null,
   "id": "3a31f892-e260-4d77-a776-4ead6231092f",
   "metadata": {},
   "outputs": [],
   "source": []
  },
  {
   "cell_type": "code",
   "execution_count": null,
   "id": "af78ee55-fca0-479b-a4d3-6860e2c4e61e",
   "metadata": {},
   "outputs": [],
   "source": []
  }
 ],
 "metadata": {
  "kernelspec": {
   "display_name": "Python 3",
   "language": "python",
   "name": "python3"
  },
  "language_info": {
   "codemirror_mode": {
    "name": "ipython",
    "version": 3
   },
   "file_extension": ".py",
   "mimetype": "text/x-python",
   "name": "python",
   "nbconvert_exporter": "python",
   "pygments_lexer": "ipython3",
   "version": "3.12.7"
  }
 },
 "nbformat": 4,
 "nbformat_minor": 5
}
