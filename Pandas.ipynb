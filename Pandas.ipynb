{
 "cells": [
  {
   "cell_type": "markdown",
   "id": "700945cf",
   "metadata": {},
   "source": [
    "# PANDAS BASICS"
   ]
  },
  {
   "cell_type": "code",
   "execution_count": null,
   "id": "413c39f9",
   "metadata": {},
   "outputs": [],
   "source": [
    "import pandas as pd # pd is the alias for pandas library\n",
    "\n",
    "# This script reads a CSV file containing student data and displays it as a DataFrame\n",
    "# Make sure to have pandas installed in your Python environment\n",
    "\n",
    "#df means DataFrame, which is a 2-dimensional labeled data structure with columns of potentially different types (rows,cols)\n",
    "df = pd.read_csv(\"student_data.csv\") # this file should contain student data with columns like 'Name', 'Age', 'Grade' # this is to read the CSV file into a DataFrame\n",
    "\n",
    "# df               # to output the DataFrame to the console or use print(df) to display it\n",
    "\n",
    "# print(df.shape)  # this will print the shape of the DataFrame, which is a tuple REPRESENTING NUMBER OF ROWS AND COLUMNS\n",
    "\n",
    "# df.info()        # this method prints a concise summary of the DataFrame, including the number of non-null entries and data types of each column, int32 for integers, \n",
    "                   # float64 for floating-point numbers, and object for strings or mixed types\n",
    "\n",
    "# pd.set_option('display.max_columns', 12)  # this line sets the option to display all columns in the DataFrame when printed (you can manipulate this number based on your DataFrame's width)\n",
    "# pd.set_option('display.max_rows', 21)  # this line sets the option to display a maximum of 20 rows in the DataFrame when printed\n",
    "\n",
    "# df.head(10)  # this will display the first 10 rows of the DataFrame, which is useful for quickly inspecting the data, if we don't specify a number, it defaults to 5\n",
    "# df.tail(10)  # this will display the last 10 rows of the DataFrame, useful for checking the end of the data, if we don't specify a number, it defaults to 5\n",
    " \n"
   ]
  },
  {
   "cell_type": "code",
   "execution_count": null,
   "id": "85f57aa4",
   "metadata": {},
   "outputs": [],
   "source": [
    "import pandas as pd\n",
    "\n",
    "\n",
    "# think DataFrame as a table with rows and columns, where each column can have different data types, EACH KEYS REPRESENTS A COLUMN HEADING and EACH VALUE IS A LIST OF VALUES FOR THAT COLUMN\n",
    "df = pd.DataFrame(\n",
    "    {\n",
    "        \"First Name\" : [\"Neil\", \"Winter\", \"John\", \"Doe\", \"Jane\"],\n",
    "        \"Last Name\"  : [\"Armstrong\", \"Smith\", \"Doe\", \"Johnson\", \"Doe\"], \n",
    "        \"Age\"        : [20, 3, 22, 28, 24],\n",
    "        \"Grade\"      : ['A', 'B+', 'C', 'D', 'A']\n",
    "    }\n",
    ")\n",
    "# df['Age']                          # this will access the 'Age' column of the DataFrame, returning a Series object containing the ages of the students\n",
    "# df['First Name']                   # this will access the 'First Name' column of the DataFrame, returning a Series object containing the first names of the students\n",
    "# df['Last Name']                    # this will access the 'Last Name' column of the DataFrame, returning a Series object containing the last names of the students\n",
    "# df[['First Name']]                 # this will access the 'First Name' column, returning a DataFrame with only that column\n",
    "# df[['First Name', 'Last Name']]      # this will access multiple columns, returning a DataFrame with only the specified columns\n",
    "\n",
    "# df.columns           # this will return the column names of the DataFrame as an Index object, which is similar to a list of column names\n",
    "# df.loc[2]            # this will access the row at index 2 (the third row) of the DataFrame, returning a Series object containing the data for that row\n",
    "# df.loc[[2]]         # this will access the row at index 2, but returns a DataFrame with that single row, useful for maintaining the DataFrame structure\n",
    "# df.iloc[2]           # this will also access the row at index 2, but using integer-location based indexing, which is useful for accessing rows by their position\n",
    "# df.iloc[[4],[2]]     # df.iloc[[for rows],[for columns]] this will access specific rows and columns by their integer index positions, returning a DataFrame with the specified rows and columns\n",
    "# df.iloc[0:,2:4]      # df.iloc[for rows:rows, columns:columns] this will access all rows and the columns from index 2 to 3 (inclusive of 2, exclusive of 4), returning a DataFrame with the specified rows and columns\n",
    "\n",
    "# df.loc[[0,1,3], ['Grade','Age']]  # this will access the first two rows and the first two columns, returning a DataFrame with those specific rows and columns\n",
    "\n",
    "\n",
    "\n"
   ]
  },
  {
   "cell_type": "code",
   "execution_count": null,
   "id": "a1c3382c",
   "metadata": {},
   "outputs": [],
   "source": [
    "import pandas as pd\n",
    "\n",
    "df = pd.read_csv(\"student_data.csv\")  # Read the CSV file into a DataFrame\n",
    "\n",
    "# df.shape\n",
    "# # df.columns\n",
    "# df['Uzumaki'].value_counts() # This will count the occurrences of each unique value in the 'Uzumaki' column\n",
    "# df['Uzumaki'].unique()  # This will return the unique values in the 'Uzumaki' column\n",
    "# df['Uzumaki'].nunique()  # This will return the number of unique values in the 'Uzumaki' column\n",
    "# df['Uzumaki'].isnull()  # This will return a boolean Series indicating whether each value in the 'Uzumaki' column is null (NaN)\n",
    "# df['Uzumaki'].notnull()  # This will return a boolean Series indicating whether each value in the 'Uzumaki' column is not null (not NaN)\n",
    "\n",
    "df.iloc[0:2]\n",
    "\n"
   ]
  },
  {
   "cell_type": "code",
   "execution_count": null,
   "id": "0b33164b",
   "metadata": {},
   "outputs": [],
   "source": [
    "pd.set_option('display.max_rows', 21)\n",
    "df.head(21)"
   ]
  }
 ],
 "metadata": {
  "kernelspec": {
   "display_name": "Python 3",
   "language": "python",
   "name": "python3"
  },
  "language_info": {
   "codemirror_mode": {
    "name": "ipython",
    "version": 3
   },
   "file_extension": ".py",
   "mimetype": "text/x-python",
   "name": "python",
   "nbconvert_exporter": "python",
   "pygments_lexer": "ipython3",
   "version": "3.13.2"
  }
 },
 "nbformat": 4,
 "nbformat_minor": 5
}
